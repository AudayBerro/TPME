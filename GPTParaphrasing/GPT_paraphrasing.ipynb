{
 "cells": [
  {
   "cell_type": "markdown",
   "id": "67976851-721f-4d7c-bfbf-c0920d84e31d",
   "metadata": {},
   "source": [
    "# <div style=\"background-color: lightgreen; padding: 10px;\">Generation of paraphrases with GPT for Restaurant intents</div>"
   ]
  },
  {
   "cell_type": "code",
   "execution_count": 1,
   "id": "9343ddef-0e31-4c02-8014-628c0e86b69b",
   "metadata": {},
   "outputs": [
    {
     "name": "stdout",
     "output_type": "stream",
     "text": [
      "Current working directory: /home/berro/Desktop/taxonomy_erro_model_execution/GPT_paraphrasing\n"
     ]
    }
   ],
   "source": [
    "import os\n",
    "import pathlib\n",
    "import random\n",
    "\n",
    "# let's just make sure we are at the root\n",
    "os.chdir(pathlib.Path().absolute().parent)\n",
    "current_directory = os.getcwd()\n",
    "new_directory = f\"{current_directory}/GPT_paraphrasing\"\n",
    "os.chdir(new_directory)\n",
    "print(f\"Current working directory: {os.getcwd()}\")"
   ]
  },
  {
   "cell_type": "code",
   "execution_count": 2,
   "id": "9780a4aa-4a4d-484e-96c3-067aa5d38fa3",
   "metadata": {},
   "outputs": [],
   "source": [
    "import pandas as pd\n",
    "from tqdm import tqdm\n",
    "import time\n",
    "\n",
    "import gpt_utility"
   ]
  },
  {
   "cell_type": "markdown",
   "id": "d8b06dfb-e77c-423f-b60b-b23bb861f55d",
   "metadata": {},
   "source": [
    "## OpenAI credentials\n",
    "Replace with your GPT API key and endpoint URL"
   ]
  },
  {
   "cell_type": "code",
   "execution_count": 3,
   "id": "4536a8c8-2c03-493d-a645-2a4e471b61aa",
   "metadata": {},
   "outputs": [],
   "source": [
    "# Replace with your personal GPT API key\n",
    "API_KEY = \"INSERT_YOUR_OPENAI_APT_KEY\"\n",
    "\n",
    "gpt_utility.define_credential(API_KEY)"
   ]
  },
  {
   "cell_type": "markdown",
   "id": "f6389e19-c0d4-432f-8cfc-ecf88d98b8df",
   "metadata": {},
   "source": [
    "### <div style=\"background-color: lightblue; padding: 10px;\">Main generation function</div>"
   ]
  },
  {
   "cell_type": "code",
   "execution_count": 5,
   "id": "489bebe7-6631-47f4-b56b-6acba603916e",
   "metadata": {},
   "outputs": [],
   "source": [
    "def run_generation(df, output_file):\n",
    "    \"\"\"\n",
    "    Generate paraphrases for each utterance in the input dataframe.\n",
    "\n",
    "    Parameters:\n",
    "        df (pandas DataFrame): Input dataframe with the following columns: 'utterance', 'list_of_slots'.\n",
    "        output_file (str): The filename for saving the paraphrases.\n",
    "\n",
    "    Returns:\n",
    "        None\n",
    "\n",
    "    The function generates paraphrases for each row in the input dataframe, utilizing GPT-based paraphrasing.\n",
    "    It crafts prompts, invokes GPT, and collects paraphrases, handling potential issues such as nan values\n",
    "    and incomplete generations. The resulting paraphrases are saved to a CSV file for data persistence.\n",
    "\n",
    "    Note:\n",
    "        The function relies on external utility functions from the 'gpt_utility' module.\n",
    "\n",
    "    Example:\n",
    "        run_generation(df=my_dataframe, output_file=\"paraphrases_output.csv\")\n",
    "    \"\"\"\n",
    "    # Set the number of paraphrases to generate per prompt\n",
    "    num_paraphrases = 10\n",
    "    \n",
    "    start_time = time.time()# Record the start time for performance evaluation\n",
    "    \n",
    "    result = list()# Initialize an empty list to store paraphrases\n",
    "\n",
    "    # Iterate through each row in the dataframe\n",
    "    for index, row in tqdm(df.iterrows(), total=df.shape[0], position=0, leave=True):\n",
    "        # Step 1: Crafting Prompts for each seed_utterance\n",
    "        prompt = gpt_utility.build_paraphrasing_prompt(row['utterance'], num_paraphrases)\n",
    "        print(prompt)\n",
    "        sys.exit()\n",
    "    \n",
    "        # Step 2: Invoke GPT with the built prompt\n",
    "        # Handle issues such as nan values and incomplete generations\n",
    "        # To prevent the occurrence of nan values, we set a maximum attempt limit.\n",
    "        # This issue arises from GPT's token limit, particularly when the seed utterances are lengthy.\n",
    "        # When generating more than 5 paraphrases, incomplete generation can happen.\n",
    "        # For instance, if we aim to generate 10 paraphrases, we might end up with only 6\n",
    "        attempts = 0\n",
    "        max_attempts = 5\n",
    "        collected_num_paraphrases = []\n",
    "\n",
    "        # Initialize tqdm for the attempts loop\n",
    "        with tqdm(total=max_attempts, desc=f\"Attempt {attempts+1}\", position=1, leave=False) as attempts_bar:\n",
    "            while attempts < max_attempts:\n",
    "                # Generate paraphrases\n",
    "                paraphrases = gpt_utility.generate_paraphrases_with_retry(prompt, 10)\n",
    "\n",
    "                # Check if GPT returned the specified number of paraphrases\n",
    "                paraphrases = gpt_utility.checkgpt_generation_not_empty(paraphrases, num_paraphrases)\n",
    "\n",
    "                # Check if the paraphrases list contains at least one nan value\n",
    "                if any(pd.isna(p) for p in paraphrases):\n",
    "                    # Collect non-nan candidates for further attempts\n",
    "                    collected_num_paraphrases.extend([p for p in paraphrases if not pd.isna(p)])\n",
    "                    collected_num_paraphrases = list(set(collected_num_paraphrases))\n",
    "\n",
    "                    if len(collected_num_paraphrases) >= num_paraphrases:\n",
    "                        # Randomly select the required number of paraphrases\n",
    "                        paraphrases = random.sample(collected_num_paraphrases, num_paraphrases)\n",
    "                        break\n",
    "                    else:\n",
    "                        attempts_bar.set_postfix(status=f\"Retry: Some paraphrases contain nan values\")\n",
    "                        attempts_bar.update(1)\n",
    "                else:\n",
    "                    break\n",
    "\n",
    "                attempts += 1  # Increment the attempts counter\n",
    "                attempts_bar.update(1)\n",
    "            \n",
    "        # Step 3: Extract paraphrases and append to the result list\n",
    "        for p in paraphrases:\n",
    "            result.append([row['utterance'], p, row['list_of_slots']])\n",
    "    \n",
    "    print()\n",
    "    print(f\"Paraphrasing has been successfully accomplished.\")\n",
    "    print()\n",
    "    \n",
    "    # Create a dataframe from the result list\n",
    "    column_names = [\"utterance\", \"paraphrase\", \"list_of_entities\"]\n",
    "    df_result = pd.DataFrame(result, columns=column_names)\n",
    "    \n",
    "    # Save the dataframe to a CSV file for data persistence\n",
    "    current_time = time.strftime(\"%Y%m%d-%H%M%S\")\n",
    "    path_to_output_file = os.path.join(os.getcwd(), output_file)\n",
    "    df_result.to_csv(path_to_output_file, index=False)messages =[\n",
    "\t\t{\n",
    "\t\t\t\"role\": \" system \",\n",
    "\t\t\t\" content \": \"You are a paraphrase generation model. Given an input sentence, generate diverse and coherent paraphrases while maintaining the original meaning.\"\n",
    "\t\t},\n",
    "\t\t{\n",
    "\t\t\t\"role\": \"user\",\n",
    "\t\t\t\"content\": \n",
    "\t\t\t\t\"Generate 10 paraphrases for the following sentence: Will it be  snowy  on  february the 14th, 2021  in  Port Armstrong ?.\\n\"\\\n",
    "\t\t\t\t\"Provide your response in a JSON format. Do not provide any additional information except the JSON. Your JSON response should respect this structure:\"\\\n",
    "\t\t\t\t\"  {'paraphrases': ['paraphrase_1', 'paraphrase_2', Ellipsis, 'paraphrase_n']}\\n\\n\"\n",
    "\t\t}\n",
    "\t]"
   ]
  },
  {
   "cell_type": "markdown",
   "id": "6a286626-f84a-4fd2-9622-e74fac80e4d8",
   "metadata": {},
   "source": [
    "### <div style=\"background-color: #FFBB5C; padding: 10px;\">Run the generation for weather intent</div>"
   ]
  },
  {
   "cell_type": "code",
   "execution_count": 6,
   "id": "cd810fd7-27d0-4908-946c-b7b7d1c5fcf4",
   "metadata": {
    "scrolled": true
   },
   "outputs": [
    {
     "name": "stdout",
     "output_type": "stream",
     "text": [
      "Shape: (297, 2)\n",
      "Columns: Index(['utterance', 'list_of_slots'], dtype='object')\n"
     ]
    },
    {
     "data": {
      "text/html": [
       "<div>\n",
       "<style scoped>\n",
       "    .dataframe tbody tr th:only-of-type {\n",
       "        vertical-align: middle;\n",
       "    }\n",
       "\n",
       "    .dataframe tbody tr th {\n",
       "        vertical-align: top;\n",
       "    }\n",
       "\n",
       "    .dataframe thead th {\n",
       "        text-align: right;\n",
       "    }\n",
       "</style>\n",
       "<table border=\"1\" class=\"dataframe\">\n",
       "  <thead>\n",
       "    <tr style=\"text-align: right;\">\n",
       "      <th></th>\n",
       "      <th>utterance</th>\n",
       "      <th>list_of_slots</th>\n",
       "    </tr>\n",
       "  </thead>\n",
       "  <tbody>\n",
       "    <tr>\n",
       "      <th>0</th>\n",
       "      <td>How's the weather in  Munchique National Natur...</td>\n",
       "      <td>['Munchique National Natural Park || geographi...</td>\n",
       "    </tr>\n",
       "    <tr>\n",
       "      <th>1</th>\n",
       "      <td>Tell me the weather forecast for  France</td>\n",
       "      <td>['France || country']</td>\n",
       "    </tr>\n",
       "    <tr>\n",
       "      <th>2</th>\n",
       "      <td>Will there be  wind  in  Hornitos   DC ?</td>\n",
       "      <td>['wind || condition_description', 'Hornitos ||...</td>\n",
       "    </tr>\n",
       "    <tr>\n",
       "      <th>3</th>\n",
       "      <td>Is it  warm   here   now ?</td>\n",
       "      <td>['warm || condition_temperature', 'here || cur...</td>\n",
       "    </tr>\n",
       "    <tr>\n",
       "      <th>4</th>\n",
       "      <td>what is the forecast for  Roulo  for  foggy  c...</td>\n",
       "      <td>['Roulo || city', 'foggy || condition_descript...</td>\n",
       "    </tr>\n",
       "  </tbody>\n",
       "</table>\n",
       "</div>"
      ],
      "text/plain": [
       "                                           utterance  \\\n",
       "0  How's the weather in  Munchique National Natur...   \n",
       "1           Tell me the weather forecast for  France   \n",
       "2           Will there be  wind  in  Hornitos   DC ?   \n",
       "3                         Is it  warm   here   now ?   \n",
       "4  what is the forecast for  Roulo  for  foggy  c...   \n",
       "\n",
       "                                       list_of_slots  \n",
       "0  ['Munchique National Natural Park || geographi...  \n",
       "1                              ['France || country']  \n",
       "2  ['wind || condition_description', 'Hornitos ||...  \n",
       "3  ['warm || condition_temperature', 'here || cur...  \n",
       "4  ['Roulo || city', 'foggy || condition_descript...  "
      ]
     },
     "execution_count": 6,
     "metadata": {},
     "output_type": "execute_result"
    }
   ],
   "source": [
    "input_file = f\"{os.getcwd()}/weather_dataset.csv\"#test_data\n",
    "df_weather = pd.read_csv(input_file)\n",
    "print(f\"Shape: {df_weather.shape}\")\n",
    "print(f\"Columns: {df_weather.columns}\")\n",
    "df_weather.head()"
   ]
  },
  {
   "cell_type": "code",
   "execution_count": 35,
   "id": "9a4c20b8-04ac-4851-a9f7-cfcb736e0d80",
   "metadata": {},
   "outputs": [
    {
     "name": "stderr",
     "output_type": "stream",
     "text": [
      "  0%|                                                   | 0/100 [00:00<?, ?it/s]\n",
      "Attempt 1:   0%|                                          | 0/5 [00:00<?, ?it/s]\u001b[A\n",
      "\n",
      "Retrying generation for current utterance:   0%|          | 0/6 [00:00<?, ?it/s]\u001b[A\u001b[A\n",
      "\n",
      "Retrying generation for current utterance:  17%|▎ | 1/6 [00:16<01:23, 16.74s/it]\u001b[A\u001b[A\n",
      "\n",
      "Retrying generation for current utterance:  33%|▋ | 2/6 [00:31<01:01, 15.41s/it]\u001b[A\u001b[A\n",
      "\n",
      "Retrying generation for current utterance:  50%|█ | 3/6 [00:46<00:45, 15.27s/it]\u001b[A\u001b[A\n",
      "\n",
      "Retrying generation for current utterance:  67%|█▎| 4/6 [01:04<00:32, 16.38s/it]\u001b[A\u001b[A\n",
      "\n",
      "Retrying generation for current utterance:  83%|█▋| 5/6 [01:18<00:15, 15.38s/it]\u001b[A\u001b[A\n",
      "\n",
      "Retrying generation for current utterance: 100%|██| 6/6 [01:34<00:00, 15.91s/it]\u001b[A\u001b[A\n",
      "\n",
      "                                                                                \u001b[A\u001b[A"
     ]
    },
    {
     "name": "stdout",
     "output_type": "stream",
     "text": [
      "Attempt 1: The generated list of paraphrases is empty. Retrying...\n"
     ]
    },
    {
     "name": "stderr",
     "output_type": "stream",
     "text": [
      "\n",
      "\n",
      "Retrying generation for current utterance:   0%|          | 0/6 [00:00<?, ?it/s]\u001b[A\u001b[A\n",
      "\n",
      "Retrying generation for current utterance:  17%|▎ | 1/6 [00:18<01:30, 18.16s/it]\u001b[A\u001b[A\n",
      "\n",
      "Retrying generation for current utterance:  33%|▋ | 2/6 [00:34<01:07, 16.84s/it]\u001b[A\u001b[A\n",
      "\n",
      "                                                                                \u001b[A\u001b[A\n",
      "Attempt 1:   0%| | 0/5 [02:21<?, ?it/s, status=Retry: Some paraphrases contain n\u001b[A\n",
      "Attempt 1:  20%|▏| 1/5 [02:21<09:26, 141.59s/it, status=Retry: Some paraphrases \u001b[A"
     ]
    },
    {
     "name": "stdout",
     "output_type": "stream",
     "text": [
      "Paraphrases generated successfully after 1 attempts.\n"
     ]
    },
    {
     "name": "stderr",
     "output_type": "stream",
     "text": [
      "\n",
      "\n",
      "Retrying generation for current utterance:   0%|          | 0/6 [00:00<?, ?it/s]\u001b[A\u001b[A\n",
      "\n",
      "                                                                                \u001b[A\u001b[A\n",
      "  1%|▍                                       | 1/100 [02:36<4:18:59, 156.97s/it]\u001b[A"
     ]
    },
    {
     "name": "stdout",
     "output_type": "stream",
     "text": [
      "Paraphrases generated successfully after 0 attempts.\n"
     ]
    },
    {
     "name": "stderr",
     "output_type": "stream",
     "text": [
      "\n",
      "Attempt 1:   0%|                                          | 0/5 [00:00<?, ?it/s]\u001b[A\n",
      "\n",
      "Retrying generation for current utterance:   0%|          | 0/6 [00:00<?, ?it/s]\u001b[A\u001b[A\n",
      "\n",
      "Retrying generation for current utterance:  17%|▎ | 1/6 [00:39<03:15, 39.03s/it]\u001b[A\u001b[A\n",
      "\n",
      "Retrying generation for current utterance:  33%|▋ | 2/6 [00:53<01:37, 24.29s/it]\u001b[A\u001b[A\n",
      "\n",
      "                                                                                \u001b[A\u001b[A\n",
      "Attempt 1:   0%| | 0/5 [01:03<?, ?it/s, status=Retry: Some paraphrases contain n\u001b[A\n",
      "Attempt 1:  20%|▏| 1/5 [01:03<04:15, 63.94s/it, status=Retry: Some paraphrases c\u001b[A"
     ]
    },
    {
     "name": "stdout",
     "output_type": "stream",
     "text": [
      "Paraphrases generated successfully after 0 attempts.\n"
     ]
    },
    {
     "name": "stderr",
     "output_type": "stream",
     "text": [
      "\n",
      "\n",
      "Retrying generation for current utterance:   0%|          | 0/6 [00:00<?, ?it/s]\u001b[A\u001b[A\n",
      "\n",
      "Retrying generation for current utterance:  17%|▎ | 1/6 [00:19<01:37, 19.52s/it]\u001b[A\u001b[A\n",
      "\n",
      "Retrying generation for current utterance:  33%|▋ | 2/6 [00:37<01:13, 18.39s/it]\u001b[A\u001b[A\n",
      "\n",
      "Retrying generation for current utterance:  50%|█ | 3/6 [00:55<00:55, 18.42s/it]\u001b[A\u001b[A\n",
      "\n",
      "Retrying generation for current utterance:  67%|█▎| 4/6 [01:12<00:35, 17.65s/it]\u001b[A\u001b[A"
     ]
    },
    {
     "name": "stdout",
     "output_type": "stream",
     "text": [
      "API server is overloaded or not ready. Retrying in 3 seconds...\n"
     ]
    },
    {
     "name": "stderr",
     "output_type": "stream",
     "text": [
      "\n",
      "\n",
      "Retrying generation for current utterance:  83%|█▋| 5/6 [01:45<00:23, 23.31s/it]\u001b[A\u001b[A\n",
      "\n",
      "                                                                                \u001b[A\u001b[A\n",
      "  2%|▊                                       | 2/100 [05:41<4:43:10, 173.38s/it]\u001b[A"
     ]
    },
    {
     "name": "stdout",
     "output_type": "stream",
     "text": [
      "Paraphrases generated successfully after 0 attempts.\n"
     ]
    },
    {
     "name": "stderr",
     "output_type": "stream",
     "text": [
      "\n",
      "Attempt 1:   0%|                                          | 0/5 [00:00<?, ?it/s]\u001b[A\n",
      "\n",
      "Retrying generation for current utterance:   0%|          | 0/6 [00:00<?, ?it/s]\u001b[A\u001b[A\n",
      "\n",
      "Retrying generation for current utterance:  17%|▎ | 1/6 [00:23<01:56, 23.34s/it]\u001b[A\u001b[A\n",
      "\n",
      "Retrying generation for current utterance:  33%|▋ | 2/6 [00:49<01:39, 24.84s/it]\u001b[A\u001b[A\n",
      "\n",
      "                                                                                \u001b[A\u001b[A\n",
      "  3%|█▏                                      | 3/100 [06:46<3:19:50, 123.62s/it]\u001b[A"
     ]
    },
    {
     "name": "stdout",
     "output_type": "stream",
     "text": [
      "Paraphrases generated successfully after 0 attempts.\n"
     ]
    },
    {
     "name": "stderr",
     "output_type": "stream",
     "text": [
      "\n",
      "Attempt 1:   0%|                                          | 0/5 [00:00<?, ?it/s]\u001b[A\n",
      "\n",
      "Retrying generation for current utterance:   0%|          | 0/6 [00:00<?, ?it/s]\u001b[A\u001b[A\n",
      "\n",
      "Retrying generation for current utterance:  17%|▎ | 1/6 [00:20<01:42, 20.50s/it]\u001b[A\u001b[A\n",
      "\n",
      "Retrying generation for current utterance:  33%|▋ | 2/6 [00:58<02:03, 30.76s/it]\u001b[A\u001b[A\n",
      "\n",
      "                                                                                \u001b[A\u001b[A\n",
      "Attempt 1:   0%| | 0/5 [01:09<?, ?it/s, status=Retry: Some paraphrases contain n\u001b[A\n",
      "Attempt 1:  20%|▏| 1/5 [01:09<04:37, 69.37s/it, status=Retry: Some paraphrases c\u001b[A"
     ]
    },
    {
     "name": "stdout",
     "output_type": "stream",
     "text": [
      "Paraphrases generated successfully after 0 attempts.\n"
     ]
    },
    {
     "name": "stderr",
     "output_type": "stream",
     "text": [
      "\n",
      "\n",
      "Retrying generation for current utterance:   0%|          | 0/6 [00:00<?, ?it/s]\u001b[A\u001b[A\n",
      "\n",
      "Retrying generation for current utterance:  17%|▎ | 1/6 [00:29<02:29, 29.92s/it]\u001b[A\u001b[A\n",
      "\n",
      "                                                                                \u001b[A\u001b[A\n",
      "  4%|█▌                                      | 4/100 [08:43<3:13:56, 121.21s/it]\u001b[A"
     ]
    },
    {
     "name": "stdout",
     "output_type": "stream",
     "text": [
      "Paraphrases generated successfully after 0 attempts.\n"
     ]
    },
    {
     "name": "stderr",
     "output_type": "stream",
     "text": [
      "\n",
      "Attempt 1:   0%|                                          | 0/5 [00:00<?, ?it/s]\u001b[A\n",
      "\n",
      "Retrying generation for current utterance:   0%|          | 0/6 [00:00<?, ?it/s]\u001b[A\u001b[A\n",
      "\n",
      "Retrying generation for current utterance:  17%|▎ | 1/6 [00:20<01:43, 20.68s/it]\u001b[A\u001b[A\n",
      "\n",
      "                                                                                \u001b[A\u001b[A\n",
      "Attempt 1:   0%| | 0/5 [00:38<?, ?it/s, status=Retry: Some paraphrases contain n\u001b[A\n",
      "Attempt 1:  20%|▏| 1/5 [00:38<02:34, 38.54s/it, status=Retry: Some paraphrases c\u001b[A"
     ]
    },
    {
     "name": "stdout",
     "output_type": "stream",
     "text": [
      "Paraphrases generated successfully after 0 attempts.\n"
     ]
    },
    {
     "name": "stderr",
     "output_type": "stream",
     "text": [
      "\n",
      "\n",
      "Retrying generation for current utterance:   0%|          | 0/6 [00:00<?, ?it/s]\u001b[A\u001b[A\n",
      "\n",
      "Retrying generation for current utterance:  17%|▎ | 1/6 [00:34<02:50, 34.01s/it]\u001b[A\u001b[A\n",
      "\n",
      "Retrying generation for current utterance:  33%|▋ | 2/6 [01:03<02:05, 31.38s/it]\u001b[A\u001b[A\n",
      "\n",
      "                                                                                \u001b[A\u001b[A\n",
      "  5%|██                                      | 5/100 [10:46<3:12:46, 121.75s/it]\u001b[A"
     ]
    },
    {
     "name": "stdout",
     "output_type": "stream",
     "text": [
      "Paraphrases generated successfully after 0 attempts.\n"
     ]
    },
    {
     "name": "stderr",
     "output_type": "stream",
     "text": [
      "\n",
      "Attempt 1:   0%|                                          | 0/5 [00:00<?, ?it/s]\u001b[A\n",
      "\n",
      "Retrying generation for current utterance:   0%|          | 0/6 [00:00<?, ?it/s]\u001b[A\u001b[A\n",
      "\n",
      "                                                                                \u001b[A\u001b[A\n",
      "  6%|██▍                                      | 6/100 [11:01<2:14:08, 85.62s/it]\u001b[A"
     ]
    },
    {
     "name": "stdout",
     "output_type": "stream",
     "text": [
      "Paraphrases generated successfully after 0 attempts.\n"
     ]
    },
    {
     "name": "stderr",
     "output_type": "stream",
     "text": [
      "\n",
      "Attempt 1:   0%|                                          | 0/5 [00:00<?, ?it/s]\u001b[A\n",
      "\n",
      "Retrying generation for current utterance:   0%|          | 0/6 [00:00<?, ?it/s]\u001b[A\u001b[A\n",
      "\n",
      "Retrying generation for current utterance:  17%|▎ | 1/6 [00:25<02:09, 25.86s/it]\u001b[A\u001b[A\n",
      "\n",
      "Retrying generation for current utterance:  33%|▋ | 2/6 [00:51<01:41, 25.48s/it]\u001b[A\u001b[A\n",
      "\n",
      "Retrying generation for current utterance:  50%|█ | 3/6 [00:59<00:53, 17.80s/it]\u001b[A\u001b[A\n",
      "\n",
      "Retrying generation for current utterance:  67%|█▎| 4/6 [01:31<00:46, 23.16s/it]\u001b[A\u001b[A\n",
      "\n",
      "Retrying generation for current utterance:  83%|█▋| 5/6 [01:55<00:23, 23.45s/it]\u001b[A\u001b[A\n",
      "\n",
      "                                                                                \u001b[A\u001b[A\n",
      "  7%|██▊                                     | 7/100 [13:21<2:39:53, 103.16s/it]\u001b[A"
     ]
    },
    {
     "name": "stdout",
     "output_type": "stream",
     "text": [
      "Paraphrases generated successfully after 0 attempts.\n"
     ]
    },
    {
     "name": "stderr",
     "output_type": "stream",
     "text": [
      "\n",
      "Attempt 1:   0%|                                          | 0/5 [00:00<?, ?it/s]\u001b[A\n",
      "\n",
      "Retrying generation for current utterance:   0%|          | 0/6 [00:00<?, ?it/s]\u001b[A\u001b[A\n",
      "\n",
      "Retrying generation for current utterance:  17%|▎ | 1/6 [00:16<01:20, 16.02s/it]\u001b[A\u001b[A\n",
      "\n",
      "Retrying generation for current utterance:  33%|▋ | 2/6 [00:31<01:02, 15.68s/it]\u001b[A\u001b[A\n",
      "\n",
      "                                                                                \u001b[A\u001b[A\n",
      "Attempt 1:   0%| | 0/5 [00:43<?, ?it/s, status=Retry: Some paraphrases contain n\u001b[A\n",
      "Attempt 1:  20%|▏| 1/5 [00:43<02:55, 43.84s/it, status=Retry: Some paraphrases c\u001b[A"
     ]
    },
    {
     "name": "stdout",
     "output_type": "stream",
     "text": [
      "Paraphrases generated successfully after 0 attempts.\n"
     ]
    },
    {
     "name": "stderr",
     "output_type": "stream",
     "text": [
      "\n",
      "\n",
      "Retrying generation for current utterance:   0%|          | 0/6 [00:00<?, ?it/s]\u001b[A\u001b[A\n",
      "\n",
      "Retrying generation for current utterance:  17%|▎ | 1/6 [00:17<01:29, 17.93s/it]\u001b[A\u001b[A\n",
      "\n",
      "                                                                                \u001b[A\u001b[A\n",
      "  8%|███▎                                     | 8/100 [14:35<2:24:09, 94.02s/it]\u001b[A"
     ]
    },
    {
     "name": "stdout",
     "output_type": "stream",
     "text": [
      "Paraphrases generated successfully after 0 attempts.\n"
     ]
    },
    {
     "name": "stderr",
     "output_type": "stream",
     "text": [
      "\n",
      "Attempt 1:   0%|                                          | 0/5 [00:00<?, ?it/s]\u001b[A\n",
      "\n",
      "Retrying generation for current utterance:   0%|          | 0/6 [00:00<?, ?it/s]\u001b[A\u001b[A\n",
      "\n",
      "Retrying generation for current utterance:  17%|▎ | 1/6 [00:13<01:05, 13.18s/it]\u001b[A\u001b[A"
     ]
    },
    {
     "name": "stdout",
     "output_type": "stream",
     "text": [
      "API server is overloaded or not ready. Retrying in 3 seconds...\n"
     ]
    },
    {
     "name": "stderr",
     "output_type": "stream",
     "text": [
      "\n",
      "\n",
      "Retrying generation for current utterance:  33%|▋ | 2/6 [00:46<01:39, 24.98s/it]\u001b[A\u001b[A\n",
      "\n",
      "Retrying generation for current utterance:  50%|█ | 3/6 [01:14<01:18, 26.28s/it]\u001b[A\u001b[A\n",
      "\n",
      "                                                                                \u001b[A\u001b[A\n",
      "  9%|███▋                                     | 9/100 [16:02<2:19:22, 91.90s/it]\u001b[A"
     ]
    },
    {
     "name": "stdout",
     "output_type": "stream",
     "text": [
      "Paraphrases generated successfully after 0 attempts.\n"
     ]
    },
    {
     "name": "stderr",
     "output_type": "stream",
     "text": [
      "\n",
      "Attempt 1:   0%|                                          | 0/5 [00:00<?, ?it/s]\u001b[A\n",
      "\n",
      "Retrying generation for current utterance:   0%|          | 0/6 [00:00<?, ?it/s]\u001b[A\u001b[A\n",
      "\n",
      "Retrying generation for current utterance:  17%|▎ | 1/6 [00:10<00:51, 10.38s/it]\u001b[A\u001b[A"
     ]
    },
    {
     "name": "stdout",
     "output_type": "stream",
     "text": [
      "API server is overloaded or not ready. Retrying in 3 seconds...\n"
     ]
    },
    {
     "name": "stderr",
     "output_type": "stream",
     "text": [
      "\n",
      "\n",
      "Retrying generation for current utterance:  33%|▋ | 2/6 [00:50<01:50, 27.72s/it]\u001b[A\u001b[A\n",
      "\n",
      "Retrying generation for current utterance:  50%|█ | 3/6 [01:11<01:14, 24.93s/it]\u001b[A\u001b[A\n",
      "\n",
      "                                                                                \u001b[A\u001b[A\n",
      " 10%|████                                    | 10/100 [17:51<2:25:26, 96.96s/it]\u001b[A"
     ]
    },
    {
     "name": "stdout",
     "output_type": "stream",
     "text": [
      "Paraphrases generated successfully after 0 attempts.\n"
     ]
    },
    {
     "name": "stderr",
     "output_type": "stream",
     "text": [
      "\n",
      "Attempt 1:   0%|                                          | 0/5 [00:00<?, ?it/s]\u001b[A\n",
      "\n",
      "Retrying generation for current utterance:   0%|          | 0/6 [00:00<?, ?it/s]\u001b[A\u001b[A\n",
      "\n",
      "                                                                                \u001b[A\u001b[A\n",
      " 11%|████▍                                   | 11/100 [18:13<1:49:48, 74.03s/it]\u001b[A"
     ]
    },
    {
     "name": "stdout",
     "output_type": "stream",
     "text": [
      "Paraphrases generated successfully after 0 attempts.\n"
     ]
    },
    {
     "name": "stderr",
     "output_type": "stream",
     "text": [
      "\n",
      "Attempt 1:   0%|                                          | 0/5 [00:00<?, ?it/s]\u001b[A\n",
      "\n",
      "Retrying generation for current utterance:   0%|          | 0/6 [00:00<?, ?it/s]\u001b[A\u001b[A\n",
      "\n",
      "Retrying generation for current utterance:  17%|▎ | 1/6 [00:15<01:16, 15.36s/it]\u001b[A\u001b[A\n",
      "\n",
      "                                                                                \u001b[A\u001b[A\n",
      "Attempt 1:   0%| | 0/5 [00:24<?, ?it/s, status=Retry: Some paraphrases contain n\u001b[A\n",
      "Attempt 1:  20%|▏| 1/5 [00:24<01:37, 24.49s/it, status=Retry: Some paraphrases c\u001b[A"
     ]
    },
    {
     "name": "stdout",
     "output_type": "stream",
     "text": [
      "Paraphrases generated successfully after 0 attempts.\n"
     ]
    },
    {
     "name": "stderr",
     "output_type": "stream",
     "text": [
      "\n",
      "\n",
      "Retrying generation for current utterance:   0%|          | 0/6 [00:00<?, ?it/s]\u001b[A\u001b[A\n",
      "\n",
      "Retrying generation for current utterance:  17%|▎ | 1/6 [00:10<00:53, 10.68s/it]\u001b[A\u001b[A\n",
      "\n",
      "Retrying generation for current utterance:  33%|▋ | 2/6 [00:23<00:47, 11.98s/it]\u001b[A\u001b[A\n",
      "\n",
      "Retrying generation for current utterance:  50%|█ | 3/6 [00:40<00:42, 14.15s/it]\u001b[A\u001b[A\n",
      "\n",
      "                                                                                \u001b[A\u001b[A\n",
      " 12%|████▊                                   | 12/100 [19:36<1:52:34, 76.76s/it]\u001b[A"
     ]
    },
    {
     "name": "stdout",
     "output_type": "stream",
     "text": [
      "Paraphrases generated successfully after 0 attempts.\n"
     ]
    },
    {
     "name": "stderr",
     "output_type": "stream",
     "text": [
      "\n",
      "Attempt 1:   0%|                                          | 0/5 [00:00<?, ?it/s]\u001b[A\n",
      "\n",
      "Retrying generation for current utterance:   0%|          | 0/6 [00:00<?, ?it/s]\u001b[A\u001b[A\n",
      "\n",
      "                                                                                \u001b[A\u001b[A\n",
      " 13%|█████▏                                  | 13/100 [19:58<1:27:32, 60.37s/it]\u001b[A"
     ]
    },
    {
     "name": "stdout",
     "output_type": "stream",
     "text": [
      "Paraphrases generated successfully after 0 attempts.\n"
     ]
    },
    {
     "name": "stderr",
     "output_type": "stream",
     "text": [
      "\n",
      "Attempt 1:   0%|                                          | 0/5 [00:00<?, ?it/s]\u001b[A\n",
      "\n",
      "Retrying generation for current utterance:   0%|          | 0/6 [00:00<?, ?it/s]\u001b[A\u001b[A\n",
      "\n",
      "                                                                                \u001b[A\u001b[A\n",
      " 14%|█████▌                                  | 14/100 [20:11<1:05:46, 45.89s/it]\u001b[A"
     ]
    },
    {
     "name": "stdout",
     "output_type": "stream",
     "text": [
      "Paraphrases generated successfully after 0 attempts.\n"
     ]
    },
    {
     "name": "stderr",
     "output_type": "stream",
     "text": [
      "\n",
      "Attempt 1:   0%|                                          | 0/5 [00:00<?, ?it/s]\u001b[A\n",
      "\n",
      "Retrying generation for current utterance:   0%|          | 0/6 [00:00<?, ?it/s]\u001b[A\u001b[A\n",
      "\n",
      "Retrying generation for current utterance:  17%|▎ | 1/6 [00:19<01:35, 19.07s/it]\u001b[A\u001b[A\n",
      "\n",
      "                                                                                \u001b[A\u001b[A\n",
      " 15%|██████                                  | 15/100 [20:46<1:00:36, 42.78s/it]\u001b[A"
     ]
    },
    {
     "name": "stdout",
     "output_type": "stream",
     "text": [
      "Paraphrases generated successfully after 0 attempts.\n"
     ]
    },
    {
     "name": "stderr",
     "output_type": "stream",
     "text": [
      "\n",
      "Attempt 1:   0%|                                          | 0/5 [00:00<?, ?it/s]\u001b[A\n",
      "\n",
      "Retrying generation for current utterance:   0%|          | 0/6 [00:00<?, ?it/s]\u001b[A\u001b[A\n",
      "\n",
      "Retrying generation for current utterance:  17%|▎ | 1/6 [00:13<01:09, 13.93s/it]\u001b[A\u001b[A\n",
      "\n",
      "Retrying generation for current utterance:  33%|▋ | 2/6 [00:54<01:59, 29.78s/it]\u001b[A\u001b[A"
     ]
    },
    {
     "name": "stdout",
     "output_type": "stream",
     "text": [
      "Request timed out. Retrying in 3 seconds...\n"
     ]
    },
    {
     "name": "stderr",
     "output_type": "stream",
     "text": [
      "\n",
      "\n",
      "Retrying generation for current utterance:  50%|▌| 3/6 [10:57<14:34, 291.57s/it]\u001b[A\u001b[A\n",
      "\n",
      "Retrying generation for current utterance:  67%|▋| 4/6 [11:23<06:12, 186.41s/it]\u001b[A\u001b[A\n",
      "\n",
      "                                                                                \u001b[A\u001b[A\n",
      " 16%|██████▏                                | 16/100 [32:35<5:40:25, 243.16s/it]\u001b[A"
     ]
    },
    {
     "name": "stdout",
     "output_type": "stream",
     "text": [
      "Paraphrases generated successfully after 0 attempts.\n"
     ]
    },
    {
     "name": "stderr",
     "output_type": "stream",
     "text": [
      "\n",
      "Attempt 1:   0%|                                          | 0/5 [00:00<?, ?it/s]\u001b[A\n",
      "\n",
      "Retrying generation for current utterance:   0%|          | 0/6 [00:00<?, ?it/s]\u001b[A\u001b[A\n",
      "\n",
      "Retrying generation for current utterance:  17%|▎ | 1/6 [00:17<01:28, 17.66s/it]\u001b[A\u001b[A\n",
      "\n",
      "Retrying generation for current utterance:  33%|▋ | 2/6 [00:33<01:06, 16.58s/it]\u001b[A\u001b[A\n",
      "\n",
      "                                                                                \u001b[A\u001b[A\n",
      " 17%|██████▋                                | 17/100 [33:25<4:16:16, 185.26s/it]\u001b[A"
     ]
    },
    {
     "name": "stdout",
     "output_type": "stream",
     "text": [
      "Paraphrases generated successfully after 0 attempts.\n"
     ]
    },
    {
     "name": "stderr",
     "output_type": "stream",
     "text": [
      "\n",
      "Attempt 1:   0%|                                          | 0/5 [00:00<?, ?it/s]\u001b[A\n",
      "\n",
      "Retrying generation for current utterance:   0%|          | 0/6 [00:00<?, ?it/s]\u001b[A\u001b[A\n",
      "\n",
      "Retrying generation for current utterance:  17%|▎ | 1/6 [00:24<02:01, 24.38s/it]\u001b[A\u001b[A\n",
      "\n",
      "Retrying generation for current utterance:  33%|▋ | 2/6 [00:39<01:16, 19.17s/it]\u001b[A\u001b[A\n",
      "\n",
      "                                                                                \u001b[A\u001b[A\n",
      " 18%|███████                                | 18/100 [34:24<3:21:17, 147.28s/it]\u001b[A"
     ]
    },
    {
     "name": "stdout",
     "output_type": "stream",
     "text": [
      "Paraphrases generated successfully after 0 attempts.\n"
     ]
    },
    {
     "name": "stderr",
     "output_type": "stream",
     "text": [
      "\n",
      "Attempt 1:   0%|                                          | 0/5 [00:00<?, ?it/s]\u001b[A\n",
      "\n",
      "Retrying generation for current utterance:   0%|          | 0/6 [00:00<?, ?it/s]\u001b[A\u001b[A\n",
      "\n",
      "Retrying generation for current utterance:  17%|▎ | 1/6 [00:20<01:43, 20.73s/it]\u001b[A\u001b[A\n",
      "\n",
      "Retrying generation for current utterance:  33%|▋ | 2/6 [00:39<01:18, 19.65s/it]\u001b[A\u001b[A\n",
      "\n",
      "Retrying generation for current utterance:  50%|█ | 3/6 [00:57<00:56, 18.80s/it]\u001b[A\u001b[A\n",
      "\n",
      "Retrying generation for current utterance:  67%|█▎| 4/6 [01:32<00:50, 25.26s/it]\u001b[A\u001b[A\n",
      "\n",
      "                                                                                \u001b[A\u001b[A\n",
      " 19%|███████▍                               | 19/100 [36:39<3:13:38, 143.44s/it]\u001b[A"
     ]
    },
    {
     "name": "stdout",
     "output_type": "stream",
     "text": [
      "Paraphrases generated successfully after 0 attempts.\n"
     ]
    },
    {
     "name": "stderr",
     "output_type": "stream",
     "text": [
      "\n",
      "Attempt 1:   0%|                                          | 0/5 [00:00<?, ?it/s]\u001b[A\n",
      "\n",
      "Retrying generation for current utterance:   0%|          | 0/6 [00:00<?, ?it/s]\u001b[A\u001b[A\n",
      "\n",
      "Retrying generation for current utterance:  17%|▎ | 1/6 [00:42<03:33, 42.73s/it]\u001b[A\u001b[A\n",
      "\n",
      "Retrying generation for current utterance:  33%|▋ | 2/6 [01:08<02:10, 32.55s/it]\u001b[A\u001b[A\n",
      "\n",
      "Retrying generation for current utterance:  50%|█ | 3/6 [01:42<01:39, 33.23s/it]\u001b[A\u001b[A\n",
      "\n",
      "Retrying generation for current utterance:  67%|█▎| 4/6 [02:08<01:01, 30.68s/it]\u001b[A\u001b[A\n",
      "\n",
      "Retrying generation for current utterance:  83%|█▋| 5/6 [02:33<00:28, 28.42s/it]\u001b[A\u001b[A\n",
      "\n",
      "Retrying generation for current utterance: 100%|██| 6/6 [02:53<00:00, 25.65s/it]\u001b[A\u001b[A\n",
      "\n",
      "                                                                                \u001b[A\u001b[A"
     ]
    },
    {
     "name": "stdout",
     "output_type": "stream",
     "text": [
      "Attempt 1: The generated list of paraphrases is empty. Retrying...\n"
     ]
    },
    {
     "name": "stderr",
     "output_type": "stream",
     "text": [
      "\n",
      "\n",
      "Retrying generation for current utterance:   0%|          | 0/6 [00:00<?, ?it/s]\u001b[A\u001b[A\n",
      "\n",
      "Retrying generation for current utterance:  17%|▎ | 1/6 [00:15<01:17, 15.56s/it]\u001b[A\u001b[A\n",
      "\n",
      "Retrying generation for current utterance:  33%|▋ | 2/6 [01:25<03:09, 47.49s/it]\u001b[A\u001b[A\n",
      "\n",
      "Retrying generation for current utterance:  50%|█ | 3/6 [01:47<01:47, 35.69s/it]\u001b[A\u001b[A\n",
      "\n",
      "Retrying generation for current utterance:  67%|█▎| 4/6 [02:16<01:06, 33.20s/it]\u001b[A\u001b[A\n",
      "\n",
      "Retrying generation for current utterance:  83%|█▋| 5/6 [02:30<00:26, 26.20s/it]\u001b[A\u001b[A\n",
      "\n",
      "Retrying generation for current utterance: 100%|██| 6/6 [03:21<00:00, 34.57s/it]\u001b[A\u001b[A\n",
      "\n",
      "                                                                                \u001b[A\u001b[A"
     ]
    },
    {
     "name": "stdout",
     "output_type": "stream",
     "text": [
      "Attempt 2: The generated list of paraphrases is empty. Retrying...\n"
     ]
    },
    {
     "name": "stderr",
     "output_type": "stream",
     "text": [
      "\n",
      "\n",
      "Retrying generation for current utterance:   0%|          | 0/6 [00:00<?, ?it/s]\u001b[A\u001b[A\n",
      "\n",
      "Retrying generation for current utterance:  17%|▎ | 1/6 [00:17<01:27, 17.50s/it]\u001b[A\u001b[A\n",
      "\n",
      "Retrying generation for current utterance:  33%|▋ | 2/6 [00:57<02:03, 30.94s/it]\u001b[A\u001b[A\n",
      "\n",
      "                                                                                \u001b[A\u001b[A\n",
      "Attempt 1:   0%| | 0/5 [07:47<?, ?it/s, status=Retry: Some paraphrases contain n\u001b[A\n",
      "Attempt 1:  20%|▏| 1/5 [07:47<31:09, 467.31s/it, status=Retry: Some paraphrases \u001b[A"
     ]
    },
    {
     "name": "stdout",
     "output_type": "stream",
     "text": [
      "Paraphrases generated successfully after 2 attempts.\n"
     ]
    },
    {
     "name": "stderr",
     "output_type": "stream",
     "text": [
      "\n",
      "\n",
      "Retrying generation for current utterance:   0%|          | 0/6 [00:00<?, ?it/s]\u001b[A\u001b[A"
     ]
    },
    {
     "name": "stdout",
     "output_type": "stream",
     "text": [
      "Request timed out. Retrying in 3 seconds...\n"
     ]
    },
    {
     "name": "stderr",
     "output_type": "stream",
     "text": [
      "\n",
      "\n",
      "Retrying generation for current utterance:  17%|▏| 1/6 [10:03<50:15, 603.16s/it]\u001b[A\u001b[A\n",
      "\n",
      "Retrying generation for current utterance:  33%|▎| 2/6 [10:24<17:22, 260.73s/it]\u001b[A\u001b[A\n",
      "\n",
      "Retrying generation for current utterance:  50%|▌| 3/6 [11:02<07:57, 159.22s/it]\u001b[A\u001b[A\n",
      "\n",
      "Retrying generation for current utterance:  67%|▋| 4/6 [11:34<03:38, 109.03s/it]\u001b[A\u001b[A\n",
      "\n",
      "Retrying generation for current utterance:  83%|█▋| 5/6 [11:58<01:18, 78.27s/it]\u001b[A\u001b[A\n",
      "\n",
      "Retrying generation for current utterance: 100%|██| 6/6 [12:23<00:00, 60.15s/it]\u001b[A\u001b[A\n",
      "\n",
      "                                                                                \u001b[A\u001b[A"
     ]
    },
    {
     "name": "stdout",
     "output_type": "stream",
     "text": [
      "Attempt 1: The generated list of paraphrases is empty. Retrying...\n"
     ]
    },
    {
     "name": "stderr",
     "output_type": "stream",
     "text": [
      "\n",
      "\n",
      "Retrying generation for current utterance:   0%|          | 0/6 [00:00<?, ?it/s]\u001b[A\u001b[A\n",
      "\n",
      "Retrying generation for current utterance:  17%|▎ | 1/6 [00:16<01:24, 16.89s/it]\u001b[A\u001b[A\n",
      "\n",
      "Retrying generation for current utterance:  33%|▋ | 2/6 [00:40<01:22, 20.60s/it]\u001b[A\u001b[A\n",
      "\n",
      "Retrying generation for current utterance:  50%|█ | 3/6 [01:04<01:06, 22.21s/it]\u001b[A\u001b[A\n",
      "\n",
      "                                                                                \u001b[A\u001b[A\n",
      " 20%|███████▌                              | 20/100 [58:17<10:53:37, 490.22s/it]\u001b[A"
     ]
    },
    {
     "name": "stdout",
     "output_type": "stream",
     "text": [
      "Paraphrases generated successfully after 1 attempts.\n"
     ]
    },
    {
     "name": "stderr",
     "output_type": "stream",
     "text": [
      "\n",
      "Attempt 1:   0%|                                          | 0/5 [00:00<?, ?it/s]\u001b[A\n",
      "\n",
      "Retrying generation for current utterance:   0%|          | 0/6 [00:00<?, ?it/s]\u001b[A\u001b[A\n",
      "\n",
      "Retrying generation for current utterance:  17%|▎ | 1/6 [00:26<02:12, 26.41s/it]\u001b[A\u001b[A\n",
      "\n",
      "Retrying generation for current utterance:  33%|▋ | 2/6 [00:46<01:30, 22.62s/it]\u001b[A\u001b[A\n",
      "\n",
      "                                                                                \u001b[A\u001b[A\n",
      " 21%|████████▏                              | 21/100 [59:29<8:00:12, 364.72s/it]\u001b[A"
     ]
    },
    {
     "name": "stdout",
     "output_type": "stream",
     "text": [
      "Paraphrases generated successfully after 0 attempts.\n"
     ]
    },
    {
     "name": "stderr",
     "output_type": "stream",
     "text": [
      "\n",
      "Attempt 1:   0%|                                          | 0/5 [00:00<?, ?it/s]\u001b[A\n",
      "\n",
      "Retrying generation for current utterance:   0%|          | 0/6 [00:00<?, ?it/s]\u001b[A\u001b[A\n",
      "\n",
      "Retrying generation for current utterance:  17%|▎ | 1/6 [00:32<02:41, 32.27s/it]\u001b[A\u001b[A\n",
      "\n",
      "Retrying generation for current utterance:  33%|▋ | 2/6 [00:47<01:29, 22.25s/it]\u001b[A\u001b[A\n",
      "\n",
      "Retrying generation for current utterance:  50%|█ | 3/6 [01:03<00:58, 19.47s/it]\u001b[A\u001b[A\n",
      "\n",
      "Retrying generation for current utterance:  67%|█▎| 4/6 [01:19<00:36, 18.07s/it]\u001b[A\u001b[A\n",
      "\n",
      "Retrying generation for current utterance:  83%|█▋| 5/6 [01:57<00:25, 25.26s/it]\u001b[A\u001b[A\n",
      "\n",
      "                                                                                \u001b[A\u001b[A\n",
      " 22%|████████▏                            | 22/100 [1:01:40<6:22:36, 294.31s/it]\u001b[A"
     ]
    },
    {
     "name": "stdout",
     "output_type": "stream",
     "text": [
      "Paraphrases generated successfully after 0 attempts.\n"
     ]
    },
    {
     "name": "stderr",
     "output_type": "stream",
     "text": [
      "\n",
      "Attempt 1:   0%|                                          | 0/5 [00:00<?, ?it/s]\u001b[A\n",
      "\n",
      "Retrying generation for current utterance:   0%|          | 0/6 [00:00<?, ?it/s]\u001b[A\u001b[A\n",
      "\n",
      "Retrying generation for current utterance:  17%|▎ | 1/6 [00:12<01:03, 12.68s/it]\u001b[A\u001b[A\n",
      "\n",
      "                                                                                \u001b[A\u001b[A\n",
      "Attempt 1:   0%| | 0/5 [00:42<?, ?it/s, status=Retry: Some paraphrases contain n\u001b[A\n",
      "Attempt 1:  20%|▏| 1/5 [00:42<02:50, 42.64s/it, status=Retry: Some paraphrases c\u001b[A"
     ]
    },
    {
     "name": "stdout",
     "output_type": "stream",
     "text": [
      "Paraphrases generated successfully after 0 attempts.\n"
     ]
    },
    {
     "name": "stderr",
     "output_type": "stream",
     "text": [
      "\n",
      "\n",
      "Retrying generation for current utterance:   0%|          | 0/6 [00:00<?, ?it/s]\u001b[A\u001b[A\n",
      "\n",
      "Retrying generation for current utterance:  17%|▎ | 1/6 [00:15<01:15, 15.19s/it]\u001b[A\u001b[A\n",
      "\n",
      "Retrying generation for current utterance:  33%|▋ | 2/6 [00:30<01:02, 15.52s/it]\u001b[A\u001b[A\n",
      "\n",
      "Retrying generation for current utterance:  50%|█ | 3/6 [00:45<00:45, 15.00s/it]\u001b[A\u001b[A\n",
      "\n",
      "Retrying generation for current utterance:  67%|█▎| 4/6 [00:57<00:27, 13.70s/it]\u001b[A\u001b[A\n",
      "\n",
      "Retrying generation for current utterance:  83%|█▋| 5/6 [01:11<00:14, 14.02s/it]\u001b[A\u001b[A\n",
      "\n",
      "                                                                                \u001b[A\u001b[A\n",
      " 23%|████████▌                            | 23/100 [1:04:03<5:19:35, 249.03s/it]\u001b[A"
     ]
    },
    {
     "name": "stdout",
     "output_type": "stream",
     "text": [
      "Paraphrases generated successfully after 0 attempts.\n"
     ]
    },
    {
     "name": "stderr",
     "output_type": "stream",
     "text": [
      "\n",
      "Attempt 1:   0%|                                          | 0/5 [00:00<?, ?it/s]\u001b[A\n",
      "\n",
      "Retrying generation for current utterance:   0%|          | 0/6 [00:00<?, ?it/s]\u001b[A\u001b[A\n",
      "\n",
      "Retrying generation for current utterance:  17%|▎ | 1/6 [00:16<01:20, 16.09s/it]\u001b[A\u001b[A\n",
      "\n",
      "Retrying generation for current utterance:  33%|▋ | 2/6 [00:52<01:52, 28.22s/it]\u001b[A\u001b[A\n",
      "\n",
      "Retrying generation for current utterance:  50%|█ | 3/6 [01:12<01:12, 24.26s/it]\u001b[A\u001b[A\n",
      "\n",
      "Retrying generation for current utterance:  67%|█▎| 4/6 [01:27<00:41, 20.76s/it]\u001b[A\u001b[A\n",
      "\n",
      "Retrying generation for current utterance:  83%|█▋| 5/6 [01:44<00:19, 19.41s/it]\u001b[A\u001b[A\n",
      "\n",
      "Retrying generation for current utterance: 100%|██| 6/6 [01:58<00:00, 17.56s/it]\u001b[A\u001b[A\n",
      "\n",
      "                                                                                \u001b[A\u001b[A"
     ]
    },
    {
     "name": "stdout",
     "output_type": "stream",
     "text": [
      "Attempt 1: The generated list of paraphrases is empty. Retrying...\n"
     ]
    },
    {
     "name": "stderr",
     "output_type": "stream",
     "text": [
      "\n",
      "\n",
      "Retrying generation for current utterance:   0%|          | 0/6 [00:00<?, ?it/s]\u001b[A\u001b[A\n",
      "\n",
      "Retrying generation for current utterance:  17%|▎ | 1/6 [00:16<01:21, 16.37s/it]\u001b[A\u001b[A\n",
      "\n",
      "Retrying generation for current utterance:  33%|▋ | 2/6 [00:44<01:33, 23.43s/it]\u001b[A\u001b[A\n",
      "\n",
      "Retrying generation for current utterance:  50%|█ | 3/6 [00:58<00:57, 19.20s/it]\u001b[A\u001b[A\n",
      "\n",
      "Retrying generation for current utterance:  67%|█▎| 4/6 [01:07<00:30, 15.13s/it]\u001b[A\u001b[A\n",
      "\n",
      "Retrying generation for current utterance:  83%|█▋| 5/6 [01:24<00:15, 15.65s/it]\u001b[A\u001b[A\n",
      "\n",
      "Retrying generation for current utterance: 100%|██| 6/6 [01:37<00:00, 14.80s/it]\u001b[A\u001b[A\n",
      "\n",
      "                                                                                \u001b[A\u001b[A"
     ]
    },
    {
     "name": "stdout",
     "output_type": "stream",
     "text": [
      "Attempt 2: The generated list of paraphrases is empty. Retrying...\n"
     ]
    },
    {
     "name": "stderr",
     "output_type": "stream",
     "text": [
      "\n",
      "\n",
      "Retrying generation for current utterance:   0%|          | 0/6 [00:00<?, ?it/s]\u001b[A\u001b[A\n",
      "\n",
      "Retrying generation for current utterance:  17%|▎ | 1/6 [00:15<01:16, 15.27s/it]\u001b[A\u001b[A\n",
      "\n",
      "Retrying generation for current utterance:  33%|▋ | 2/6 [00:40<01:23, 20.97s/it]\u001b[A\u001b[A\n",
      "\n",
      "                                                                                \u001b[A\u001b[A\n",
      " 24%|████████▉                            | 24/100 [1:08:34<5:23:44, 255.59s/it]\u001b[A"
     ]
    },
    {
     "name": "stdout",
     "output_type": "stream",
     "text": [
      "Paraphrases generated successfully after 2 attempts.\n"
     ]
    },
    {
     "name": "stderr",
     "output_type": "stream",
     "text": [
      "\n",
      "Attempt 1:   0%|                                          | 0/5 [00:00<?, ?it/s]\u001b[A\n",
      "\n",
      "Retrying generation for current utterance:   0%|          | 0/6 [00:00<?, ?it/s]\u001b[A\u001b[A\n",
      "\n",
      "Retrying generation for current utterance:  17%|▎ | 1/6 [00:15<01:18, 15.66s/it]\u001b[A\u001b[A\n",
      "\n",
      "Retrying generation for current utterance:  33%|▋ | 2/6 [00:47<01:39, 24.92s/it]\u001b[A\u001b[A\n",
      "\n",
      "                                                                                \u001b[A\u001b[A\n",
      "Attempt 1:   0%| | 0/5 [01:06<?, ?it/s, status=Retry: Some paraphrases contain n\u001b[A\n",
      "Attempt 1:  20%|▏| 1/5 [01:06<04:26, 66.57s/it, status=Retry: Some paraphrases c\u001b[A"
     ]
    },
    {
     "name": "stdout",
     "output_type": "stream",
     "text": [
      "Paraphrases generated successfully after 0 attempts.\n"
     ]
    },
    {
     "name": "stderr",
     "output_type": "stream",
     "text": [
      "\n",
      "\n",
      "Retrying generation for current utterance:   0%|          | 0/6 [00:00<?, ?it/s]\u001b[A\u001b[A\n",
      "\n",
      "Retrying generation for current utterance:  17%|▎ | 1/6 [00:22<01:54, 23.00s/it]\u001b[A\u001b[A\n",
      "\n",
      "Retrying generation for current utterance:  33%|▋ | 2/6 [00:51<01:43, 25.99s/it]\u001b[A\u001b[A\n",
      "\n",
      "Retrying generation for current utterance:  50%|█ | 3/6 [01:08<01:06, 22.06s/it]\u001b[A\u001b[A\n",
      "\n",
      "Retrying generation for current utterance:  67%|█▎| 4/6 [01:26<00:41, 20.53s/it]\u001b[A\u001b[A\n",
      "\n",
      "Retrying generation for current utterance:  83%|█▋| 5/6 [01:38<00:17, 17.41s/it]\u001b[A\u001b[A\n",
      "\n",
      "Retrying generation for current utterance: 100%|██| 6/6 [02:09<00:00, 22.07s/it]\u001b[A\u001b[A\n",
      "\n",
      "                                                                                \u001b[A\u001b[A"
     ]
    },
    {
     "name": "stdout",
     "output_type": "stream",
     "text": [
      "Attempt 1: The generated list of paraphrases is empty. Retrying...\n"
     ]
    },
    {
     "name": "stderr",
     "output_type": "stream",
     "text": [
      "\n",
      "\n",
      "Retrying generation for current utterance:   0%|          | 0/6 [00:00<?, ?it/s]\u001b[A\u001b[A\n",
      "\n",
      "Retrying generation for current utterance:  17%|▎ | 1/6 [00:18<01:33, 18.79s/it]\u001b[A\u001b[A\n",
      "\n",
      "Retrying generation for current utterance:  33%|▋ | 2/6 [00:34<01:07, 16.96s/it]\u001b[A\u001b[A\n",
      "\n",
      "Retrying generation for current utterance:  50%|█ | 3/6 [01:14<01:22, 27.54s/it]\u001b[A\u001b[A\n",
      "\n",
      "Retrying generation for current utterance:  67%|█▎| 4/6 [01:32<00:47, 23.56s/it]\u001b[A\u001b[A\n",
      "\n",
      "Retrying generation for current utterance:  83%|█▋| 5/6 [02:06<00:27, 27.45s/it]\u001b[A\u001b[A\n",
      "\n",
      "Retrying generation for current utterance: 100%|██| 6/6 [03:00<00:00, 36.65s/it]\u001b[A\u001b[A\n",
      "\n",
      "                                                                                \u001b[A\u001b[A"
     ]
    },
    {
     "name": "stdout",
     "output_type": "stream",
     "text": [
      "Attempt 2: The generated list of paraphrases is empty. Retrying...\n"
     ]
    },
    {
     "name": "stderr",
     "output_type": "stream",
     "text": [
      "\n",
      "\n",
      "Retrying generation for current utterance:   0%|          | 0/6 [00:00<?, ?it/s]\u001b[A\u001b[A\n",
      "\n",
      "Retrying generation for current utterance:  17%|▎ | 1/6 [00:19<01:39, 19.87s/it]\u001b[A\u001b[A\n",
      "\n",
      "Retrying generation for current utterance:  33%|▋ | 2/6 [00:45<01:33, 23.46s/it]\u001b[A\u001b[A\n",
      "\n",
      "Retrying generation for current utterance:  50%|█ | 3/6 [01:42<01:55, 38.61s/it]\u001b[A\u001b[A\n",
      "\n",
      "Retrying generation for current utterance:  67%|█▎| 4/6 [01:59<01:00, 30.12s/it]\u001b[A\u001b[A\n",
      "\n",
      "Retrying generation for current utterance:  83%|█▋| 5/6 [02:30<00:30, 30.38s/it]\u001b[A\u001b[A\n",
      "\n",
      "Retrying generation for current utterance: 100%|██| 6/6 [02:46<00:00, 25.46s/it]\u001b[A\u001b[A\n",
      "\n",
      "                                                                                \u001b[A\u001b[A"
     ]
    },
    {
     "name": "stdout",
     "output_type": "stream",
     "text": [
      "Attempt 3: The generated list of paraphrases is empty. Retrying...\n"
     ]
    },
    {
     "name": "stderr",
     "output_type": "stream",
     "text": [
      "\n",
      "\n",
      "Retrying generation for current utterance:   0%|          | 0/6 [00:00<?, ?it/s]\u001b[A\u001b[A\n",
      "\n",
      "Retrying generation for current utterance:  17%|▎ | 1/6 [00:13<01:08, 13.66s/it]\u001b[A\u001b[A\n",
      "\n",
      "Retrying generation for current utterance:  33%|▋ | 2/6 [00:49<01:46, 26.58s/it]\u001b[A\u001b[A\n",
      "\n",
      "Retrying generation for current utterance:  50%|█ | 3/6 [01:11<01:14, 24.75s/it]\u001b[A\u001b[A\n",
      "\n",
      "                                                                                \u001b[A\u001b[A\n",
      " 25%|█████████▎                           | 25/100 [1:19:07<7:41:03, 368.84s/it]\u001b[A"
     ]
    },
    {
     "name": "stdout",
     "output_type": "stream",
     "text": [
      "Paraphrases generated successfully after 3 attempts.\n"
     ]
    },
    {
     "name": "stderr",
     "output_type": "stream",
     "text": [
      "\n",
      "Attempt 1:   0%|                                          | 0/5 [00:00<?, ?it/s]\u001b[A\n",
      "\n",
      "Retrying generation for current utterance:   0%|          | 0/6 [00:00<?, ?it/s]\u001b[A\u001b[A\n",
      "\n",
      "                                                                                \u001b[A\u001b[A\n",
      "Attempt 1:   0%| | 0/5 [00:10<?, ?it/s, status=Retry: Some paraphrases contain n\u001b[A\n",
      "Attempt 1:  20%|▏| 1/5 [00:10<00:40, 10.17s/it, status=Retry: Some paraphrases c\u001b[A"
     ]
    },
    {
     "name": "stdout",
     "output_type": "stream",
     "text": [
      "Paraphrases generated successfully after 0 attempts.\n"
     ]
    },
    {
     "name": "stderr",
     "output_type": "stream",
     "text": [
      "\n",
      "\n",
      "Retrying generation for current utterance:   0%|          | 0/6 [00:00<?, ?it/s]\u001b[A\u001b[A\n",
      "\n",
      "Retrying generation for current utterance:  17%|▎ | 1/6 [00:20<01:41, 20.39s/it]\u001b[A\u001b[A\n",
      "\n",
      "                                                                                \u001b[A\u001b[A\n",
      " 26%|█████████▌                           | 26/100 [1:19:49<5:33:57, 270.78s/it]\u001b[A"
     ]
    },
    {
     "name": "stdout",
     "output_type": "stream",
     "text": [
      "Paraphrases generated successfully after 0 attempts.\n"
     ]
    },
    {
     "name": "stderr",
     "output_type": "stream",
     "text": [
      "\n",
      "Attempt 1:   0%|                                          | 0/5 [00:00<?, ?it/s]\u001b[A\n",
      "\n",
      "Retrying generation for current utterance:   0%|          | 0/6 [00:00<?, ?it/s]\u001b[A\u001b[A\n",
      "\n",
      "                                                                                \u001b[A\u001b[A\n",
      " 27%|█████████▉                           | 27/100 [1:20:03<3:55:52, 193.87s/it]\u001b[A"
     ]
    },
    {
     "name": "stdout",
     "output_type": "stream",
     "text": [
      "Paraphrases generated successfully after 0 attempts.\n"
     ]
    },
    {
     "name": "stderr",
     "output_type": "stream",
     "text": [
      "\n",
      "Attempt 1:   0%|                                          | 0/5 [00:00<?, ?it/s]\u001b[A\n",
      "\n",
      "Retrying generation for current utterance:   0%|          | 0/6 [00:00<?, ?it/s]\u001b[A\u001b[A\n",
      "\n",
      "Retrying generation for current utterance:  17%|▎ | 1/6 [00:09<00:45,  9.15s/it]\u001b[A\u001b[A\n",
      "\n",
      "Retrying generation for current utterance:  33%|▋ | 2/6 [00:18<00:37,  9.28s/it]\u001b[A\u001b[A\n",
      "\n",
      "Retrying generation for current utterance:  50%|█ | 3/6 [00:43<00:48, 16.29s/it]\u001b[A\u001b[A\n",
      "\n",
      "Retrying generation for current utterance:  67%|█▎| 4/6 [00:53<00:27, 13.95s/it]\u001b[A\u001b[A\n",
      "\n",
      "                                                                                \u001b[A\u001b[A\n",
      "Attempt 1:   0%| | 0/5 [01:05<?, ?it/s, status=Retry: Some paraphrases contain n\u001b[A\n",
      "Attempt 1:  20%|▏| 1/5 [01:05<04:21, 65.31s/it, status=Retry: Some paraphrases c\u001b[A"
     ]
    },
    {
     "name": "stdout",
     "output_type": "stream",
     "text": [
      "Paraphrases generated successfully after 0 attempts.\n"
     ]
    },
    {
     "name": "stderr",
     "output_type": "stream",
     "text": [
      "\n",
      "\n",
      "Retrying generation for current utterance:   0%|          | 0/6 [00:00<?, ?it/s]\u001b[A\u001b[A\n",
      "\n",
      "Retrying generation for current utterance:  17%|▎ | 1/6 [00:09<00:46,  9.38s/it]\u001b[A\u001b[A\n",
      "\n",
      "Retrying generation for current utterance:  33%|▋ | 2/6 [00:21<00:44, 11.13s/it]\u001b[A\u001b[A\n",
      "\n",
      "Retrying generation for current utterance:  50%|█ | 3/6 [00:33<00:34, 11.34s/it]\u001b[A\u001b[A\n",
      "\n",
      "                                                                                \u001b[A\u001b[A\n",
      " 28%|██████████▎                          | 28/100 [1:21:50<3:21:22, 167.81s/it]\u001b[A"
     ]
    },
    {
     "name": "stdout",
     "output_type": "stream",
     "text": [
      "Paraphrases generated successfully after 0 attempts.\n"
     ]
    },
    {
     "name": "stderr",
     "output_type": "stream",
     "text": [
      "\n",
      "Attempt 1:   0%|                                          | 0/5 [00:00<?, ?it/s]\u001b[A\n",
      "\n",
      "Retrying generation for current utterance:   0%|          | 0/6 [00:00<?, ?it/s]\u001b[A\u001b[A\n",
      "\n",
      "Retrying generation for current utterance:  17%|▎ | 1/6 [00:18<01:30, 18.02s/it]\u001b[A\u001b[A\n",
      "\n",
      "Retrying generation for current utterance:  33%|▋ | 2/6 [00:34<01:08, 17.07s/it]\u001b[A\u001b[A\n",
      "\n",
      "Retrying generation for current utterance:  50%|█ | 3/6 [01:04<01:09, 23.13s/it]\u001b[A\u001b[A\n",
      "\n",
      "Retrying generation for current utterance:  67%|█▎| 4/6 [01:21<00:41, 20.55s/it]\u001b[A\u001b[A\n",
      "\n",
      "Retrying generation for current utterance:  83%|█▋| 5/6 [01:30<00:16, 16.56s/it]\u001b[A\u001b[A\n",
      "\n",
      "                                                                                \u001b[A\u001b[A\n",
      " 29%|██████████▋                          | 29/100 [1:23:44<2:59:14, 151.47s/it]\u001b[A"
     ]
    },
    {
     "name": "stdout",
     "output_type": "stream",
     "text": [
      "Paraphrases generated successfully after 0 attempts.\n"
     ]
    },
    {
     "name": "stderr",
     "output_type": "stream",
     "text": [
      "\n",
      "Attempt 1:   0%|                                          | 0/5 [00:00<?, ?it/s]\u001b[A\n",
      "\n",
      "Retrying generation for current utterance:   0%|          | 0/6 [00:00<?, ?it/s]\u001b[A\u001b[A\n",
      "\n",
      "Retrying generation for current utterance:  17%|▎ | 1/6 [00:16<01:22, 16.49s/it]\u001b[A\u001b[A\n",
      "\n",
      "Retrying generation for current utterance:  33%|▋ | 2/6 [00:34<01:09, 17.42s/it]\u001b[A\u001b[A\n",
      "\n",
      "Retrying generation for current utterance:  50%|█ | 3/6 [00:52<00:53, 17.75s/it]\u001b[A\u001b[A\n",
      "\n",
      "Retrying generation for current utterance:  67%|█▎| 4/6 [01:27<00:48, 24.35s/it]\u001b[A\u001b[A\n",
      "\n",
      "Retrying generation for current utterance:  83%|█▋| 5/6 [01:48<00:23, 23.17s/it]\u001b[A\u001b[A\n",
      "\n",
      "Retrying generation for current utterance: 100%|██| 6/6 [02:06<00:00, 21.43s/it]\u001b[A\u001b[A\n",
      "\n",
      "                                                                                \u001b[A\u001b[A"
     ]
    },
    {
     "name": "stdout",
     "output_type": "stream",
     "text": [
      "Attempt 1: The generated list of paraphrases is empty. Retrying...\n"
     ]
    },
    {
     "name": "stderr",
     "output_type": "stream",
     "text": [
      "\n",
      "\n",
      "Retrying generation for current utterance:   0%|          | 0/6 [00:00<?, ?it/s]\u001b[A\u001b[A\n",
      "\n",
      "Retrying generation for current utterance:  17%|▎ | 1/6 [00:20<01:43, 20.67s/it]\u001b[A\u001b[A\n",
      "\n",
      "Retrying generation for current utterance:  33%|▋ | 2/6 [00:40<01:19, 19.88s/it]\u001b[A\u001b[A"
     ]
    },
    {
     "name": "stdout",
     "output_type": "stream",
     "text": [
      "API server is overloaded or not ready. Retrying in 3 seconds...\n"
     ]
    },
    {
     "name": "stderr",
     "output_type": "stream",
     "text": [
      "\n",
      "\n",
      "Retrying generation for current utterance:  50%|█ | 3/6 [01:13<01:17, 26.00s/it]\u001b[A\u001b[A\n",
      "\n",
      "Retrying generation for current utterance:  67%|█▎| 4/6 [01:51<01:01, 31.00s/it]\u001b[A\u001b[A\n",
      "\n",
      "Retrying generation for current utterance:  83%|█▋| 5/6 [02:11<00:26, 26.92s/it]\u001b[A\u001b[A\n",
      "\n",
      "Retrying generation for current utterance: 100%|██| 6/6 [02:34<00:00, 25.53s/it]\u001b[A\u001b[A\n",
      "\n",
      "                                                                                \u001b[A\u001b[A"
     ]
    },
    {
     "name": "stdout",
     "output_type": "stream",
     "text": [
      "Attempt 2: The generated list of paraphrases is empty. Retrying...\n"
     ]
    },
    {
     "name": "stderr",
     "output_type": "stream",
     "text": [
      "\n",
      "\n",
      "Retrying generation for current utterance:   0%|          | 0/6 [00:00<?, ?it/s]\u001b[A\u001b[A\n",
      "\n",
      "Retrying generation for current utterance:  17%|▎ | 1/6 [00:16<01:20, 16.05s/it]\u001b[A\u001b[A\n",
      "\n",
      "                                                                                \u001b[A\u001b[A\n",
      " 30%|███████████                          | 30/100 [1:29:22<4:01:57, 207.39s/it]\u001b[A"
     ]
    },
    {
     "name": "stdout",
     "output_type": "stream",
     "text": [
      "Paraphrases generated successfully after 2 attempts.\n"
     ]
    },
    {
     "name": "stderr",
     "output_type": "stream",
     "text": [
      "\n",
      "Attempt 1:   0%|                                          | 0/5 [00:00<?, ?it/s]\u001b[A\n",
      "\n",
      "Retrying generation for current utterance:   0%|          | 0/6 [00:00<?, ?it/s]\u001b[A\u001b[A\n",
      "\n",
      "                                                                                \u001b[A\u001b[A\n",
      "Attempt 1:   0%| | 0/5 [00:10<?, ?it/s, status=Retry: Some paraphrases contain n\u001b[A\n",
      "Attempt 1:  20%|▏| 1/5 [00:10<00:41, 10.35s/it, status=Retry: Some paraphrases c\u001b[A"
     ]
    },
    {
     "name": "stdout",
     "output_type": "stream",
     "text": [
      "Paraphrases generated successfully after 0 attempts.\n"
     ]
    },
    {
     "name": "stderr",
     "output_type": "stream",
     "text": [
      "\n",
      "\n",
      "Retrying generation for current utterance:   0%|          | 0/6 [00:00<?, ?it/s]\u001b[A\u001b[A"
     ]
    },
    {
     "name": "stdout",
     "output_type": "stream",
     "text": [
      "Request timed out. Retrying in 3 seconds...\n"
     ]
    },
    {
     "name": "stderr",
     "output_type": "stream",
     "text": [
      "\n",
      "\n",
      "Retrying generation for current utterance:  17%|▏| 1/6 [10:03<50:15, 603.11s/it]\u001b[A\u001b[A\n",
      "\n",
      "Retrying generation for current utterance:  33%|▎| 2/6 [10:20<17:14, 258.57s/it]\u001b[A\u001b[A\n",
      "\n",
      "Retrying generation for current utterance:  50%|▌| 3/6 [10:43<07:32, 150.81s/it]\u001b[A\u001b[A\n",
      "\n",
      "Retrying generation for current utterance:  67%|▋| 4/6 [11:06<03:20, 100.50s/it]\u001b[A\u001b[A\n",
      "\n",
      "Retrying generation for current utterance:  83%|█▋| 5/6 [11:18<01:08, 68.76s/it]\u001b[A\u001b[A\n",
      "\n",
      "Retrying generation for current utterance: 100%|██| 6/6 [11:39<00:00, 52.49s/it]\u001b[A\u001b[A\n",
      "\n",
      "                                                                                \u001b[A\u001b[A"
     ]
    },
    {
     "name": "stdout",
     "output_type": "stream",
     "text": [
      "Attempt 1: The generated list of paraphrases is empty. Retrying...\n"
     ]
    },
    {
     "name": "stderr",
     "output_type": "stream",
     "text": [
      "\n",
      "\n",
      "Retrying generation for current utterance:   0%|          | 0/6 [00:00<?, ?it/s]\u001b[A\u001b[A\n",
      "\n",
      "Retrying generation for current utterance:  17%|▎ | 1/6 [00:15<01:19, 15.91s/it]\u001b[A\u001b[A\n",
      "\n",
      "Retrying generation for current utterance:  33%|▋ | 2/6 [00:37<01:16, 19.25s/it]\u001b[A\u001b[A\n",
      "\n",
      "                                                                                \u001b[A\u001b[A\n",
      " 31%|███████████▍                         | 31/100 [1:42:04<7:10:04, 373.98s/it]\u001b[A"
     ]
    },
    {
     "name": "stdout",
     "output_type": "stream",
     "text": [
      "Paraphrases generated successfully after 1 attempts.\n"
     ]
    },
    {
     "name": "stderr",
     "output_type": "stream",
     "text": [
      "\n",
      "Attempt 1:   0%|                                          | 0/5 [00:00<?, ?it/s]\u001b[A\n",
      "\n",
      "Retrying generation for current utterance:   0%|          | 0/6 [00:00<?, ?it/s]\u001b[A\u001b[A\n",
      "\n",
      "Retrying generation for current utterance:  17%|▎ | 1/6 [00:26<02:14, 26.86s/it]\u001b[A\u001b[A\n",
      "\n",
      "Retrying generation for current utterance:  33%|▋ | 2/6 [00:45<01:26, 21.73s/it]\u001b[A\u001b[A\n",
      "\n",
      "Retrying generation for current utterance:  50%|█ | 3/6 [01:10<01:09, 23.22s/it]\u001b[A\u001b[A\n",
      "\n",
      "Retrying generation for current utterance:  67%|█▎| 4/6 [01:48<00:58, 29.36s/it]\u001b[A\u001b[A\n",
      "\n",
      "Retrying generation for current utterance:  83%|█▋| 5/6 [02:31<00:34, 34.08s/it]\u001b[A\u001b[A\n",
      "\n",
      "Retrying generation for current utterance: 100%|██| 6/6 [02:52<00:00, 29.66s/it]\u001b[A\u001b[A\n",
      "\n",
      "                                                                                \u001b[A\u001b[A"
     ]
    },
    {
     "name": "stdout",
     "output_type": "stream",
     "text": [
      "Attempt 1: The generated list of paraphrases is empty. Retrying...\n"
     ]
    },
    {
     "name": "stderr",
     "output_type": "stream",
     "text": [
      "\n",
      "\n",
      "Retrying generation for current utterance:   0%|          | 0/6 [00:00<?, ?it/s]\u001b[A\u001b[A\n",
      "\n",
      "                                                                                \u001b[A\u001b[A\n",
      " 32%|███████████▊                         | 32/100 [1:50:03<7:39:28, 405.41s/it]\u001b[A"
     ]
    },
    {
     "name": "stdout",
     "output_type": "stream",
     "text": [
      "Paraphrases generated successfully after 1 attempts.\n"
     ]
    },
    {
     "name": "stderr",
     "output_type": "stream",
     "text": [
      "\n",
      "Attempt 1:   0%|                                          | 0/5 [00:00<?, ?it/s]\u001b[A\n",
      "\n",
      "Retrying generation for current utterance:   0%|          | 0/6 [00:00<?, ?it/s]\u001b[A\u001b[A\n",
      "\n",
      "Retrying generation for current utterance:  17%|▎ | 1/6 [00:20<01:41, 20.34s/it]\u001b[A\u001b[A\n",
      "\n",
      "Retrying generation for current utterance:  33%|▋ | 2/6 [00:51<01:46, 26.70s/it]\u001b[A\u001b[A\n",
      "\n",
      "Retrying generation for current utterance:  50%|█ | 3/6 [01:04<01:00, 20.22s/it]\u001b[A\u001b[A\n",
      "\n",
      "Retrying generation for current utterance:  67%|█▎| 4/6 [01:31<00:46, 23.20s/it]\u001b[A\u001b[A\n",
      "\n",
      "Retrying generation for current utterance:  83%|█▋| 5/6 [02:13<00:30, 30.04s/it]\u001b[A\u001b[A\n",
      "\n",
      "Retrying generation for current utterance: 100%|██| 6/6 [02:43<00:00, 29.91s/it]\u001b[A\u001b[A\n",
      "\n",
      "                                                                                \u001b[A\u001b[A"
     ]
    },
    {
     "name": "stdout",
     "output_type": "stream",
     "text": [
      "Attempt 1: The generated list of paraphrases is empty. Retrying...\n"
     ]
    },
    {
     "name": "stderr",
     "output_type": "stream",
     "text": [
      "\n",
      "\n",
      "Retrying generation for current utterance:   0%|          | 0/6 [00:00<?, ?it/s]\u001b[A\u001b[A\n",
      "\n",
      "                                                                                \u001b[A\u001b[A\n",
      " 33%|████████████▏                        | 33/100 [1:53:15<6:21:12, 341.39s/it]\u001b[A"
     ]
    },
    {
     "name": "stdout",
     "output_type": "stream",
     "text": [
      "Paraphrases generated successfully after 1 attempts.\n"
     ]
    },
    {
     "name": "stderr",
     "output_type": "stream",
     "text": [
      "\n",
      "Attempt 1:   0%|                                          | 0/5 [00:00<?, ?it/s]\u001b[A\n",
      "\n",
      "Retrying generation for current utterance:   0%|          | 0/6 [00:00<?, ?it/s]\u001b[A\u001b[A\n",
      "\n",
      "Retrying generation for current utterance:  17%|▎ | 1/6 [00:18<01:30, 18.12s/it]\u001b[A\u001b[A\n",
      "\n",
      "Retrying generation for current utterance:  33%|▋ | 2/6 [00:40<01:23, 20.83s/it]\u001b[A\u001b[A\n",
      "\n",
      "Retrying generation for current utterance:  50%|█ | 3/6 [00:53<00:51, 17.10s/it]\u001b[A\u001b[A\n",
      "\n",
      "                                                                                \u001b[A\u001b[A\n",
      " 34%|████████████▌                        | 34/100 [1:54:22<4:44:53, 258.99s/it]\u001b[A"
     ]
    },
    {
     "name": "stdout",
     "output_type": "stream",
     "text": [
      "Paraphrases generated successfully after 0 attempts.\n"
     ]
    },
    {
     "name": "stderr",
     "output_type": "stream",
     "text": [
      "\n",
      "Attempt 1:   0%|                                          | 0/5 [00:00<?, ?it/s]\u001b[A\n",
      "\n",
      "Retrying generation for current utterance:   0%|          | 0/6 [00:00<?, ?it/s]\u001b[A\u001b[A\n",
      "\n",
      "Retrying generation for current utterance:  17%|▎ | 1/6 [00:15<01:19, 15.87s/it]\u001b[A\u001b[A\n",
      "\n",
      "                                                                                \u001b[A\u001b[A\n",
      "Attempt 1:   0%| | 0/5 [00:29<?, ?it/s, status=Retry: Some paraphrases contain n\u001b[A\n",
      "Attempt 1:  20%|▏| 1/5 [00:29<01:56, 29.20s/it, status=Retry: Some paraphrases c\u001b[A"
     ]
    },
    {
     "name": "stdout",
     "output_type": "stream",
     "text": [
      "Paraphrases generated successfully after 0 attempts.\n"
     ]
    },
    {
     "name": "stderr",
     "output_type": "stream",
     "text": [
      "\n",
      "\n",
      "Retrying generation for current utterance:   0%|          | 0/6 [00:00<?, ?it/s]\u001b[A\u001b[A\n",
      "\n",
      "Retrying generation for current utterance:  17%|▎ | 1/6 [00:27<02:16, 27.26s/it]\u001b[A\u001b[A\n",
      "\n",
      "Retrying generation for current utterance:  33%|▋ | 2/6 [00:57<01:55, 28.82s/it]\u001b[A\u001b[A\n",
      "\n",
      "Retrying generation for current utterance:  50%|█ | 3/6 [01:14<01:10, 23.60s/it]\u001b[A\u001b[A\n",
      "\n",
      "Retrying generation for current utterance:  67%|█▎| 4/6 [01:32<00:42, 21.38s/it]\u001b[A\u001b[A\n",
      "\n",
      "                                                                                \u001b[A\u001b[A\n",
      " 35%|████████████▉                        | 35/100 [1:56:46<4:03:26, 224.72s/it]\u001b[A"
     ]
    },
    {
     "name": "stdout",
     "output_type": "stream",
     "text": [
      "Paraphrases generated successfully after 0 attempts.\n"
     ]
    },
    {
     "name": "stderr",
     "output_type": "stream",
     "text": [
      "\n",
      "Attempt 1:   0%|                                          | 0/5 [00:00<?, ?it/s]\u001b[A\n",
      "\n",
      "Retrying generation for current utterance:   0%|          | 0/6 [00:00<?, ?it/s]\u001b[A\u001b[A\n",
      "\n",
      "Retrying generation for current utterance:  17%|▎ | 1/6 [00:33<02:49, 33.82s/it]\u001b[A\u001b[A\n",
      "\n",
      "Retrying generation for current utterance:  33%|▋ | 2/6 [00:53<01:41, 25.38s/it]\u001b[A\u001b[A\n",
      "\n",
      "Retrying generation for current utterance:  50%|█ | 3/6 [01:08<01:01, 20.53s/it]\u001b[A\u001b[A\n",
      "\n",
      "Retrying generation for current utterance:  67%|█▎| 4/6 [01:35<00:46, 23.25s/it]\u001b[A\u001b[A\n",
      "\n",
      "Retrying generation for current utterance:  83%|█▋| 5/6 [01:49<00:19, 19.95s/it]\u001b[A\u001b[A\n",
      "\n",
      "Retrying generation for current utterance: 100%|██| 6/6 [02:15<00:00, 21.85s/it]\u001b[A\u001b[A\n",
      "\n",
      "                                                                                \u001b[A\u001b[A"
     ]
    },
    {
     "name": "stdout",
     "output_type": "stream",
     "text": [
      "Attempt 1: The generated list of paraphrases is empty. Retrying...\n"
     ]
    },
    {
     "name": "stderr",
     "output_type": "stream",
     "text": [
      "\n",
      "\n",
      "Retrying generation for current utterance:   0%|          | 0/6 [00:00<?, ?it/s]\u001b[A\u001b[A\n",
      "\n",
      "                                                                                \u001b[A\u001b[A\n",
      " 36%|█████████████▎                       | 36/100 [1:59:24<3:38:18, 204.67s/it]\u001b[A"
     ]
    },
    {
     "name": "stdout",
     "output_type": "stream",
     "text": [
      "Paraphrases generated successfully after 1 attempts.\n"
     ]
    },
    {
     "name": "stderr",
     "output_type": "stream",
     "text": [
      "\n",
      "Attempt 1:   0%|                                          | 0/5 [00:00<?, ?it/s]\u001b[A\n",
      "\n",
      "Retrying generation for current utterance:   0%|          | 0/6 [00:00<?, ?it/s]\u001b[A\u001b[A\n",
      "\n",
      "Retrying generation for current utterance:  17%|▎ | 1/6 [00:15<01:15, 15.06s/it]\u001b[A\u001b[A\n",
      "\n",
      "Retrying generation for current utterance:  33%|▋ | 2/6 [00:30<01:00, 15.02s/it]\u001b[A\u001b[A\n",
      "\n",
      "Retrying generation for current utterance:  50%|█ | 3/6 [00:47<00:48, 16.09s/it]\u001b[A\u001b[A\n",
      "\n",
      "Retrying generation for current utterance:  67%|█▎| 4/6 [01:04<00:33, 16.64s/it]\u001b[A\u001b[A\n",
      "\n",
      "Retrying generation for current utterance:  83%|█▋| 5/6 [01:26<00:18, 18.40s/it]\u001b[A\u001b[A\n",
      "\n",
      "                                                                                \u001b[A\u001b[A\n",
      " 37%|█████████████▋                       | 37/100 [2:01:03<3:01:36, 172.95s/it]\u001b[A"
     ]
    },
    {
     "name": "stdout",
     "output_type": "stream",
     "text": [
      "Paraphrases generated successfully after 0 attempts.\n"
     ]
    },
    {
     "name": "stderr",
     "output_type": "stream",
     "text": [
      "\n",
      "Attempt 1:   0%|                                          | 0/5 [00:00<?, ?it/s]\u001b[A\n",
      "\n",
      "Retrying generation for current utterance:   0%|          | 0/6 [00:00<?, ?it/s]\u001b[A\u001b[A\n",
      "\n",
      "Retrying generation for current utterance:  17%|▎ | 1/6 [00:13<01:07, 13.51s/it]\u001b[A\u001b[A\n",
      "\n",
      "Retrying generation for current utterance:  33%|▋ | 2/6 [00:25<00:50, 12.58s/it]\u001b[A\u001b[A\n",
      "\n",
      "                                                                                \u001b[A\u001b[A\n",
      " 38%|██████████████                       | 38/100 [2:01:39<2:16:04, 131.68s/it]\u001b[A"
     ]
    },
    {
     "name": "stdout",
     "output_type": "stream",
     "text": [
      "Paraphrases generated successfully after 0 attempts.\n"
     ]
    },
    {
     "name": "stderr",
     "output_type": "stream",
     "text": [
      "\n",
      "Attempt 1:   0%|                                          | 0/5 [00:00<?, ?it/s]\u001b[A\n",
      "\n",
      "Retrying generation for current utterance:   0%|          | 0/6 [00:00<?, ?it/s]\u001b[A\u001b[A\n",
      "\n",
      "Retrying generation for current utterance:  17%|▎ | 1/6 [00:12<01:03, 12.64s/it]\u001b[A\u001b[A\n",
      "\n",
      "Retrying generation for current utterance:  33%|▋ | 2/6 [00:20<00:39,  9.83s/it]\u001b[A\u001b[A\n",
      "\n",
      "Retrying generation for current utterance:  50%|█ | 3/6 [00:38<00:40, 13.64s/it]\u001b[A\u001b[A\n",
      "\n",
      "Retrying generation for current utterance:  67%|█▎| 4/6 [01:06<00:38, 19.10s/it]\u001b[A\u001b[A\n",
      "\n",
      "Retrying generation for current utterance:  83%|█▋| 5/6 [01:14<00:15, 15.38s/it]\u001b[A\u001b[A\n",
      "\n",
      "                                                                                \u001b[A\u001b[A\n",
      "Attempt 1:   0%| | 0/5 [01:24<?, ?it/s, status=Retry: Some paraphrases contain n\u001b[A\n",
      "Attempt 1:  20%|▏| 1/5 [01:24<05:38, 84.60s/it, status=Retry: Some paraphrases c\u001b[A"
     ]
    },
    {
     "name": "stdout",
     "output_type": "stream",
     "text": [
      "Paraphrases generated successfully after 0 attempts.\n"
     ]
    },
    {
     "name": "stderr",
     "output_type": "stream",
     "text": [
      "\n",
      "\n",
      "Retrying generation for current utterance:   0%|          | 0/6 [00:00<?, ?it/s]\u001b[A\u001b[A\n",
      "\n",
      "                                                                                \u001b[A\u001b[A\n",
      " 39%|██████████████▍                      | 39/100 [2:03:17<2:03:47, 121.77s/it]\u001b[A"
     ]
    },
    {
     "name": "stdout",
     "output_type": "stream",
     "text": [
      "Paraphrases generated successfully after 0 attempts.\n"
     ]
    },
    {
     "name": "stderr",
     "output_type": "stream",
     "text": [
      "\n",
      "Attempt 1:   0%|                                          | 0/5 [00:00<?, ?it/s]\u001b[A\n",
      "\n",
      "Retrying generation for current utterance:   0%|          | 0/6 [00:00<?, ?it/s]\u001b[A\u001b[A\n",
      "\n",
      "Retrying generation for current utterance:  17%|▎ | 1/6 [00:14<01:10, 14.00s/it]\u001b[A\u001b[A\n",
      "\n",
      "Retrying generation for current utterance:  33%|▋ | 2/6 [00:27<00:55, 13.87s/it]\u001b[A\u001b[A\n",
      "\n",
      "Retrying generation for current utterance:  50%|█ | 3/6 [00:43<00:43, 14.49s/it]\u001b[A\u001b[A\n",
      "\n",
      "Retrying generation for current utterance:  67%|█▎| 4/6 [00:56<00:28, 14.12s/it]\u001b[A\u001b[A\n",
      "\n",
      "Retrying generation for current utterance:  83%|█▋| 5/6 [01:08<00:13, 13.37s/it]\u001b[A\u001b[A\n",
      "\n",
      "Retrying generation for current utterance: 100%|██| 6/6 [01:22<00:00, 13.44s/it]\u001b[A\u001b[A\n",
      "\n",
      "                                                                                \u001b[A\u001b[A"
     ]
    },
    {
     "name": "stdout",
     "output_type": "stream",
     "text": [
      "Attempt 1: The generated list of paraphrases is empty. Retrying...\n"
     ]
    },
    {
     "name": "stderr",
     "output_type": "stream",
     "text": [
      "\n",
      "\n",
      "Retrying generation for current utterance:   0%|          | 0/6 [00:00<?, ?it/s]\u001b[A\u001b[A\n",
      "\n",
      "                                                                                \u001b[A\u001b[A\n",
      "Attempt 1:   0%| | 0/5 [01:31<?, ?it/s, status=Retry: Some paraphrases contain n\u001b[A\n",
      "Attempt 1:  20%|▏| 1/5 [01:31<06:04, 91.24s/it, status=Retry: Some paraphrases c\u001b[A"
     ]
    },
    {
     "name": "stdout",
     "output_type": "stream",
     "text": [
      "Paraphrases generated successfully after 1 attempts.\n"
     ]
    },
    {
     "name": "stderr",
     "output_type": "stream",
     "text": [
      "\n",
      "\n",
      "Retrying generation for current utterance:   0%|          | 0/6 [00:00<?, ?it/s]\u001b[A\u001b[A\n",
      "\n",
      "Retrying generation for current utterance:  17%|▎ | 1/6 [00:12<01:00, 12.08s/it]\u001b[A\u001b[A"
     ]
    },
    {
     "name": "stdout",
     "output_type": "stream",
     "text": [
      "Request timed out. Retrying in 3 seconds...\n"
     ]
    },
    {
     "name": "stderr",
     "output_type": "stream",
     "text": [
      "\n",
      "\n",
      "Retrying generation for current utterance:  33%|▎| 2/6 [10:15<23:58, 359.75s/it]\u001b[A\u001b[A\n",
      "\n",
      "Retrying generation for current utterance:  50%|▌| 3/6 [10:30<10:07, 202.51s/it]\u001b[A\u001b[A\n",
      "\n",
      "Retrying generation for current utterance:  67%|▋| 4/6 [10:47<04:18, 129.29s/it]\u001b[A\u001b[A\n",
      "\n",
      "Retrying generation for current utterance:  83%|█▋| 5/6 [11:19<01:34, 94.05s/it]\u001b[A\u001b[A\n",
      "\n",
      "                                                                                \u001b[A\u001b[A\n",
      " 40%|██████████████▊                      | 40/100 [2:16:20<5:20:06, 320.11s/it]\u001b[A"
     ]
    },
    {
     "name": "stdout",
     "output_type": "stream",
     "text": [
      "Paraphrases generated successfully after 0 attempts.\n"
     ]
    },
    {
     "name": "stderr",
     "output_type": "stream",
     "text": [
      "\n",
      "Attempt 1:   0%|                                          | 0/5 [00:00<?, ?it/s]\u001b[A\n",
      "\n",
      "Retrying generation for current utterance:   0%|          | 0/6 [00:00<?, ?it/s]\u001b[A\u001b[A\n",
      "\n",
      "Retrying generation for current utterance:  17%|▎ | 1/6 [00:13<01:06, 13.24s/it]\u001b[A\u001b[A\n",
      "\n",
      "Retrying generation for current utterance:  33%|▋ | 2/6 [00:51<01:52, 28.22s/it]\u001b[A\u001b[A\n",
      "\n",
      "Retrying generation for current utterance:  50%|█ | 3/6 [01:11<01:12, 24.14s/it]\u001b[A\u001b[A\n",
      "\n",
      "Retrying generation for current utterance:  67%|█▎| 4/6 [01:35<00:48, 24.01s/it]\u001b[A\u001b[A\n",
      "\n",
      "Retrying generation for current utterance:  83%|█▋| 5/6 [01:52<00:21, 21.63s/it]\u001b[A\u001b[A\n",
      "\n",
      "Retrying generation for current utterance: 100%|██| 6/6 [02:06<00:00, 19.16s/it]\u001b[A\u001b[A\n",
      "\n",
      "                                                                                \u001b[A\u001b[A"
     ]
    },
    {
     "name": "stdout",
     "output_type": "stream",
     "text": [
      "Attempt 1: The generated list of paraphrases is empty. Retrying...\n"
     ]
    },
    {
     "name": "stderr",
     "output_type": "stream",
     "text": [
      "\n",
      "\n",
      "Retrying generation for current utterance:   0%|          | 0/6 [00:00<?, ?it/s]\u001b[A\u001b[A\n",
      "\n",
      "Retrying generation for current utterance:  17%|▎ | 1/6 [00:15<01:19, 15.99s/it]\u001b[A\u001b[A"
     ]
    },
    {
     "name": "stdout",
     "output_type": "stream",
     "text": [
      "API server is overloaded or not ready. Retrying in 3 seconds...\n"
     ]
    },
    {
     "name": "stderr",
     "output_type": "stream",
     "text": [
      "\n",
      "\n",
      "Retrying generation for current utterance:  33%|▋ | 2/6 [00:49<01:44, 26.16s/it]\u001b[A\u001b[A\n",
      "\n",
      "Retrying generation for current utterance:  50%|█ | 3/6 [01:03<01:02, 20.70s/it]\u001b[A\u001b[A\n",
      "\n",
      "                                                                                \u001b[A\u001b[A\n",
      " 41%|███████████████▏                     | 41/100 [2:19:45<4:40:53, 285.66s/it]\u001b[A"
     ]
    },
    {
     "name": "stdout",
     "output_type": "stream",
     "text": [
      "Paraphrases generated successfully after 1 attempts.\n"
     ]
    },
    {
     "name": "stderr",
     "output_type": "stream",
     "text": [
      "\n",
      "Attempt 1:   0%|                                          | 0/5 [00:00<?, ?it/s]\u001b[A\n",
      "\n",
      "Retrying generation for current utterance:   0%|          | 0/6 [00:00<?, ?it/s]\u001b[A\u001b[A\n",
      "\n",
      "                                                                                \u001b[A\u001b[A\n",
      "Attempt 1:   0%| | 0/5 [00:14<?, ?it/s, status=Retry: Some paraphrases contain n\u001b[A\n",
      "Attempt 1:  20%|▏| 1/5 [00:14<00:56, 14.05s/it, status=Retry: Some paraphrases c\u001b[A"
     ]
    },
    {
     "name": "stdout",
     "output_type": "stream",
     "text": [
      "Paraphrases generated successfully after 0 attempts.\n"
     ]
    },
    {
     "name": "stderr",
     "output_type": "stream",
     "text": [
      "\n",
      "\n",
      "Retrying generation for current utterance:   0%|          | 0/6 [00:00<?, ?it/s]\u001b[A\u001b[A\n",
      "\n",
      "Retrying generation for current utterance:  17%|▎ | 1/6 [00:15<01:19, 15.80s/it]\u001b[A\u001b[A\n",
      "\n",
      "Retrying generation for current utterance:  33%|▋ | 2/6 [00:32<01:06, 16.52s/it]\u001b[A\u001b[A\n",
      "\n",
      "Retrying generation for current utterance:  50%|█ | 3/6 [00:57<01:00, 20.17s/it]\u001b[A\u001b[A\n",
      "\n",
      "Retrying generation for current utterance:  67%|█▎| 4/6 [01:10<00:35, 17.56s/it]\u001b[A\u001b[A\n",
      "\n",
      "                                                                                \u001b[A\u001b[A\n",
      " 42%|███████████████▌                     | 42/100 [2:21:24<3:41:48, 229.45s/it]\u001b[A"
     ]
    },
    {
     "name": "stdout",
     "output_type": "stream",
     "text": [
      "Paraphrases generated successfully after 0 attempts.\n"
     ]
    },
    {
     "name": "stderr",
     "output_type": "stream",
     "text": [
      "\n",
      "Attempt 1:   0%|                                          | 0/5 [00:00<?, ?it/s]\u001b[A\n",
      "\n",
      "Retrying generation for current utterance:   0%|          | 0/6 [00:00<?, ?it/s]\u001b[A\u001b[A\n",
      "\n",
      "Retrying generation for current utterance:  17%|▎ | 1/6 [00:19<01:39, 19.96s/it]\u001b[A\u001b[A\n",
      "\n",
      "Retrying generation for current utterance:  33%|▋ | 2/6 [00:43<01:27, 21.87s/it]\u001b[A\u001b[A\n",
      "\n",
      "Retrying generation for current utterance:  50%|█ | 3/6 [01:00<00:58, 19.59s/it]\u001b[A\u001b[A\n",
      "\n",
      "Retrying generation for current utterance:  67%|█▎| 4/6 [01:22<00:41, 20.88s/it]\u001b[A\u001b[A\n",
      "\n",
      "Retrying generation for current utterance:  83%|█▋| 5/6 [01:41<00:20, 20.18s/it]\u001b[A\u001b[A\n",
      "\n",
      "Retrying generation for current utterance: 100%|██| 6/6 [02:03<00:00, 20.58s/it]\u001b[A\u001b[A\n",
      "\n",
      "                                                                                \u001b[A\u001b[A"
     ]
    },
    {
     "name": "stdout",
     "output_type": "stream",
     "text": [
      "Attempt 1: The generated list of paraphrases is empty. Retrying...\n"
     ]
    },
    {
     "name": "stderr",
     "output_type": "stream",
     "text": [
      "\n",
      "\n",
      "Retrying generation for current utterance:   0%|          | 0/6 [00:00<?, ?it/s]\u001b[A\u001b[A\n",
      "\n",
      "Retrying generation for current utterance:  17%|▎ | 1/6 [00:18<01:31, 18.29s/it]\u001b[A\u001b[A\n",
      "\n",
      "Retrying generation for current utterance:  33%|▋ | 2/6 [00:41<01:25, 21.33s/it]\u001b[A\u001b[A\n",
      "\n",
      "Retrying generation for current utterance:  50%|█ | 3/6 [01:03<01:04, 21.62s/it]\u001b[A\u001b[A\n",
      "\n",
      "                                                                                \u001b[A\u001b[A\n",
      " 43%|███████████████▉                     | 43/100 [2:25:00<3:34:14, 225.52s/it]\u001b[A"
     ]
    },
    {
     "name": "stdout",
     "output_type": "stream",
     "text": [
      "Paraphrases generated successfully after 1 attempts.\n"
     ]
    },
    {
     "name": "stderr",
     "output_type": "stream",
     "text": [
      "\n",
      "Attempt 1:   0%|                                          | 0/5 [00:00<?, ?it/s]\u001b[A\n",
      "\n",
      "Retrying generation for current utterance:   0%|          | 0/6 [00:00<?, ?it/s]\u001b[A\u001b[A\n",
      "\n",
      "Retrying generation for current utterance:  17%|▎ | 1/6 [00:22<01:50, 22.05s/it]\u001b[A\u001b[A\n",
      "\n",
      "Retrying generation for current utterance:  33%|▋ | 2/6 [01:05<02:18, 34.57s/it]\u001b[A\u001b[A\n",
      "\n",
      "Retrying generation for current utterance:  50%|█ | 3/6 [01:34<01:35, 31.92s/it]\u001b[A\u001b[A\n",
      "\n",
      "Retrying generation for current utterance:  67%|█▎| 4/6 [01:59<00:58, 29.38s/it]\u001b[A\u001b[A\n",
      "\n",
      "Retrying generation for current utterance:  83%|█▋| 5/6 [02:24<00:27, 27.84s/it]\u001b[A\u001b[A\n",
      "\n",
      "Retrying generation for current utterance: 100%|██| 6/6 [02:51<00:00, 27.54s/it]\u001b[A\u001b[A\n",
      "\n",
      "                                                                                \u001b[A\u001b[A"
     ]
    },
    {
     "name": "stdout",
     "output_type": "stream",
     "text": [
      "Attempt 1: The generated list of paraphrases is empty. Retrying...\n"
     ]
    },
    {
     "name": "stderr",
     "output_type": "stream",
     "text": [
      "\n",
      "\n",
      "Retrying generation for current utterance:   0%|          | 0/6 [00:00<?, ?it/s]\u001b[A\u001b[A\n",
      "\n",
      "Retrying generation for current utterance:  17%|▎ | 1/6 [00:24<02:04, 24.99s/it]\u001b[A\u001b[A\n",
      "\n",
      "                                                                                \u001b[A\u001b[A\n",
      " 44%|████████████████▎                    | 44/100 [2:28:39<3:28:41, 223.61s/it]\u001b[A"
     ]
    },
    {
     "name": "stdout",
     "output_type": "stream",
     "text": [
      "Paraphrases generated successfully after 1 attempts.\n"
     ]
    },
    {
     "name": "stderr",
     "output_type": "stream",
     "text": [
      "\n",
      "Attempt 1:   0%|                                          | 0/5 [00:00<?, ?it/s]\u001b[A\n",
      "\n",
      "Retrying generation for current utterance:   0%|          | 0/6 [00:00<?, ?it/s]\u001b[A\u001b[A\n",
      "\n",
      "Retrying generation for current utterance:  17%|▎ | 1/6 [00:20<01:44, 20.89s/it]\u001b[A\u001b[A\n",
      "\n",
      "                                                                                \u001b[A\u001b[A\n",
      "Attempt 1:   0%| | 0/5 [00:35<?, ?it/s, status=Retry: Some paraphrases contain n\u001b[A\n",
      "Attempt 1:  20%|▏| 1/5 [00:35<02:22, 35.65s/it, status=Retry: Some paraphrases c\u001b[A"
     ]
    },
    {
     "name": "stdout",
     "output_type": "stream",
     "text": [
      "Paraphrases generated successfully after 0 attempts.\n"
     ]
    },
    {
     "name": "stderr",
     "output_type": "stream",
     "text": [
      "\n",
      "\n",
      "Retrying generation for current utterance:   0%|          | 0/6 [00:00<?, ?it/s]\u001b[A\u001b[A\n",
      "\n",
      "Retrying generation for current utterance:  17%|▎ | 1/6 [00:32<02:43, 32.70s/it]\u001b[A\u001b[A\n",
      "\n",
      "Retrying generation for current utterance:  33%|▋ | 2/6 [00:52<01:40, 25.11s/it]\u001b[A\u001b[A\n",
      "\n",
      "Retrying generation for current utterance:  50%|█ | 3/6 [01:04<00:57, 19.20s/it]\u001b[A\u001b[A\n",
      "\n",
      "Retrying generation for current utterance:  67%|█▎| 4/6 [01:17<00:33, 16.83s/it]\u001b[A\u001b[A"
     ]
    },
    {
     "name": "stdout",
     "output_type": "stream",
     "text": [
      "Request timed out. Retrying in 3 seconds...\n"
     ]
    },
    {
     "name": "stderr",
     "output_type": "stream",
     "text": [
      "\n",
      "\n",
      "Retrying generation for current utterance:  83%|▊| 5/6 [11:20<03:48, 228.25s/it]\u001b[A\u001b[A\n",
      "\n",
      "Retrying generation for current utterance: 100%|█| 6/6 [11:30<00:00, 153.96s/it]\u001b[A\u001b[A\n",
      "\n",
      "                                                                                \u001b[A\u001b[A"
     ]
    },
    {
     "name": "stdout",
     "output_type": "stream",
     "text": [
      "Attempt 1: The generated list of paraphrases is empty. Retrying...\n"
     ]
    },
    {
     "name": "stderr",
     "output_type": "stream",
     "text": [
      "\n",
      "\n",
      "Retrying generation for current utterance:   0%|          | 0/6 [00:00<?, ?it/s]\u001b[A\u001b[A\n",
      "\n",
      "Retrying generation for current utterance:  17%|▎ | 1/6 [00:13<01:07, 13.55s/it]\u001b[A\u001b[A\n",
      "\n",
      "Retrying generation for current utterance:  33%|▋ | 2/6 [00:21<00:42, 10.50s/it]\u001b[A\u001b[A\n",
      "\n",
      "Retrying generation for current utterance:  50%|█ | 3/6 [00:56<01:04, 21.58s/it]\u001b[A\u001b[A\n",
      "\n",
      "Retrying generation for current utterance:  67%|█▎| 4/6 [01:13<00:39, 19.54s/it]\u001b[A\u001b[A\n",
      "\n",
      "Retrying generation for current utterance:  83%|█▋| 5/6 [01:28<00:17, 17.98s/it]\u001b[A\u001b[A\n",
      "\n",
      "Retrying generation for current utterance: 100%|██| 6/6 [01:36<00:00, 14.74s/it]\u001b[A\u001b[A\n",
      "\n",
      "                                                                                \u001b[A\u001b[A"
     ]
    },
    {
     "name": "stdout",
     "output_type": "stream",
     "text": [
      "Attempt 2: The generated list of paraphrases is empty. Retrying...\n"
     ]
    },
    {
     "name": "stderr",
     "output_type": "stream",
     "text": [
      "\n",
      "\n",
      "Retrying generation for current utterance:   0%|          | 0/6 [00:00<?, ?it/s]\u001b[A\u001b[A\n",
      "\n",
      "Retrying generation for current utterance:  17%|▎ | 1/6 [00:27<02:18, 27.63s/it]\u001b[A\u001b[A\n",
      "\n",
      "Retrying generation for current utterance:  33%|▋ | 2/6 [00:40<01:15, 18.78s/it]\u001b[A\u001b[A\n",
      "\n",
      "Retrying generation for current utterance:  50%|█ | 3/6 [00:54<00:50, 16.83s/it]\u001b[A\u001b[A\n",
      "\n",
      "Retrying generation for current utterance:  67%|█▎| 4/6 [01:39<00:55, 27.81s/it]\u001b[A\u001b[A\n",
      "\n",
      "Retrying generation for current utterance:  83%|█▋| 5/6 [01:55<00:23, 23.73s/it]\u001b[A\u001b[A\n",
      "\n",
      "Retrying generation for current utterance: 100%|██| 6/6 [02:28<00:00, 26.62s/it]\u001b[A\u001b[A\n",
      "\n",
      "                                                                                \u001b[A\u001b[A"
     ]
    },
    {
     "name": "stdout",
     "output_type": "stream",
     "text": [
      "Attempt 3: The generated list of paraphrases is empty. Retrying...\n"
     ]
    },
    {
     "name": "stderr",
     "output_type": "stream",
     "text": [
      "\n",
      "\n",
      "Retrying generation for current utterance:   0%|          | 0/6 [00:00<?, ?it/s]\u001b[A\u001b[A\n",
      "\n",
      "Retrying generation for current utterance:  17%|▎ | 1/6 [00:14<01:14, 14.87s/it]\u001b[A\u001b[A\n",
      "\n",
      "Retrying generation for current utterance:  33%|▋ | 2/6 [00:39<01:23, 20.77s/it]\u001b[A\u001b[A\n",
      "\n",
      "Retrying generation for current utterance:  50%|█ | 3/6 [00:53<00:52, 17.48s/it]\u001b[A\u001b[A\n",
      "\n",
      "Retrying generation for current utterance:  67%|█▎| 4/6 [01:11<00:35, 17.83s/it]\u001b[A\u001b[A\n",
      "\n",
      "Retrying generation for current utterance:  83%|█▋| 5/6 [01:37<00:20, 20.82s/it]\u001b[A\u001b[A\n",
      "\n",
      "                                                                                \u001b[A\u001b[A\n",
      " 45%|████████████████▋                    | 45/100 [2:46:54<7:24:37, 485.05s/it]\u001b[A"
     ]
    },
    {
     "name": "stdout",
     "output_type": "stream",
     "text": [
      "Paraphrases generated successfully after 3 attempts.\n"
     ]
    },
    {
     "name": "stderr",
     "output_type": "stream",
     "text": [
      "\n",
      "Attempt 1:   0%|                                          | 0/5 [00:00<?, ?it/s]\u001b[A\n",
      "\n",
      "Retrying generation for current utterance:   0%|          | 0/6 [00:00<?, ?it/s]\u001b[A\u001b[A\n",
      "\n",
      "Retrying generation for current utterance:  17%|▎ | 1/6 [00:12<01:03, 12.78s/it]\u001b[A\u001b[A\n",
      "\n",
      "                                                                                \u001b[A\u001b[A\n",
      " 46%|█████████████████                    | 46/100 [2:48:05<5:24:46, 360.87s/it]\u001b[A"
     ]
    },
    {
     "name": "stdout",
     "output_type": "stream",
     "text": [
      "Paraphrases generated successfully after 0 attempts.\n"
     ]
    },
    {
     "name": "stderr",
     "output_type": "stream",
     "text": [
      "\n",
      "Attempt 1:   0%|                                          | 0/5 [00:00<?, ?it/s]\u001b[A\n",
      "\n",
      "Retrying generation for current utterance:   0%|          | 0/6 [00:00<?, ?it/s]\u001b[A\u001b[A\n",
      "\n",
      "                                                                                \u001b[A\u001b[A\n",
      " 47%|█████████████████▍                   | 47/100 [2:48:21<3:47:13, 257.24s/it]\u001b[A"
     ]
    },
    {
     "name": "stdout",
     "output_type": "stream",
     "text": [
      "Paraphrases generated successfully after 0 attempts.\n"
     ]
    },
    {
     "name": "stderr",
     "output_type": "stream",
     "text": [
      "\n",
      "Attempt 1:   0%|                                          | 0/5 [00:00<?, ?it/s]\u001b[A\n",
      "\n",
      "Retrying generation for current utterance:   0%|          | 0/6 [00:00<?, ?it/s]\u001b[A\u001b[A\n",
      "\n",
      "Retrying generation for current utterance:  17%|▎ | 1/6 [00:35<02:56, 35.31s/it]\u001b[A\u001b[A\n",
      "\n",
      "Retrying generation for current utterance:  33%|▋ | 2/6 [01:01<02:00, 30.21s/it]\u001b[A\u001b[A\n",
      "\n",
      "Retrying generation for current utterance:  50%|█ | 3/6 [01:16<01:09, 23.16s/it]\u001b[A\u001b[A\n",
      "\n",
      "Retrying generation for current utterance:  67%|█▎| 4/6 [01:30<00:38, 19.48s/it]\u001b[A\u001b[A\n",
      "\n",
      "                                                                                \u001b[A\u001b[A\n",
      " 48%|█████████████████▊                   | 48/100 [2:50:08<3:04:01, 212.34s/it]\u001b[A"
     ]
    },
    {
     "name": "stdout",
     "output_type": "stream",
     "text": [
      "Paraphrases generated successfully after 0 attempts.\n"
     ]
    },
    {
     "name": "stderr",
     "output_type": "stream",
     "text": [
      "\n",
      "Attempt 1:   0%|                                          | 0/5 [00:00<?, ?it/s]\u001b[A\n",
      "\n",
      "Retrying generation for current utterance:   0%|          | 0/6 [00:00<?, ?it/s]\u001b[A\u001b[A\n",
      "\n",
      "Retrying generation for current utterance:  17%|▎ | 1/6 [00:17<01:29, 17.90s/it]\u001b[A\u001b[A\n",
      "\n",
      "Retrying generation for current utterance:  33%|▋ | 2/6 [00:36<01:14, 18.57s/it]\u001b[A\u001b[A\n",
      "\n",
      "                                                                                \u001b[A\u001b[A\n",
      "Attempt 1:   0%| | 0/5 [00:44<?, ?it/s, status=Retry: Some paraphrases contain n\u001b[A\n",
      "Attempt 1:  20%|▏| 1/5 [00:44<02:59, 44.77s/it, status=Retry: Some paraphrases c\u001b[A"
     ]
    },
    {
     "name": "stdout",
     "output_type": "stream",
     "text": [
      "Paraphrases generated successfully after 0 attempts.\n"
     ]
    },
    {
     "name": "stderr",
     "output_type": "stream",
     "text": [
      "\n",
      "\n",
      "Retrying generation for current utterance:   0%|          | 0/6 [00:00<?, ?it/s]\u001b[A\u001b[A\n",
      "\n",
      "                                                                                \u001b[A\u001b[A\n",
      " 49%|██████████████████▏                  | 49/100 [2:51:12<2:22:36, 167.78s/it]\u001b[A"
     ]
    },
    {
     "name": "stdout",
     "output_type": "stream",
     "text": [
      "Paraphrases generated successfully after 0 attempts.\n"
     ]
    },
    {
     "name": "stderr",
     "output_type": "stream",
     "text": [
      "\n",
      "Attempt 1:   0%|                                          | 0/5 [00:00<?, ?it/s]\u001b[A\n",
      "\n",
      "Retrying generation for current utterance:   0%|          | 0/6 [00:00<?, ?it/s]\u001b[A\u001b[A\n",
      "\n",
      "                                                                                \u001b[A\u001b[A\n",
      " 50%|██████████████████▌                  | 50/100 [2:51:43<1:45:31, 126.63s/it]\u001b[A"
     ]
    },
    {
     "name": "stdout",
     "output_type": "stream",
     "text": [
      "Paraphrases generated successfully after 0 attempts.\n"
     ]
    },
    {
     "name": "stderr",
     "output_type": "stream",
     "text": [
      "\n",
      "Attempt 1:   0%|                                          | 0/5 [00:00<?, ?it/s]\u001b[A\n",
      "\n",
      "Retrying generation for current utterance:   0%|          | 0/6 [00:00<?, ?it/s]\u001b[A\u001b[A\n",
      "\n",
      "                                                                                \u001b[A\u001b[A\n",
      " 51%|███████████████████▍                  | 51/100 [2:51:59<1:16:13, 93.33s/it]\u001b[A"
     ]
    },
    {
     "name": "stdout",
     "output_type": "stream",
     "text": [
      "Paraphrases generated successfully after 0 attempts.\n"
     ]
    },
    {
     "name": "stderr",
     "output_type": "stream",
     "text": [
      "\n",
      "Attempt 1:   0%|                                          | 0/5 [00:00<?, ?it/s]\u001b[A\n",
      "\n",
      "Retrying generation for current utterance:   0%|          | 0/6 [00:00<?, ?it/s]\u001b[A\u001b[A\n",
      "\n",
      "Retrying generation for current utterance:  17%|▎ | 1/6 [00:20<01:40, 20.04s/it]\u001b[A\u001b[A\n",
      "\n",
      "                                                                                \u001b[A\u001b[A\n",
      " 52%|███████████████████▊                  | 52/100 [2:52:41<1:02:29, 78.12s/it]\u001b[A"
     ]
    },
    {
     "name": "stdout",
     "output_type": "stream",
     "text": [
      "Paraphrases generated successfully after 0 attempts.\n"
     ]
    },
    {
     "name": "stderr",
     "output_type": "stream",
     "text": [
      "\n",
      "Attempt 1:   0%|                                          | 0/5 [00:00<?, ?it/s]\u001b[A\n",
      "\n",
      "Retrying generation for current utterance:   0%|          | 0/6 [00:00<?, ?it/s]\u001b[A\u001b[A\n",
      "\n",
      "Retrying generation for current utterance:  17%|▎ | 1/6 [00:23<01:57, 23.48s/it]\u001b[A\u001b[A\n",
      "\n",
      "Retrying generation for current utterance:  33%|▋ | 2/6 [00:32<00:59, 14.91s/it]\u001b[A\u001b[A\n",
      "\n",
      "Retrying generation for current utterance:  50%|█ | 3/6 [00:44<00:40, 13.52s/it]\u001b[A\u001b[A\n",
      "\n",
      "                                                                                \u001b[A\u001b[A\n",
      " 53%|█████████████████████▏                  | 53/100 [2:53:44<57:41, 73.66s/it]\u001b[A"
     ]
    },
    {
     "name": "stdout",
     "output_type": "stream",
     "text": [
      "Paraphrases generated successfully after 0 attempts.\n"
     ]
    },
    {
     "name": "stderr",
     "output_type": "stream",
     "text": [
      "\n",
      "Attempt 1:   0%|                                          | 0/5 [00:00<?, ?it/s]\u001b[A\n",
      "\n",
      "Retrying generation for current utterance:   0%|          | 0/6 [00:00<?, ?it/s]\u001b[A\u001b[A\n",
      "\n",
      "                                                                                \u001b[A\u001b[A\n",
      " 54%|█████████████████████▌                  | 54/100 [2:54:26<49:11, 64.16s/it]\u001b[A"
     ]
    },
    {
     "name": "stdout",
     "output_type": "stream",
     "text": [
      "Paraphrases generated successfully after 0 attempts.\n"
     ]
    },
    {
     "name": "stderr",
     "output_type": "stream",
     "text": [
      "\n",
      "Attempt 1:   0%|                                          | 0/5 [00:00<?, ?it/s]\u001b[A\n",
      "\n",
      "Retrying generation for current utterance:   0%|          | 0/6 [00:00<?, ?it/s]\u001b[A\u001b[A\n",
      "\n",
      "Retrying generation for current utterance:  17%|▎ | 1/6 [00:20<01:40, 20.10s/it]\u001b[A\u001b[A\n",
      "\n",
      "                                                                                \u001b[A\u001b[A\n",
      " 55%|██████████████████████                  | 55/100 [2:55:14<44:21, 59.15s/it]\u001b[A"
     ]
    },
    {
     "name": "stdout",
     "output_type": "stream",
     "text": [
      "Paraphrases generated successfully after 0 attempts.\n"
     ]
    },
    {
     "name": "stderr",
     "output_type": "stream",
     "text": [
      "\n",
      "Attempt 1:   0%|                                          | 0/5 [00:00<?, ?it/s]\u001b[A\n",
      "\n",
      "Retrying generation for current utterance:   0%|          | 0/6 [00:00<?, ?it/s]\u001b[A\u001b[A\n",
      "\n",
      "Retrying generation for current utterance:  17%|▎ | 1/6 [00:14<01:14, 14.98s/it]\u001b[A\u001b[A\n",
      "\n",
      "                                                                                \u001b[A\u001b[A\n",
      " 56%|██████████████████████▍                 | 56/100 [2:55:44<36:55, 50.36s/it]\u001b[A"
     ]
    },
    {
     "name": "stdout",
     "output_type": "stream",
     "text": [
      "Paraphrases generated successfully after 0 attempts.\n"
     ]
    },
    {
     "name": "stderr",
     "output_type": "stream",
     "text": [
      "\n",
      "Attempt 1:   0%|                                          | 0/5 [00:00<?, ?it/s]\u001b[A\n",
      "\n",
      "Retrying generation for current utterance:   0%|          | 0/6 [00:00<?, ?it/s]\u001b[A\u001b[A\n",
      "\n",
      "                                                                                \u001b[A\u001b[A\n",
      "Attempt 1:   0%| | 0/5 [00:18<?, ?it/s, status=Retry: Some paraphrases contain n\u001b[A\n",
      "Attempt 1:  20%|▏| 1/5 [00:18<01:15, 18.88s/it, status=Retry: Some paraphrases c\u001b[A"
     ]
    },
    {
     "name": "stdout",
     "output_type": "stream",
     "text": [
      "Paraphrases generated successfully after 0 attempts.\n"
     ]
    },
    {
     "name": "stderr",
     "output_type": "stream",
     "text": [
      "\n",
      "\n",
      "Retrying generation for current utterance:   0%|          | 0/6 [00:00<?, ?it/s]\u001b[A\u001b[A\n",
      "\n",
      "Retrying generation for current utterance:  17%|▎ | 1/6 [00:22<01:54, 22.97s/it]\u001b[A\u001b[A\n",
      "\n",
      "Retrying generation for current utterance:  33%|▋ | 2/6 [00:53<01:49, 27.30s/it]\u001b[A\u001b[A\n",
      "\n",
      "Retrying generation for current utterance:  50%|█ | 3/6 [01:13<01:12, 24.14s/it]\u001b[A\u001b[A\n",
      "\n",
      "Retrying generation for current utterance:  67%|█▎| 4/6 [01:37<00:47, 23.84s/it]\u001b[A\u001b[A\n",
      "\n",
      "Retrying generation for current utterance:  83%|█▋| 5/6 [02:00<00:23, 23.76s/it]\u001b[A\u001b[A\n",
      "\n",
      "Retrying generation for current utterance: 100%|██| 6/6 [02:32<00:00, 26.44s/it]\u001b[A\u001b[A\n",
      "\n",
      "                                                                                \u001b[A\u001b[A"
     ]
    },
    {
     "name": "stdout",
     "output_type": "stream",
     "text": [
      "Attempt 1: The generated list of paraphrases is empty. Retrying...\n"
     ]
    },
    {
     "name": "stderr",
     "output_type": "stream",
     "text": [
      "\n",
      "\n",
      "Retrying generation for current utterance:   0%|          | 0/6 [00:00<?, ?it/s]\u001b[A\u001b[A\n",
      "\n",
      "Retrying generation for current utterance:  17%|▎ | 1/6 [00:27<02:19, 27.85s/it]\u001b[A\u001b[A\n",
      "\n",
      "Retrying generation for current utterance:  33%|▋ | 2/6 [00:51<01:41, 25.41s/it]\u001b[A\u001b[A\n",
      "\n",
      "Retrying generation for current utterance:  50%|█ | 3/6 [01:36<01:42, 34.21s/it]\u001b[A\u001b[A\n",
      "\n",
      "Retrying generation for current utterance:  67%|█▎| 4/6 [02:25<01:20, 40.15s/it]\u001b[A\u001b[A\n",
      "\n",
      "Retrying generation for current utterance:  83%|█▋| 5/6 [02:41<00:31, 31.51s/it]\u001b[A\u001b[A\n",
      "\n",
      "                                                                                \u001b[A\u001b[A\n",
      " 57%|█████████████████████                | 57/100 [3:01:38<1:41:26, 141.55s/it]\u001b[A"
     ]
    },
    {
     "name": "stdout",
     "output_type": "stream",
     "text": [
      "Paraphrases generated successfully after 1 attempts.\n"
     ]
    },
    {
     "name": "stderr",
     "output_type": "stream",
     "text": [
      "\n",
      "Attempt 1:   0%|                                          | 0/5 [00:00<?, ?it/s]\u001b[A\n",
      "\n",
      "Retrying generation for current utterance:   0%|          | 0/6 [00:00<?, ?it/s]\u001b[A\u001b[A\n",
      "\n",
      "Retrying generation for current utterance:  17%|▎ | 1/6 [00:38<03:13, 38.71s/it]\u001b[A\u001b[A\n",
      "\n",
      "Retrying generation for current utterance:  33%|▋ | 2/6 [01:04<02:05, 31.29s/it]\u001b[A\u001b[A\n",
      "\n",
      "Retrying generation for current utterance:  50%|█ | 3/6 [01:26<01:21, 27.11s/it]\u001b[A\u001b[A\n",
      "\n",
      "Retrying generation for current utterance:  67%|█▎| 4/6 [01:54<00:54, 27.13s/it]\u001b[A\u001b[A\n",
      "\n",
      "Retrying generation for current utterance:  83%|█▋| 5/6 [02:21<00:27, 27.07s/it]\u001b[A\u001b[A\n",
      "\n",
      "Retrying generation for current utterance: 100%|██| 6/6 [03:04<00:00, 32.66s/it]\u001b[A\u001b[A\n",
      "\n",
      "                                                                                \u001b[A\u001b[A"
     ]
    },
    {
     "name": "stdout",
     "output_type": "stream",
     "text": [
      "Attempt 1: The generated list of paraphrases is empty. Retrying...\n"
     ]
    },
    {
     "name": "stderr",
     "output_type": "stream",
     "text": [
      "\n",
      "\n",
      "Retrying generation for current utterance:   0%|          | 0/6 [00:00<?, ?it/s]\u001b[A\u001b[A\n",
      "\n",
      "Retrying generation for current utterance:  17%|▎ | 1/6 [00:22<01:50, 22.02s/it]\u001b[A\u001b[A\n",
      "\n",
      "Retrying generation for current utterance:  33%|▋ | 2/6 [01:06<02:20, 35.11s/it]\u001b[A\u001b[A\n",
      "\n",
      "Retrying generation for current utterance:  50%|█ | 3/6 [01:23<01:21, 27.02s/it]\u001b[A\u001b[A\n",
      "\n",
      "Retrying generation for current utterance:  67%|█▎| 4/6 [01:46<00:50, 25.30s/it]\u001b[A\u001b[A\n",
      "\n",
      "Retrying generation for current utterance:  83%|█▋| 5/6 [02:10<00:24, 24.78s/it]\u001b[A\u001b[A\n",
      "\n",
      "Retrying generation for current utterance: 100%|██| 6/6 [02:25<00:00, 21.56s/it]\u001b[A\u001b[A\n",
      "\n",
      "                                                                                \u001b[A\u001b[A"
     ]
    },
    {
     "name": "stdout",
     "output_type": "stream",
     "text": [
      "Attempt 2: The generated list of paraphrases is empty. Retrying...\n"
     ]
    },
    {
     "name": "stderr",
     "output_type": "stream",
     "text": [
      "\n",
      "\n",
      "Retrying generation for current utterance:   0%|          | 0/6 [00:00<?, ?it/s]\u001b[A\u001b[A\n",
      "\n",
      "                                                                                \u001b[A\u001b[A\n",
      " 58%|█████████████████████▍               | 58/100 [3:07:35<2:24:20, 206.20s/it]\u001b[A"
     ]
    },
    {
     "name": "stdout",
     "output_type": "stream",
     "text": [
      "Paraphrases generated successfully after 2 attempts.\n"
     ]
    },
    {
     "name": "stderr",
     "output_type": "stream",
     "text": [
      "\n",
      "Attempt 1:   0%|                                          | 0/5 [00:00<?, ?it/s]\u001b[A\n",
      "\n",
      "Retrying generation for current utterance:   0%|          | 0/6 [00:00<?, ?it/s]\u001b[A\u001b[A\n",
      "\n",
      "                                                                                \u001b[A\u001b[A\n",
      " 59%|█████████████████████▊               | 59/100 [3:07:49<1:41:26, 148.46s/it]\u001b[A"
     ]
    },
    {
     "name": "stdout",
     "output_type": "stream",
     "text": [
      "Paraphrases generated successfully after 0 attempts.\n"
     ]
    },
    {
     "name": "stderr",
     "output_type": "stream",
     "text": [
      "\n",
      "Attempt 1:   0%|                                          | 0/5 [00:00<?, ?it/s]\u001b[A\n",
      "\n",
      "Retrying generation for current utterance:   0%|          | 0/6 [00:00<?, ?it/s]\u001b[A\u001b[A\n",
      "\n",
      "Retrying generation for current utterance:  17%|▎ | 1/6 [00:14<01:10, 14.01s/it]\u001b[A\u001b[A\n",
      "\n",
      "Retrying generation for current utterance:  33%|▋ | 2/6 [00:31<01:03, 15.85s/it]\u001b[A\u001b[A\n",
      "\n",
      "Retrying generation for current utterance:  50%|█ | 3/6 [00:43<00:42, 14.26s/it]\u001b[A\u001b[A\n",
      "\n",
      "Retrying generation for current utterance:  67%|█▎| 4/6 [00:59<00:29, 14.75s/it]\u001b[A\u001b[A\n",
      "\n",
      "Retrying generation for current utterance:  83%|█▋| 5/6 [01:14<00:14, 14.85s/it]\u001b[A\u001b[A\n",
      "\n",
      "Retrying generation for current utterance: 100%|██| 6/6 [01:27<00:00, 14.27s/it]\u001b[A\u001b[A\n",
      "\n",
      "                                                                                \u001b[A\u001b[A"
     ]
    },
    {
     "name": "stdout",
     "output_type": "stream",
     "text": [
      "Attempt 1: The generated list of paraphrases is empty. Retrying...\n"
     ]
    },
    {
     "name": "stderr",
     "output_type": "stream",
     "text": [
      "\n",
      "\n",
      "Retrying generation for current utterance:   0%|          | 0/6 [00:00<?, ?it/s]\u001b[A\u001b[A\n",
      "\n",
      "Retrying generation for current utterance:  17%|▎ | 1/6 [00:15<01:19, 16.00s/it]\u001b[A\u001b[A\n",
      "\n",
      "Retrying generation for current utterance:  33%|▋ | 2/6 [00:26<00:51, 12.99s/it]\u001b[A\u001b[A\n",
      "\n",
      "                                                                                \u001b[A\u001b[A\n",
      " 60%|██████████████████████▏              | 60/100 [3:09:58<1:35:07, 142.69s/it]\u001b[A"
     ]
    },
    {
     "name": "stdout",
     "output_type": "stream",
     "text": [
      "Paraphrases generated successfully after 1 attempts.\n"
     ]
    },
    {
     "name": "stderr",
     "output_type": "stream",
     "text": [
      "\n",
      "Attempt 1:   0%|                                          | 0/5 [00:00<?, ?it/s]\u001b[A\n",
      "\n",
      "Retrying generation for current utterance:   0%|          | 0/6 [00:00<?, ?it/s]\u001b[A\u001b[A\n",
      "\n",
      "Retrying generation for current utterance:  17%|▎ | 1/6 [00:33<02:45, 33.08s/it]\u001b[A\u001b[A\n",
      "\n",
      "Retrying generation for current utterance:  33%|▋ | 2/6 [00:53<01:42, 25.57s/it]\u001b[A\u001b[A\n",
      "\n",
      "                                                                                \u001b[A\u001b[A\n",
      " 61%|██████████████████████▌              | 61/100 [3:11:56<1:27:59, 135.36s/it]\u001b[A"
     ]
    },
    {
     "name": "stdout",
     "output_type": "stream",
     "text": [
      "Paraphrases generated successfully after 0 attempts.\n"
     ]
    },
    {
     "name": "stderr",
     "output_type": "stream",
     "text": [
      "\n",
      "Attempt 1:   0%|                                          | 0/5 [00:00<?, ?it/s]\u001b[A\n",
      "\n",
      "Retrying generation for current utterance:   0%|          | 0/6 [00:00<?, ?it/s]\u001b[A\u001b[A\n",
      "\n",
      "Retrying generation for current utterance:  17%|▎ | 1/6 [00:20<01:42, 20.53s/it]\u001b[A\u001b[A\n",
      "\n",
      "Retrying generation for current utterance:  33%|▋ | 2/6 [00:41<01:22, 20.62s/it]\u001b[A\u001b[A\n",
      "\n",
      "                                                                                \u001b[A\u001b[A\n",
      " 62%|██████████████████████▉              | 62/100 [3:12:56<1:11:26, 112.80s/it]\u001b[A"
     ]
    },
    {
     "name": "stdout",
     "output_type": "stream",
     "text": [
      "Paraphrases generated successfully after 0 attempts.\n"
     ]
    },
    {
     "name": "stderr",
     "output_type": "stream",
     "text": [
      "\n",
      "Attempt 1:   0%|                                          | 0/5 [00:00<?, ?it/s]\u001b[A\n",
      "\n",
      "Retrying generation for current utterance:   0%|          | 0/6 [00:00<?, ?it/s]\u001b[A\u001b[A\n",
      "\n",
      "Retrying generation for current utterance:  17%|▎ | 1/6 [00:20<01:40, 20.12s/it]\u001b[A\u001b[A\n",
      "\n",
      "                                                                                \u001b[A\u001b[A\n",
      "Attempt 1:   0%| | 0/5 [00:30<?, ?it/s, status=Retry: Some paraphrases contain n\u001b[A\n",
      "Attempt 1:  20%|▏| 1/5 [00:30<02:00, 30.19s/it, status=Retry: Some paraphrases c\u001b[A"
     ]
    },
    {
     "name": "stdout",
     "output_type": "stream",
     "text": [
      "Paraphrases generated successfully after 0 attempts.\n"
     ]
    },
    {
     "name": "stderr",
     "output_type": "stream",
     "text": [
      "\n",
      "\n",
      "Retrying generation for current utterance:   0%|          | 0/6 [00:00<?, ?it/s]\u001b[A\u001b[A\n",
      "\n",
      "Retrying generation for current utterance:  17%|▎ | 1/6 [00:44<03:43, 44.68s/it]\u001b[A\u001b[A\n",
      "\n",
      "                                                                                \u001b[A\u001b[A\n",
      " 63%|███████████████████████▎             | 63/100 [3:14:31<1:06:07, 107.23s/it]\u001b[A"
     ]
    },
    {
     "name": "stdout",
     "output_type": "stream",
     "text": [
      "Paraphrases generated successfully after 0 attempts.\n"
     ]
    },
    {
     "name": "stderr",
     "output_type": "stream",
     "text": [
      "\n",
      "Attempt 1:   0%|                                          | 0/5 [00:00<?, ?it/s]\u001b[A\n",
      "\n",
      "Retrying generation for current utterance:   0%|          | 0/6 [00:00<?, ?it/s]\u001b[A\u001b[A\n",
      "\n",
      "Retrying generation for current utterance:  17%|▎ | 1/6 [00:08<00:40,  8.10s/it]\u001b[A\u001b[A\n",
      "\n",
      "                                                                                \u001b[A\u001b[A\n",
      "Attempt 1:   0%| | 0/5 [00:26<?, ?it/s, status=Retry: Some paraphrases contain n\u001b[A\n",
      "Attempt 1:  20%|▏| 1/5 [00:26<01:44, 26.25s/it, status=Retry: Some paraphrases c\u001b[A"
     ]
    },
    {
     "name": "stdout",
     "output_type": "stream",
     "text": [
      "Paraphrases generated successfully after 0 attempts.\n"
     ]
    },
    {
     "name": "stderr",
     "output_type": "stream",
     "text": [
      "\n",
      "\n",
      "Retrying generation for current utterance:   0%|          | 0/6 [00:00<?, ?it/s]\u001b[A\u001b[A\n",
      "\n",
      "Retrying generation for current utterance:  17%|▎ | 1/6 [00:22<01:54, 22.84s/it]\u001b[A\u001b[A\n",
      "\n",
      "                                                                                \u001b[A\u001b[A\n",
      " 64%|███████████████████████▋             | 64/100 [3:15:57<1:00:34, 100.95s/it]\u001b[A"
     ]
    },
    {
     "name": "stdout",
     "output_type": "stream",
     "text": [
      "Paraphrases generated successfully after 0 attempts.\n"
     ]
    },
    {
     "name": "stderr",
     "output_type": "stream",
     "text": [
      "\n",
      "Attempt 1:   0%|                                          | 0/5 [00:00<?, ?it/s]\u001b[A\n",
      "\n",
      "Retrying generation for current utterance:   0%|          | 0/6 [00:00<?, ?it/s]\u001b[A\u001b[A\n",
      "\n",
      "Retrying generation for current utterance:  17%|▎ | 1/6 [00:11<00:59, 11.96s/it]\u001b[A\u001b[A\n",
      "\n",
      "Retrying generation for current utterance:  33%|▋ | 2/6 [00:27<00:55, 13.89s/it]\u001b[A\u001b[A\n",
      "\n",
      "Retrying generation for current utterance:  50%|█ | 3/6 [00:43<00:44, 14.84s/it]\u001b[A\u001b[A\n",
      "\n",
      "Retrying generation for current utterance:  67%|█▎| 4/6 [00:57<00:29, 14.61s/it]\u001b[A\u001b[A\n",
      "\n",
      "Retrying generation for current utterance:  83%|█▋| 5/6 [01:17<00:16, 16.53s/it]\u001b[A\u001b[A\n",
      "\n",
      "                                                                                \u001b[A\u001b[A\n",
      " 65%|██████████████████████████              | 65/100 [3:17:29<57:14, 98.14s/it]\u001b[A"
     ]
    },
    {
     "name": "stdout",
     "output_type": "stream",
     "text": [
      "Paraphrases generated successfully after 0 attempts.\n"
     ]
    },
    {
     "name": "stderr",
     "output_type": "stream",
     "text": [
      "\n",
      "Attempt 1:   0%|                                          | 0/5 [00:00<?, ?it/s]\u001b[A\n",
      "\n",
      "Retrying generation for current utterance:   0%|          | 0/6 [00:00<?, ?it/s]\u001b[A\u001b[A\n",
      "\n",
      "Retrying generation for current utterance:  17%|▎ | 1/6 [00:13<01:05, 13.10s/it]\u001b[A\u001b[A\n",
      "\n",
      "Retrying generation for current utterance:  33%|▋ | 2/6 [00:33<01:09, 17.34s/it]\u001b[A\u001b[A\n",
      "\n",
      "                                                                                \u001b[A\u001b[A\n",
      " 66%|██████████████████████████▍             | 66/100 [3:18:19<47:28, 83.77s/it]\u001b[A"
     ]
    },
    {
     "name": "stdout",
     "output_type": "stream",
     "text": [
      "Paraphrases generated successfully after 0 attempts.\n"
     ]
    },
    {
     "name": "stderr",
     "output_type": "stream",
     "text": [
      "\n",
      "Attempt 1:   0%|                                          | 0/5 [00:00<?, ?it/s]\u001b[A\n",
      "\n",
      "Retrying generation for current utterance:   0%|          | 0/6 [00:00<?, ?it/s]\u001b[A\u001b[A\n",
      "\n",
      "Retrying generation for current utterance:  17%|▎ | 1/6 [00:39<03:17, 39.45s/it]\u001b[A\u001b[A\n",
      "\n",
      "Retrying generation for current utterance:  33%|▋ | 2/6 [01:12<02:22, 35.62s/it]\u001b[A\u001b[A\n",
      "\n",
      "                                                                                \u001b[A\u001b[A\n",
      "Attempt 1:   0%| | 0/5 [01:31<?, ?it/s, status=Retry: Some paraphrases contain n\u001b[A\n",
      "Attempt 1:  20%|▏| 1/5 [01:31<06:06, 91.70s/it, status=Retry: Some paraphrases c\u001b[A"
     ]
    },
    {
     "name": "stdout",
     "output_type": "stream",
     "text": [
      "Paraphrases generated successfully after 0 attempts.\n"
     ]
    },
    {
     "name": "stderr",
     "output_type": "stream",
     "text": [
      "\n",
      "\n",
      "Retrying generation for current utterance:   0%|          | 0/6 [00:00<?, ?it/s]\u001b[A\u001b[A\n",
      "\n",
      "Retrying generation for current utterance:  17%|▎ | 1/6 [00:16<01:23, 16.79s/it]\u001b[A\u001b[A\n",
      "\n",
      "                                                                                \u001b[A\u001b[A\n",
      " 67%|██████████████████████████▊             | 67/100 [3:20:22<52:37, 95.69s/it]\u001b[A"
     ]
    },
    {
     "name": "stdout",
     "output_type": "stream",
     "text": [
      "Paraphrases generated successfully after 0 attempts.\n"
     ]
    },
    {
     "name": "stderr",
     "output_type": "stream",
     "text": [
      "\n",
      "Attempt 1:   0%|                                          | 0/5 [00:00<?, ?it/s]\u001b[A\n",
      "\n",
      "Retrying generation for current utterance:   0%|          | 0/6 [00:00<?, ?it/s]\u001b[A\u001b[A"
     ]
    },
    {
     "name": "stdout",
     "output_type": "stream",
     "text": [
      "API server is overloaded or not ready. Retrying in 3 seconds...\n"
     ]
    },
    {
     "name": "stderr",
     "output_type": "stream",
     "text": [
      "\n",
      "\n",
      "Retrying generation for current utterance:  17%|▎ | 1/6 [00:37<03:08, 37.70s/it]\u001b[A\u001b[A\n",
      "\n",
      "                                                                                \u001b[A\u001b[A\n",
      "Attempt 1:   0%| | 0/5 [00:46<?, ?it/s, status=Retry: Some paraphrases contain n\u001b[A\n",
      "Attempt 1:  20%|▏| 1/5 [00:46<03:04, 46.09s/it, status=Retry: Some paraphrases c\u001b[A"
     ]
    },
    {
     "name": "stdout",
     "output_type": "stream",
     "text": [
      "Paraphrases generated successfully after 0 attempts.\n"
     ]
    },
    {
     "name": "stderr",
     "output_type": "stream",
     "text": [
      "\n",
      "\n",
      "Retrying generation for current utterance:   0%|          | 0/6 [00:00<?, ?it/s]\u001b[A\u001b[A\n",
      "\n",
      "Retrying generation for current utterance:  17%|▎ | 1/6 [00:34<02:54, 34.86s/it]\u001b[A\u001b[A\n",
      "\n",
      "Retrying generation for current utterance:  33%|▋ | 2/6 [01:07<02:13, 33.30s/it]\u001b[A\u001b[A\n",
      "\n",
      "Retrying generation for current utterance:  50%|█ | 3/6 [01:20<01:12, 24.33s/it]\u001b[A\u001b[A\n",
      "\n",
      "Retrying generation for current utterance:  67%|█▎| 4/6 [01:36<00:41, 20.77s/it]\u001b[A\u001b[A\n",
      "\n",
      "Retrying generation for current utterance:  83%|█▋| 5/6 [02:02<00:22, 22.82s/it]\u001b[A\u001b[A\n",
      "\n",
      "                                                                                \u001b[A\u001b[A\n",
      " 68%|█████████████████████████▏           | 68/100 [3:23:34<1:06:19, 124.35s/it]\u001b[A"
     ]
    },
    {
     "name": "stdout",
     "output_type": "stream",
     "text": [
      "Paraphrases generated successfully after 0 attempts.\n"
     ]
    },
    {
     "name": "stderr",
     "output_type": "stream",
     "text": [
      "\n",
      "Attempt 1:   0%|                                          | 0/5 [00:00<?, ?it/s]\u001b[A\n",
      "\n",
      "Retrying generation for current utterance:   0%|          | 0/6 [00:00<?, ?it/s]\u001b[A\u001b[A\n",
      "\n",
      "Retrying generation for current utterance:  17%|▎ | 1/6 [00:15<01:18, 15.65s/it]\u001b[A\u001b[A\n",
      "\n",
      "                                                                                \u001b[A\u001b[A\n",
      " 69%|███████████████████████████▌            | 69/100 [3:24:08<50:14, 97.25s/it]\u001b[A"
     ]
    },
    {
     "name": "stdout",
     "output_type": "stream",
     "text": [
      "Paraphrases generated successfully after 0 attempts.\n"
     ]
    },
    {
     "name": "stderr",
     "output_type": "stream",
     "text": [
      "\n",
      "Attempt 1:   0%|                                          | 0/5 [00:00<?, ?it/s]\u001b[A\n",
      "\n",
      "Retrying generation for current utterance:   0%|          | 0/6 [00:00<?, ?it/s]\u001b[A\u001b[A\n",
      "\n",
      "                                                                                \u001b[A\u001b[A\n",
      " 70%|████████████████████████████            | 70/100 [3:24:24<36:33, 73.11s/it]\u001b[A"
     ]
    },
    {
     "name": "stdout",
     "output_type": "stream",
     "text": [
      "Paraphrases generated successfully after 0 attempts.\n"
     ]
    },
    {
     "name": "stderr",
     "output_type": "stream",
     "text": [
      "\n",
      "Attempt 1:   0%|                                          | 0/5 [00:00<?, ?it/s]\u001b[A\n",
      "\n",
      "Retrying generation for current utterance:   0%|          | 0/6 [00:00<?, ?it/s]\u001b[A\u001b[A\n",
      "\n",
      "Retrying generation for current utterance:  17%|▎ | 1/6 [01:00<05:03, 60.67s/it]\u001b[A\u001b[A\n",
      "\n",
      "Retrying generation for current utterance:  33%|▋ | 2/6 [01:26<02:41, 40.27s/it]\u001b[A\u001b[A\n",
      "\n",
      "                                                                                \u001b[A\u001b[A\n",
      " 71%|████████████████████████████▍           | 71/100 [3:26:16<40:51, 84.54s/it]\u001b[A"
     ]
    },
    {
     "name": "stdout",
     "output_type": "stream",
     "text": [
      "Paraphrases generated successfully after 0 attempts.\n"
     ]
    },
    {
     "name": "stderr",
     "output_type": "stream",
     "text": [
      "\n",
      "Attempt 1:   0%|                                          | 0/5 [00:00<?, ?it/s]\u001b[A\n",
      "\n",
      "Retrying generation for current utterance:   0%|          | 0/6 [00:00<?, ?it/s]\u001b[A\u001b[A\n",
      "\n",
      "Retrying generation for current utterance:  17%|▎ | 1/6 [00:28<02:20, 28.16s/it]\u001b[A\u001b[A\n",
      "\n",
      "                                                                                \u001b[A\u001b[A\n",
      " 72%|████████████████████████████▊           | 72/100 [3:27:04<34:22, 73.65s/it]\u001b[A"
     ]
    },
    {
     "name": "stdout",
     "output_type": "stream",
     "text": [
      "Paraphrases generated successfully after 0 attempts.\n"
     ]
    },
    {
     "name": "stderr",
     "output_type": "stream",
     "text": [
      "\n",
      "Attempt 1:   0%|                                          | 0/5 [00:00<?, ?it/s]\u001b[A\n",
      "\n",
      "Retrying generation for current utterance:   0%|          | 0/6 [00:00<?, ?it/s]\u001b[A\u001b[A\n",
      "\n",
      "                                                                                \u001b[A\u001b[A\n",
      " 73%|█████████████████████████████▏          | 73/100 [3:27:43<28:25, 63.18s/it]\u001b[A"
     ]
    },
    {
     "name": "stdout",
     "output_type": "stream",
     "text": [
      "Paraphrases generated successfully after 0 attempts.\n"
     ]
    },
    {
     "name": "stderr",
     "output_type": "stream",
     "text": [
      "\n",
      "Attempt 1:   0%|                                          | 0/5 [00:00<?, ?it/s]\u001b[A\n",
      "\n",
      "Retrying generation for current utterance:   0%|          | 0/6 [00:00<?, ?it/s]\u001b[A\u001b[A\n",
      "\n",
      "                                                                                \u001b[A\u001b[A\n",
      " 74%|█████████████████████████████▌          | 74/100 [3:28:17<23:41, 54.69s/it]\u001b[A"
     ]
    },
    {
     "name": "stdout",
     "output_type": "stream",
     "text": [
      "Paraphrases generated successfully after 0 attempts.\n"
     ]
    },
    {
     "name": "stderr",
     "output_type": "stream",
     "text": [
      "\n",
      "Attempt 1:   0%|                                          | 0/5 [00:00<?, ?it/s]\u001b[A\n",
      "\n",
      "Retrying generation for current utterance:   0%|          | 0/6 [00:00<?, ?it/s]\u001b[A\u001b[A\n",
      "\n",
      "Retrying generation for current utterance:  17%|▎ | 1/6 [00:12<01:02, 12.50s/it]\u001b[A\u001b[A\n",
      "\n",
      "Retrying generation for current utterance:  33%|▋ | 2/6 [00:26<00:52, 13.16s/it]\u001b[A\u001b[A\n",
      "\n",
      "Retrying generation for current utterance:  50%|█ | 3/6 [00:41<00:43, 14.39s/it]\u001b[A\u001b[A\n",
      "\n",
      "                                                                                \u001b[A\u001b[A\n",
      "Attempt 1:   0%| | 0/5 [01:09<?, ?it/s, status=Retry: Some paraphrases contain n\u001b[A\n",
      "Attempt 1:  20%|▏| 1/5 [01:09<04:36, 69.16s/it, status=Retry: Some paraphrases c\u001b[A"
     ]
    },
    {
     "name": "stdout",
     "output_type": "stream",
     "text": [
      "Paraphrases generated successfully after 0 attempts.\n"
     ]
    },
    {
     "name": "stderr",
     "output_type": "stream",
     "text": [
      "\n",
      "\n",
      "Retrying generation for current utterance:   0%|          | 0/6 [00:00<?, ?it/s]\u001b[A\u001b[A\n",
      "\n",
      "Retrying generation for current utterance:  17%|▎ | 1/6 [00:16<01:22, 16.52s/it]\u001b[A\u001b[A\n",
      "\n",
      "Retrying generation for current utterance:  33%|▋ | 2/6 [00:28<00:54, 13.65s/it]\u001b[A\u001b[A\n",
      "\n",
      "Retrying generation for current utterance:  50%|█ | 3/6 [00:45<00:45, 15.12s/it]\u001b[A\u001b[A\n",
      "\n",
      "Retrying generation for current utterance:  67%|█▎| 4/6 [01:16<00:43, 21.56s/it]\u001b[A\u001b[A\n",
      "\n",
      "Retrying generation for current utterance:  83%|█▋| 5/6 [01:46<00:24, 24.67s/it]\u001b[A\u001b[A\n",
      "\n",
      "Retrying generation for current utterance: 100%|██| 6/6 [01:56<00:00, 19.77s/it]\u001b[A\u001b[A\n",
      "\n",
      "                                                                                \u001b[A\u001b[A"
     ]
    },
    {
     "name": "stdout",
     "output_type": "stream",
     "text": [
      "Attempt 1: The generated list of paraphrases is empty. Retrying...\n"
     ]
    },
    {
     "name": "stderr",
     "output_type": "stream",
     "text": [
      "\n",
      "\n",
      "Retrying generation for current utterance:   0%|          | 0/6 [00:00<?, ?it/s]\u001b[A\u001b[A\n",
      "\n",
      "                                                                                \u001b[A\u001b[A\n",
      " 75%|██████████████████████████████          | 75/100 [3:31:36<40:43, 97.76s/it]\u001b[A"
     ]
    },
    {
     "name": "stdout",
     "output_type": "stream",
     "text": [
      "Paraphrases generated successfully after 1 attempts.\n"
     ]
    },
    {
     "name": "stderr",
     "output_type": "stream",
     "text": [
      "\n",
      "Attempt 1:   0%|                                          | 0/5 [00:00<?, ?it/s]\u001b[A\n",
      "\n",
      "Retrying generation for current utterance:   0%|          | 0/6 [00:00<?, ?it/s]\u001b[A\u001b[A\n",
      "\n",
      "                                                                                \u001b[A\u001b[A\n",
      " 76%|██████████████████████████████▍         | 76/100 [3:31:48<28:50, 72.12s/it]\u001b[A"
     ]
    },
    {
     "name": "stdout",
     "output_type": "stream",
     "text": [
      "Paraphrases generated successfully after 0 attempts.\n"
     ]
    },
    {
     "name": "stderr",
     "output_type": "stream",
     "text": [
      "\n",
      "Attempt 1:   0%|                                          | 0/5 [00:00<?, ?it/s]\u001b[A\n",
      "\n",
      "Retrying generation for current utterance:   0%|          | 0/6 [00:00<?, ?it/s]\u001b[A\u001b[A\n",
      "\n",
      "Retrying generation for current utterance:  17%|▎ | 1/6 [00:15<01:19, 15.86s/it]\u001b[A\u001b[A\n",
      "\n",
      "Retrying generation for current utterance:  33%|▋ | 2/6 [00:29<00:57, 14.34s/it]\u001b[A\u001b[A\n",
      "\n",
      "                                                                                \u001b[A\u001b[A\n",
      " 77%|██████████████████████████████▊         | 77/100 [3:32:28<23:57, 62.52s/it]\u001b[A"
     ]
    },
    {
     "name": "stdout",
     "output_type": "stream",
     "text": [
      "Paraphrases generated successfully after 0 attempts.\n"
     ]
    },
    {
     "name": "stderr",
     "output_type": "stream",
     "text": [
      "\n",
      "Attempt 1:   0%|                                          | 0/5 [00:00<?, ?it/s]\u001b[A\n",
      "\n",
      "Retrying generation for current utterance:   0%|          | 0/6 [00:00<?, ?it/s]\u001b[A\u001b[A\n",
      "\n",
      "Retrying generation for current utterance:  17%|▎ | 1/6 [00:15<01:18, 15.70s/it]\u001b[A\u001b[A\n",
      "\n",
      "Retrying generation for current utterance:  33%|▋ | 2/6 [00:36<01:13, 18.46s/it]\u001b[A\u001b[A\n",
      "\n",
      "Retrying generation for current utterance:  50%|█ | 3/6 [01:02<01:05, 21.92s/it]\u001b[A\u001b[A\n",
      "\n",
      "Retrying generation for current utterance:  67%|█▎| 4/6 [01:29<00:48, 24.12s/it]\u001b[A\u001b[A\n",
      "\n",
      "Retrying generation for current utterance:  83%|█▋| 5/6 [01:44<00:20, 20.77s/it]\u001b[A\u001b[A\n",
      "\n",
      "Retrying generation for current utterance: 100%|██| 6/6 [02:01<00:00, 19.60s/it]\u001b[A\u001b[A\n",
      "\n",
      "                                                                                \u001b[A\u001b[A"
     ]
    },
    {
     "name": "stdout",
     "output_type": "stream",
     "text": [
      "Attempt 1: The generated list of paraphrases is empty. Retrying...\n"
     ]
    },
    {
     "name": "stderr",
     "output_type": "stream",
     "text": [
      "\n",
      "\n",
      "Retrying generation for current utterance:   0%|          | 0/6 [00:00<?, ?it/s]\u001b[A\u001b[A\n",
      "\n",
      "                                                                                \u001b[A\u001b[A\n",
      " 78%|███████████████████████████████▏        | 78/100 [3:34:50<31:39, 86.35s/it]\u001b[A"
     ]
    },
    {
     "name": "stdout",
     "output_type": "stream",
     "text": [
      "Paraphrases generated successfully after 1 attempts.\n"
     ]
    },
    {
     "name": "stderr",
     "output_type": "stream",
     "text": [
      "\n",
      "Attempt 1:   0%|                                          | 0/5 [00:00<?, ?it/s]\u001b[A\n",
      "\n",
      "Retrying generation for current utterance:   0%|          | 0/6 [00:00<?, ?it/s]\u001b[A\u001b[A\n",
      "\n",
      "Retrying generation for current utterance:  17%|▎ | 1/6 [00:16<01:23, 16.69s/it]\u001b[A\u001b[A\n",
      "\n",
      "Retrying generation for current utterance:  33%|▋ | 2/6 [00:30<01:00, 15.04s/it]\u001b[A\u001b[A\n",
      "\n",
      "Retrying generation for current utterance:  50%|█ | 3/6 [00:45<00:45, 15.05s/it]\u001b[A\u001b[A\n",
      "\n",
      "Retrying generation for current utterance:  67%|█▎| 4/6 [01:32<00:55, 27.67s/it]\u001b[A\u001b[A\n",
      "\n",
      "Retrying generation for current utterance:  83%|█▋| 5/6 [02:01<00:27, 27.99s/it]\u001b[A\u001b[A\n",
      "\n",
      "Retrying generation for current utterance: 100%|██| 6/6 [02:18<00:00, 24.49s/it]\u001b[A\u001b[A\n",
      "\n",
      "                                                                                \u001b[A\u001b[A"
     ]
    },
    {
     "name": "stdout",
     "output_type": "stream",
     "text": [
      "Attempt 1: The generated list of paraphrases is empty. Retrying...\n"
     ]
    },
    {
     "name": "stderr",
     "output_type": "stream",
     "text": [
      "\n",
      "\n",
      "Retrying generation for current utterance:   0%|          | 0/6 [00:00<?, ?it/s]\u001b[A\u001b[A\n",
      "\n",
      "Retrying generation for current utterance:  17%|▎ | 1/6 [00:18<01:30, 18.07s/it]\u001b[A\u001b[A\n",
      "\n",
      "Retrying generation for current utterance:  33%|▋ | 2/6 [00:33<01:05, 16.41s/it]\u001b[A\u001b[A\n",
      "\n",
      "Retrying generation for current utterance:  50%|█ | 3/6 [00:49<00:48, 16.29s/it]\u001b[A\u001b[A\n",
      "\n",
      "Retrying generation for current utterance:  67%|█▎| 4/6 [01:28<00:50, 25.30s/it]\u001b[A\u001b[A\n",
      "\n",
      "Retrying generation for current utterance:  83%|█▋| 5/6 [01:46<00:22, 22.68s/it]\u001b[A\u001b[A\n",
      "\n",
      "Retrying generation for current utterance: 100%|██| 6/6 [01:59<00:00, 19.19s/it]\u001b[A\u001b[A\n",
      "\n",
      "                                                                                \u001b[A\u001b[A"
     ]
    },
    {
     "name": "stdout",
     "output_type": "stream",
     "text": [
      "Attempt 2: The generated list of paraphrases is empty. Retrying...\n"
     ]
    },
    {
     "name": "stderr",
     "output_type": "stream",
     "text": [
      "\n",
      "\n",
      "Retrying generation for current utterance:   0%|          | 0/6 [00:00<?, ?it/s]\u001b[A\u001b[A\n",
      "\n",
      "Retrying generation for current utterance:  17%|▎ | 1/6 [00:21<01:48, 21.71s/it]\u001b[A\u001b[A\n",
      "\n",
      "                                                                                \u001b[A\u001b[A\n",
      "Attempt 1:   0%| | 0/5 [05:19<?, ?it/s, status=Retry: Some paraphrases contain n\u001b[A\n",
      "Attempt 1:  20%|▏| 1/5 [05:19<21:19, 319.88s/it, status=Retry: Some paraphrases \u001b[A"
     ]
    },
    {
     "name": "stdout",
     "output_type": "stream",
     "text": [
      "Paraphrases generated successfully after 2 attempts.\n"
     ]
    },
    {
     "name": "stderr",
     "output_type": "stream",
     "text": [
      "\n",
      "\n",
      "Retrying generation for current utterance:   0%|          | 0/6 [00:00<?, ?it/s]\u001b[A\u001b[A\n",
      "\n",
      "Retrying generation for current utterance:  17%|▎ | 1/6 [00:17<01:25, 17.03s/it]\u001b[A\u001b[A\n",
      "\n",
      "Retrying generation for current utterance:  33%|▋ | 2/6 [00:25<00:47, 11.85s/it]\u001b[A\u001b[A\n",
      "\n",
      "Retrying generation for current utterance:  50%|█ | 3/6 [01:07<01:17, 25.71s/it]\u001b[A\u001b[A\n",
      "\n",
      "Retrying generation for current utterance:  67%|█▎| 4/6 [01:20<00:41, 20.70s/it]\u001b[A\u001b[A\n",
      "\n",
      "                                                                                \u001b[A\u001b[A\n",
      " 79%|█████████████████████████████▏       | 79/100 [3:41:44<1:04:35, 184.57s/it]\u001b[A"
     ]
    },
    {
     "name": "stdout",
     "output_type": "stream",
     "text": [
      "Paraphrases generated successfully after 0 attempts.\n"
     ]
    },
    {
     "name": "stderr",
     "output_type": "stream",
     "text": [
      "\n",
      "Attempt 1:   0%|                                          | 0/5 [00:00<?, ?it/s]\u001b[A\n",
      "\n",
      "Retrying generation for current utterance:   0%|          | 0/6 [00:00<?, ?it/s]\u001b[A\u001b[A\n",
      "\n",
      "Retrying generation for current utterance:  17%|▎ | 1/6 [00:20<01:42, 20.60s/it]\u001b[A\u001b[A\n",
      "\n",
      "Retrying generation for current utterance:  33%|▋ | 2/6 [00:33<01:03, 15.97s/it]\u001b[A\u001b[A\n",
      "\n",
      "Retrying generation for current utterance:  50%|█ | 3/6 [00:50<00:49, 16.35s/it]\u001b[A\u001b[A\n",
      "\n",
      "Retrying generation for current utterance:  67%|█▎| 4/6 [01:22<00:45, 22.59s/it]\u001b[A\u001b[A\n",
      "\n",
      "Retrying generation for current utterance:  83%|█▋| 5/6 [01:32<00:18, 18.30s/it]\u001b[A\u001b[A\n",
      "\n",
      "                                                                                \u001b[A\u001b[A\n",
      " 80%|███████████████████████████████▏       | 80/100 [3:43:33<53:56, 161.83s/it]\u001b[A"
     ]
    },
    {
     "name": "stdout",
     "output_type": "stream",
     "text": [
      "Paraphrases generated successfully after 0 attempts.\n"
     ]
    },
    {
     "name": "stderr",
     "output_type": "stream",
     "text": [
      "\n",
      "Attempt 1:   0%|                                          | 0/5 [00:00<?, ?it/s]\u001b[A\n",
      "\n",
      "Retrying generation for current utterance:   0%|          | 0/6 [00:00<?, ?it/s]\u001b[A\u001b[A\n",
      "\n",
      "Retrying generation for current utterance:  17%|▎ | 1/6 [00:48<04:04, 48.87s/it]\u001b[A\u001b[A\n",
      "\n",
      "Retrying generation for current utterance:  33%|▋ | 2/6 [01:14<02:20, 35.17s/it]\u001b[A\u001b[A\n",
      "\n",
      "Retrying generation for current utterance:  50%|█ | 3/6 [01:35<01:26, 28.80s/it]\u001b[A\u001b[A\n",
      "\n",
      "Retrying generation for current utterance:  67%|█▎| 4/6 [02:03<00:56, 28.42s/it]\u001b[A\u001b[A\n",
      "\n",
      "Retrying generation for current utterance:  83%|█▋| 5/6 [02:33<00:28, 28.81s/it]\u001b[A\u001b[A\n",
      "\n",
      "Retrying generation for current utterance: 100%|██| 6/6 [02:48<00:00, 24.20s/it]\u001b[A\u001b[A\n",
      "\n",
      "                                                                                \u001b[A\u001b[A"
     ]
    },
    {
     "name": "stdout",
     "output_type": "stream",
     "text": [
      "Attempt 1: The generated list of paraphrases is empty. Retrying...\n"
     ]
    },
    {
     "name": "stderr",
     "output_type": "stream",
     "text": [
      "\n",
      "\n",
      "Retrying generation for current utterance:   0%|          | 0/6 [00:00<?, ?it/s]\u001b[A\u001b[A\n",
      "\n",
      "Retrying generation for current utterance:  17%|▎ | 1/6 [00:22<01:53, 22.62s/it]\u001b[A\u001b[A\n",
      "\n",
      "Retrying generation for current utterance:  33%|▋ | 2/6 [00:39<01:17, 19.45s/it]\u001b[A\u001b[A\n",
      "\n",
      "Retrying generation for current utterance:  50%|█ | 3/6 [00:57<00:56, 18.81s/it]\u001b[A\u001b[A\n",
      "\n",
      "                                                                                \u001b[A\u001b[A\n",
      " 81%|█████████████████████████████▉       | 81/100 [3:47:52<1:00:32, 191.21s/it]\u001b[A"
     ]
    },
    {
     "name": "stdout",
     "output_type": "stream",
     "text": [
      "Paraphrases generated successfully after 1 attempts.\n"
     ]
    },
    {
     "name": "stderr",
     "output_type": "stream",
     "text": [
      "\n",
      "Attempt 1:   0%|                                          | 0/5 [00:00<?, ?it/s]\u001b[A\n",
      "\n",
      "Retrying generation for current utterance:   0%|          | 0/6 [00:00<?, ?it/s]\u001b[A\u001b[A\n",
      "\n",
      "Retrying generation for current utterance:  17%|▎ | 1/6 [00:14<01:11, 14.21s/it]\u001b[A\u001b[A\n",
      "\n",
      "Retrying generation for current utterance:  33%|▋ | 2/6 [00:26<00:51, 12.90s/it]\u001b[A\u001b[A\n",
      "\n",
      "                                                                                \u001b[A\u001b[A\n",
      "Attempt 1:   0%| | 0/5 [00:40<?, ?it/s, status=Retry: Some paraphrases contain n\u001b[A\n",
      "Attempt 1:  20%|▏| 1/5 [00:40<02:41, 40.30s/it, status=Retry: Some paraphrases c\u001b[A"
     ]
    },
    {
     "name": "stdout",
     "output_type": "stream",
     "text": [
      "Paraphrases generated successfully after 0 attempts.\n"
     ]
    },
    {
     "name": "stderr",
     "output_type": "stream",
     "text": [
      "\n",
      "\n",
      "Retrying generation for current utterance:   0%|          | 0/6 [00:00<?, ?it/s]\u001b[A\u001b[A\n",
      "\n",
      "Retrying generation for current utterance:  17%|▎ | 1/6 [00:10<00:52, 10.54s/it]\u001b[A\u001b[A\n",
      "\n",
      "Retrying generation for current utterance:  33%|▋ | 2/6 [00:26<00:54, 13.62s/it]\u001b[A\u001b[A\n",
      "\n",
      "Retrying generation for current utterance:  50%|█ | 3/6 [01:04<01:14, 24.99s/it]\u001b[A\u001b[A"
     ]
    },
    {
     "name": "stdout",
     "output_type": "stream",
     "text": [
      "API server is overloaded or not ready. Retrying in 3 seconds...\n"
     ]
    },
    {
     "name": "stderr",
     "output_type": "stream",
     "text": [
      "\n",
      "\n",
      "Retrying generation for current utterance:  67%|█▎| 4/6 [01:38<00:56, 28.27s/it]\u001b[A\u001b[A\n",
      "\n",
      "Retrying generation for current utterance:  83%|█▋| 5/6 [01:57<00:25, 25.17s/it]\u001b[A\u001b[A\n",
      "\n",
      "Retrying generation for current utterance: 100%|██| 6/6 [02:12<00:00, 21.66s/it]\u001b[A\u001b[A\n",
      "\n",
      "                                                                                \u001b[A\u001b[A"
     ]
    },
    {
     "name": "stdout",
     "output_type": "stream",
     "text": [
      "Attempt 1: The generated list of paraphrases is empty. Retrying...\n"
     ]
    },
    {
     "name": "stderr",
     "output_type": "stream",
     "text": [
      "\n",
      "\n",
      "Retrying generation for current utterance:   0%|          | 0/6 [00:00<?, ?it/s]\u001b[A\u001b[A\n",
      "\n",
      "                                                                                \u001b[A\u001b[A\n",
      " 82%|███████████████████████████████▉       | 82/100 [3:51:00<57:04, 190.27s/it]\u001b[A"
     ]
    },
    {
     "name": "stdout",
     "output_type": "stream",
     "text": [
      "Paraphrases generated successfully after 1 attempts.\n"
     ]
    },
    {
     "name": "stderr",
     "output_type": "stream",
     "text": [
      "\n",
      "Attempt 1:   0%|                                          | 0/5 [00:00<?, ?it/s]\u001b[A\n",
      "\n",
      "Retrying generation for current utterance:   0%|          | 0/6 [00:00<?, ?it/s]\u001b[A\u001b[A\n",
      "\n",
      "Retrying generation for current utterance:  17%|▎ | 1/6 [00:14<01:10, 14.00s/it]\u001b[A\u001b[A\n",
      "\n",
      "Retrying generation for current utterance:  33%|▋ | 2/6 [00:23<00:46, 11.58s/it]\u001b[A\u001b[A\n",
      "\n",
      "Retrying generation for current utterance:  50%|█ | 3/6 [00:35<00:34, 11.64s/it]\u001b[A\u001b[A\n",
      "\n",
      "                                                                                \u001b[A\u001b[A\n",
      " 83%|████████████████████████████████▎      | 83/100 [3:51:58<42:35, 150.35s/it]\u001b[A"
     ]
    },
    {
     "name": "stdout",
     "output_type": "stream",
     "text": [
      "Paraphrases generated successfully after 0 attempts.\n"
     ]
    },
    {
     "name": "stderr",
     "output_type": "stream",
     "text": [
      "\n",
      "Attempt 1:   0%|                                          | 0/5 [00:00<?, ?it/s]\u001b[A\n",
      "\n",
      "Retrying generation for current utterance:   0%|          | 0/6 [00:00<?, ?it/s]\u001b[A\u001b[A\n",
      "\n",
      "Retrying generation for current utterance:  17%|▎ | 1/6 [00:16<01:20, 16.05s/it]\u001b[A\u001b[A\n",
      "\n",
      "                                                                                \u001b[A\u001b[A\n",
      " 84%|████████████████████████████████▊      | 84/100 [3:52:28<30:30, 114.41s/it]\u001b[A"
     ]
    },
    {
     "name": "stdout",
     "output_type": "stream",
     "text": [
      "Paraphrases generated successfully after 0 attempts.\n"
     ]
    },
    {
     "name": "stderr",
     "output_type": "stream",
     "text": [
      "\n",
      "Attempt 1:   0%|                                          | 0/5 [00:00<?, ?it/s]\u001b[A\n",
      "\n",
      "Retrying generation for current utterance:   0%|          | 0/6 [00:00<?, ?it/s]\u001b[A\u001b[A\n",
      "\n",
      "Retrying generation for current utterance:  17%|▎ | 1/6 [00:11<00:59, 11.86s/it]\u001b[A\u001b[A\n",
      "\n",
      "Retrying generation for current utterance:  33%|▋ | 2/6 [00:19<00:37,  9.45s/it]\u001b[A\u001b[A\n",
      "\n",
      "                                                                                \u001b[A\u001b[A\n",
      " 85%|██████████████████████████████████      | 85/100 [3:53:08<22:59, 91.95s/it]\u001b[A"
     ]
    },
    {
     "name": "stdout",
     "output_type": "stream",
     "text": [
      "Paraphrases generated successfully after 0 attempts.\n"
     ]
    },
    {
     "name": "stderr",
     "output_type": "stream",
     "text": [
      "\n",
      "Attempt 1:   0%|                                          | 0/5 [00:00<?, ?it/s]\u001b[A\n",
      "\n",
      "Retrying generation for current utterance:   0%|          | 0/6 [00:00<?, ?it/s]\u001b[A\u001b[A\n",
      "\n",
      "Retrying generation for current utterance:  17%|▎ | 1/6 [00:15<01:19, 15.80s/it]\u001b[A\u001b[A\n",
      "\n",
      "Retrying generation for current utterance:  33%|▋ | 2/6 [00:37<01:17, 19.46s/it]\u001b[A\u001b[A\n",
      "\n",
      "Retrying generation for current utterance:  50%|█ | 3/6 [00:59<01:01, 20.34s/it]\u001b[A\u001b[A\n",
      "\n",
      "Retrying generation for current utterance:  67%|█▎| 4/6 [01:25<00:45, 22.81s/it]\u001b[A\u001b[A\n",
      "\n",
      "Retrying generation for current utterance:  83%|█▋| 5/6 [02:08<00:29, 29.96s/it]\u001b[A\u001b[A\n",
      "\n",
      "Retrying generation for current utterance: 100%|██| 6/6 [02:25<00:00, 25.51s/it]\u001b[A\u001b[A\n",
      "\n",
      "                                                                                \u001b[A\u001b[A"
     ]
    },
    {
     "name": "stdout",
     "output_type": "stream",
     "text": [
      "Attempt 1: The generated list of paraphrases is empty. Retrying...\n"
     ]
    },
    {
     "name": "stderr",
     "output_type": "stream",
     "text": [
      "\n",
      "\n",
      "Retrying generation for current utterance:   0%|          | 0/6 [00:00<?, ?it/s]\u001b[A\u001b[A\n",
      "\n",
      "Retrying generation for current utterance:  17%|▎ | 1/6 [00:18<01:30, 18.18s/it]\u001b[A\u001b[A\n",
      "\n",
      "Retrying generation for current utterance:  33%|▋ | 2/6 [00:38<01:18, 19.60s/it]\u001b[A\u001b[A\n",
      "\n",
      "Retrying generation for current utterance:  50%|█ | 3/6 [01:01<01:03, 21.19s/it]\u001b[A\u001b[A\n",
      "\n",
      "Retrying generation for current utterance:  67%|█▎| 4/6 [01:32<00:49, 24.74s/it]\u001b[A\u001b[A\n",
      "\n",
      "Retrying generation for current utterance:  83%|█▋| 5/6 [02:16<00:31, 31.89s/it]\u001b[A\u001b[A\n",
      "\n",
      "Retrying generation for current utterance: 100%|██| 6/6 [02:36<00:00, 27.74s/it]\u001b[A\u001b[A\n",
      "\n",
      "                                                                                \u001b[A\u001b[A"
     ]
    },
    {
     "name": "stdout",
     "output_type": "stream",
     "text": [
      "Attempt 2: The generated list of paraphrases is empty. Retrying...\n"
     ]
    },
    {
     "name": "stderr",
     "output_type": "stream",
     "text": [
      "\n",
      "\n",
      "Retrying generation for current utterance:   0%|          | 0/6 [00:00<?, ?it/s]\u001b[A\u001b[A\n",
      "\n",
      "Retrying generation for current utterance:  17%|▎ | 1/6 [00:18<01:30, 18.06s/it]\u001b[A\u001b[A\n",
      "\n",
      "                                                                                \u001b[A\u001b[A\n",
      " 86%|█████████████████████████████████▌     | 86/100 [3:58:52<39:08, 167.76s/it]\u001b[A"
     ]
    },
    {
     "name": "stdout",
     "output_type": "stream",
     "text": [
      "Paraphrases generated successfully after 2 attempts.\n"
     ]
    },
    {
     "name": "stderr",
     "output_type": "stream",
     "text": [
      "\n",
      "Attempt 1:   0%|                                          | 0/5 [00:00<?, ?it/s]\u001b[A\n",
      "\n",
      "Retrying generation for current utterance:   0%|          | 0/6 [00:00<?, ?it/s]\u001b[A\u001b[A\n",
      "\n",
      "Retrying generation for current utterance:  17%|▎ | 1/6 [00:25<02:05, 25.07s/it]\u001b[A\u001b[A\n",
      "\n",
      "Retrying generation for current utterance:  33%|▋ | 2/6 [01:01<02:08, 32.00s/it]\u001b[A\u001b[A\n",
      "\n",
      "                                                                                \u001b[A\u001b[A\n",
      " 87%|█████████████████████████████████▉     | 87/100 [4:00:25<31:27, 145.23s/it]\u001b[A"
     ]
    },
    {
     "name": "stdout",
     "output_type": "stream",
     "text": [
      "Paraphrases generated successfully after 0 attempts.\n"
     ]
    },
    {
     "name": "stderr",
     "output_type": "stream",
     "text": [
      "\n",
      "Attempt 1:   0%|                                          | 0/5 [00:00<?, ?it/s]\u001b[A\n",
      "\n",
      "Retrying generation for current utterance:   0%|          | 0/6 [00:00<?, ?it/s]\u001b[A\u001b[A\n",
      "\n",
      "Retrying generation for current utterance:  17%|▎ | 1/6 [00:20<01:42, 20.48s/it]\u001b[A\u001b[A\n",
      "\n",
      "Retrying generation for current utterance:  33%|▋ | 2/6 [00:40<01:19, 19.94s/it]\u001b[A\u001b[A\n",
      "\n",
      "Retrying generation for current utterance:  50%|█ | 3/6 [00:55<00:53, 17.79s/it]\u001b[A\u001b[A\n",
      "\n",
      "                                                                                \u001b[A\u001b[A\n",
      " 88%|██████████████████████████████████▎    | 88/100 [4:01:36<24:36, 123.08s/it]\u001b[A"
     ]
    },
    {
     "name": "stdout",
     "output_type": "stream",
     "text": [
      "Paraphrases generated successfully after 0 attempts.\n"
     ]
    },
    {
     "name": "stderr",
     "output_type": "stream",
     "text": [
      "\n",
      "Attempt 1:   0%|                                          | 0/5 [00:00<?, ?it/s]\u001b[A\n",
      "\n",
      "Retrying generation for current utterance:   0%|          | 0/6 [00:00<?, ?it/s]\u001b[A\u001b[A"
     ]
    },
    {
     "name": "stdout",
     "output_type": "stream",
     "text": [
      "API server is overloaded or not ready. Retrying in 3 seconds...\n"
     ]
    },
    {
     "name": "stderr",
     "output_type": "stream",
     "text": [
      "\n",
      "\n",
      "Retrying generation for current utterance:  17%|▎ | 1/6 [00:33<02:46, 33.26s/it]\u001b[A\u001b[A\n",
      "\n",
      "Retrying generation for current utterance:  33%|▋ | 2/6 [00:42<01:17, 19.28s/it]\u001b[A\u001b[A\n",
      "\n",
      "Retrying generation for current utterance:  50%|█ | 3/6 [01:22<01:26, 28.83s/it]\u001b[A\u001b[A\n",
      "\n",
      "Retrying generation for current utterance:  67%|█▎| 4/6 [01:53<00:59, 29.54s/it]\u001b[A\u001b[A\n",
      "\n",
      "Retrying generation for current utterance:  83%|█▋| 5/6 [02:10<00:25, 25.10s/it]\u001b[A\u001b[A\n",
      "\n",
      "Retrying generation for current utterance: 100%|██| 6/6 [02:46<00:00, 28.53s/it]\u001b[A\u001b[A\n",
      "\n",
      "                                                                                \u001b[A\u001b[A"
     ]
    },
    {
     "name": "stdout",
     "output_type": "stream",
     "text": [
      "Attempt 1: The generated list of paraphrases is empty. Retrying...\n"
     ]
    },
    {
     "name": "stderr",
     "output_type": "stream",
     "text": [
      "\n",
      "\n",
      "Retrying generation for current utterance:   0%|          | 0/6 [00:00<?, ?it/s]\u001b[A\u001b[A\n",
      "\n",
      "Retrying generation for current utterance:  17%|▏| 1/6 [09:32<47:44, 572.97s/it]\u001b[A\u001b[A"
     ]
    },
    {
     "name": "stdout",
     "output_type": "stream",
     "text": [
      "Request timed out. Retrying in 3 seconds...\n"
     ]
    },
    {
     "name": "stderr",
     "output_type": "stream",
     "text": [
      "\n",
      "\n",
      "Retrying generation for current utterance:  33%|▎| 2/6 [19:36<39:23, 590.79s/it]\u001b[A\u001b[A\n",
      "\n",
      "Retrying generation for current utterance:  50%|▌| 3/6 [20:01<16:37, 332.47s/it]\u001b[A\u001b[A\n",
      "\n",
      "Retrying generation for current utterance:  67%|▋| 4/6 [20:23<07:00, 210.16s/it]\u001b[A\u001b[A\n",
      "\n",
      "Retrying generation for current utterance:  83%|▊| 5/6 [20:44<02:21, 141.90s/it]\u001b[A\u001b[A\n",
      "\n",
      "                                                                                \u001b[A\u001b[A\n",
      " 89%|████████████████████████████████▉    | 89/100 [4:25:31<1:34:43, 516.64s/it]\u001b[A"
     ]
    },
    {
     "name": "stdout",
     "output_type": "stream",
     "text": [
      "Paraphrases generated successfully after 1 attempts.\n"
     ]
    },
    {
     "name": "stderr",
     "output_type": "stream",
     "text": [
      "\n",
      "Attempt 1:   0%|                                          | 0/5 [00:00<?, ?it/s]\u001b[A\n",
      "\n",
      "Retrying generation for current utterance:   0%|          | 0/6 [00:00<?, ?it/s]\u001b[A\u001b[A"
     ]
    },
    {
     "name": "stdout",
     "output_type": "stream",
     "text": [
      "Request timed out. Retrying in 3 seconds...\n"
     ]
    },
    {
     "name": "stderr",
     "output_type": "stream",
     "text": [
      "\n",
      "\n",
      "Retrying generation for current utterance:  17%|▏| 1/6 [10:03<50:15, 603.11s/it]\u001b[A\u001b[A\n",
      "\n",
      "Retrying generation for current utterance:  33%|▎| 2/6 [10:20<17:15, 258.78s/it]\u001b[A\u001b[A\n",
      "\n",
      "                                                                                \u001b[A\u001b[A\n",
      "Attempt 1:   0%| | 0/5 [10:28<?, ?it/s, status=Retry: Some paraphrases contain n\u001b[A\n",
      "Attempt 1:  20%|▏| 1/5 [10:28<41:55, 628.95s/it, status=Retry: Some paraphrases \u001b[A"
     ]
    },
    {
     "name": "stdout",
     "output_type": "stream",
     "text": [
      "Paraphrases generated successfully after 0 attempts.\n"
     ]
    },
    {
     "name": "stderr",
     "output_type": "stream",
     "text": [
      "\n",
      "\n",
      "Retrying generation for current utterance:   0%|          | 0/6 [00:00<?, ?it/s]\u001b[A\u001b[A\n",
      "\n",
      "Retrying generation for current utterance:  17%|▎ | 1/6 [00:37<03:06, 37.25s/it]\u001b[A\u001b[A\n",
      "\n",
      "                                                                                \u001b[A\u001b[A\n",
      " 90%|█████████████████████████████████▎   | 90/100 [4:36:52<1:34:17, 565.77s/it]\u001b[A"
     ]
    },
    {
     "name": "stdout",
     "output_type": "stream",
     "text": [
      "Paraphrases generated successfully after 0 attempts.\n"
     ]
    },
    {
     "name": "stderr",
     "output_type": "stream",
     "text": [
      "\n",
      "Attempt 1:   0%|                                          | 0/5 [00:00<?, ?it/s]\u001b[A\n",
      "\n",
      "Retrying generation for current utterance:   0%|          | 0/6 [00:00<?, ?it/s]\u001b[A\u001b[A\n",
      "\n",
      "                                                                                \u001b[A\u001b[A\n",
      " 91%|█████████████████████████████████▋   | 91/100 [4:37:10<1:00:14, 401.63s/it]\u001b[A"
     ]
    },
    {
     "name": "stdout",
     "output_type": "stream",
     "text": [
      "Paraphrases generated successfully after 0 attempts.\n"
     ]
    },
    {
     "name": "stderr",
     "output_type": "stream",
     "text": [
      "\n",
      "Attempt 1:   0%|                                          | 0/5 [00:00<?, ?it/s]\u001b[A\n",
      "\n",
      "Retrying generation for current utterance:   0%|          | 0/6 [00:00<?, ?it/s]\u001b[A\u001b[A\n",
      "\n",
      "Retrying generation for current utterance:  17%|▎ | 1/6 [00:38<03:10, 38.11s/it]\u001b[A\u001b[A\n",
      "\n",
      "Retrying generation for current utterance:  33%|▋ | 2/6 [01:14<02:28, 37.14s/it]\u001b[A\u001b[A\n",
      "\n",
      "Retrying generation for current utterance:  50%|█ | 3/6 [01:28<01:20, 26.67s/it]\u001b[A\u001b[A\n",
      "\n",
      "Retrying generation for current utterance:  67%|█▎| 4/6 [02:05<01:00, 30.49s/it]\u001b[A\u001b[A\n",
      "\n",
      "                                                                                \u001b[A\u001b[A\n",
      " 92%|███████████████████████████████████▉   | 92/100 [4:39:43<43:35, 326.95s/it]\u001b[A"
     ]
    },
    {
     "name": "stdout",
     "output_type": "stream",
     "text": [
      "Paraphrases generated successfully after 0 attempts.\n"
     ]
    },
    {
     "name": "stderr",
     "output_type": "stream",
     "text": [
      "\n",
      "Attempt 1:   0%|                                          | 0/5 [00:00<?, ?it/s]\u001b[A\n",
      "\n",
      "Retrying generation for current utterance:   0%|          | 0/6 [00:00<?, ?it/s]\u001b[A\u001b[A\n",
      "\n",
      "                                                                                \u001b[A\u001b[A\n",
      " 93%|████████████████████████████████████▎  | 93/100 [4:39:54<27:05, 232.28s/it]\u001b[A"
     ]
    },
    {
     "name": "stdout",
     "output_type": "stream",
     "text": [
      "Paraphrases generated successfully after 0 attempts.\n"
     ]
    },
    {
     "name": "stderr",
     "output_type": "stream",
     "text": [
      "\n",
      "Attempt 1:   0%|                                          | 0/5 [00:00<?, ?it/s]\u001b[A\n",
      "\n",
      "Retrying generation for current utterance:   0%|          | 0/6 [00:00<?, ?it/s]\u001b[A\u001b[A\n",
      "\n",
      "Retrying generation for current utterance:  17%|▎ | 1/6 [00:21<01:48, 21.68s/it]\u001b[A\u001b[A\n",
      "\n",
      "Retrying generation for current utterance:  33%|▋ | 2/6 [00:35<01:08, 17.19s/it]\u001b[A\u001b[A\n",
      "\n",
      "Retrying generation for current utterance:  50%|█ | 3/6 [00:52<00:50, 17.00s/it]\u001b[A\u001b[A\n",
      "\n",
      "                                                                                \u001b[A\u001b[A\n",
      " 94%|████████████████████████████████████▋  | 94/100 [4:41:10<18:31, 185.18s/it]\u001b[A"
     ]
    },
    {
     "name": "stdout",
     "output_type": "stream",
     "text": [
      "Paraphrases generated successfully after 0 attempts.\n"
     ]
    },
    {
     "name": "stderr",
     "output_type": "stream",
     "text": [
      "\n",
      "Attempt 1:   0%|                                          | 0/5 [00:00<?, ?it/s]\u001b[A\n",
      "\n",
      "Retrying generation for current utterance:   0%|          | 0/6 [00:00<?, ?it/s]\u001b[A\u001b[A\n",
      "\n",
      "                                                                                \u001b[A\u001b[A\n",
      " 95%|█████████████████████████████████████  | 95/100 [4:41:27<11:14, 134.88s/it]\u001b[A"
     ]
    },
    {
     "name": "stdout",
     "output_type": "stream",
     "text": [
      "Paraphrases generated successfully after 0 attempts.\n"
     ]
    },
    {
     "name": "stderr",
     "output_type": "stream",
     "text": [
      "\n",
      "Attempt 1:   0%|                                          | 0/5 [00:00<?, ?it/s]\u001b[A\n",
      "\n",
      "Retrying generation for current utterance:   0%|          | 0/6 [00:00<?, ?it/s]\u001b[A\u001b[A\n",
      "\n",
      "Retrying generation for current utterance:  17%|▎ | 1/6 [00:27<02:19, 27.84s/it]\u001b[A\u001b[A\n",
      "\n",
      "Retrying generation for current utterance:  33%|▋ | 2/6 [00:49<01:36, 24.23s/it]\u001b[A\u001b[A\n",
      "\n",
      "Retrying generation for current utterance:  50%|█ | 3/6 [01:23<01:25, 28.65s/it]\u001b[A\u001b[A\n",
      "\n",
      "                                                                                \u001b[A\u001b[A\n",
      "Attempt 1:   0%| | 0/5 [01:48<?, ?it/s, status=Retry: Some paraphrases contain n\u001b[A\n",
      "Attempt 1:  20%|▏| 1/5 [01:48<07:13, 108.40s/it, status=Retry: Some paraphrases \u001b[A"
     ]
    },
    {
     "name": "stdout",
     "output_type": "stream",
     "text": [
      "Paraphrases generated successfully after 0 attempts.\n"
     ]
    },
    {
     "name": "stderr",
     "output_type": "stream",
     "text": [
      "\n",
      "\n",
      "Retrying generation for current utterance:   0%|          | 0/6 [00:00<?, ?it/s]\u001b[A\u001b[A\n",
      "\n",
      "                                                                                \u001b[A\u001b[A\n",
      " 96%|█████████████████████████████████████▍ | 96/100 [4:44:00<09:21, 140.34s/it]\u001b[A"
     ]
    },
    {
     "name": "stdout",
     "output_type": "stream",
     "text": [
      "Paraphrases generated successfully after 0 attempts.\n"
     ]
    },
    {
     "name": "stderr",
     "output_type": "stream",
     "text": [
      "\n",
      "Attempt 1:   0%|                                          | 0/5 [00:00<?, ?it/s]\u001b[A\n",
      "\n",
      "Retrying generation for current utterance:   0%|          | 0/6 [00:00<?, ?it/s]\u001b[A\u001b[A\n",
      "\n",
      "Retrying generation for current utterance:  17%|▎ | 1/6 [00:41<03:25, 41.08s/it]\u001b[A\u001b[A\n",
      "\n",
      "Retrying generation for current utterance:  33%|▋ | 2/6 [01:13<02:23, 35.91s/it]\u001b[A\u001b[A\n",
      "\n",
      "Retrying generation for current utterance:  50%|█ | 3/6 [02:11<02:17, 45.84s/it]\u001b[A\u001b[A\n",
      "\n",
      "Retrying generation for current utterance:  67%|█▎| 4/6 [02:56<01:31, 45.65s/it]\u001b[A\u001b[A\n",
      "\n",
      "Retrying generation for current utterance:  83%|█▋| 5/6 [03:18<00:37, 37.12s/it]\u001b[A\u001b[A\n",
      "\n",
      "                                                                                \u001b[A\u001b[A\n",
      " 97%|█████████████████████████████████████▊ | 97/100 [4:47:47<08:19, 166.36s/it]\u001b[A"
     ]
    },
    {
     "name": "stdout",
     "output_type": "stream",
     "text": [
      "Paraphrases generated successfully after 0 attempts.\n"
     ]
    },
    {
     "name": "stderr",
     "output_type": "stream",
     "text": [
      "\n",
      "Attempt 1:   0%|                                          | 0/5 [00:00<?, ?it/s]\u001b[A\n",
      "\n",
      "Retrying generation for current utterance:   0%|          | 0/6 [00:00<?, ?it/s]\u001b[A\u001b[A\n",
      "\n",
      "                                                                                \u001b[A\u001b[A\n",
      " 98%|██████████████████████████████████████▏| 98/100 [4:48:04<04:02, 121.46s/it]\u001b[A"
     ]
    },
    {
     "name": "stdout",
     "output_type": "stream",
     "text": [
      "Paraphrases generated successfully after 0 attempts.\n"
     ]
    },
    {
     "name": "stderr",
     "output_type": "stream",
     "text": [
      "\n",
      "Attempt 1:   0%|                                          | 0/5 [00:00<?, ?it/s]\u001b[A\n",
      "\n",
      "Retrying generation for current utterance:   0%|          | 0/6 [00:00<?, ?it/s]\u001b[A\u001b[A\n",
      "\n",
      "                                                                                \u001b[A\u001b[A\n",
      " 99%|███████████████████████████████████████▌| 99/100 [4:48:44<01:37, 97.03s/it]\u001b[A"
     ]
    },
    {
     "name": "stdout",
     "output_type": "stream",
     "text": [
      "Paraphrases generated successfully after 0 attempts.\n"
     ]
    },
    {
     "name": "stderr",
     "output_type": "stream",
     "text": [
      "\n",
      "Attempt 1:   0%|                                          | 0/5 [00:00<?, ?it/s]\u001b[A\n",
      "\n",
      "Retrying generation for current utterance:   0%|          | 0/6 [00:00<?, ?it/s]\u001b[A\u001b[A\n",
      "\n",
      "Retrying generation for current utterance:  17%|▎ | 1/6 [00:12<01:02, 12.53s/it]\u001b[A\u001b[A\n",
      "\n",
      "Retrying generation for current utterance:  33%|▋ | 2/6 [00:33<01:09, 17.27s/it]\u001b[A\u001b[A\n",
      "\n",
      "Retrying generation for current utterance:  50%|█ | 3/6 [00:58<01:03, 21.09s/it]\u001b[A\u001b[A\n",
      "\n",
      "Retrying generation for current utterance:  67%|█▎| 4/6 [01:32<00:52, 26.05s/it]\u001b[A\u001b[A\n",
      "\n",
      "                                                                                \u001b[A\u001b[A\n",
      "Attempt 1:   0%| | 0/5 [02:01<?, ?it/s, status=Retry: Some paraphrases contain n\u001b[A\n",
      "Attempt 1:  20%|▏| 1/5 [02:01<08:04, 121.06s/it, status=Retry: Some paraphrases \u001b[A"
     ]
    },
    {
     "name": "stdout",
     "output_type": "stream",
     "text": [
      "Paraphrases generated successfully after 0 attempts.\n"
     ]
    },
    {
     "name": "stderr",
     "output_type": "stream",
     "text": [
      "\n",
      "\n",
      "Retrying generation for current utterance:   0%|          | 0/6 [00:00<?, ?it/s]\u001b[A\u001b[A\n",
      "\n",
      "Retrying generation for current utterance:  17%|▎ | 1/6 [00:35<02:56, 35.32s/it]\u001b[A\u001b[A\n",
      "\n",
      "                                                                                \u001b[A\u001b[A\n",
      "100%|██████████████████████████████████████| 100/100 [4:51:44<00:00, 175.04s/it]\u001b[A"
     ]
    },
    {
     "name": "stdout",
     "output_type": "stream",
     "text": [
      "Paraphrases generated successfully after 0 attempts.\n",
      "\n",
      "Paraphrasing has been successfully accomplished.\n",
      "\n"
     ]
    },
    {
     "name": "stderr",
     "output_type": "stream",
     "text": [
      "\n"
     ]
    }
   ],
   "source": [
    "# Randomly samples 100 rows from the dataFrame.\n",
    "sampled_weather_df = df_weather.sample(n=100, replace=False)\n",
    "sampled_weather_df.reset_index(drop=True, inplace=True)\n",
    "\n",
    "run_generation(sampled_weather_df,\"GPT_weather\")"
   ]
  },
  {
   "cell_type": "markdown",
   "id": "d9197910-88af-4d28-b01d-dc28011ddf70",
   "metadata": {},
   "source": [
    "### <div style=\"background-color: lightgreen; padding: 10px;\">Run the generation for book_restaurant</div>"
   ]
  },
  {
   "cell_type": "code",
   "execution_count": 37,
   "id": "0f8be5eb-cb8c-4904-bb53-6e59f63b14ac",
   "metadata": {},
   "outputs": [
    {
     "name": "stdout",
     "output_type": "stream",
     "text": [
      "Shape: (300, 2)\n",
      "Columns: Index(['utterance', 'list_of_slots'], dtype='object')\n"
     ]
    },
    {
     "data": {
      "text/html": [
       "<div>\n",
       "<style scoped>\n",
       "    .dataframe tbody tr th:only-of-type {\n",
       "        vertical-align: middle;\n",
       "    }\n",
       "\n",
       "    .dataframe tbody tr th {\n",
       "        vertical-align: top;\n",
       "    }\n",
       "\n",
       "    .dataframe thead th {\n",
       "        text-align: right;\n",
       "    }\n",
       "</style>\n",
       "<table border=\"1\" class=\"dataframe\">\n",
       "  <thead>\n",
       "    <tr style=\"text-align: right;\">\n",
       "      <th></th>\n",
       "      <th>utterance</th>\n",
       "      <th>list_of_slots</th>\n",
       "    </tr>\n",
       "  </thead>\n",
       "  <tbody>\n",
       "    <tr>\n",
       "      <th>0</th>\n",
       "      <td>Book a reservation for  seven  people at a  ba...</td>\n",
       "      <td>['seven || party_size_number', 'bakery || rest...</td>\n",
       "    </tr>\n",
       "    <tr>\n",
       "      <th>1</th>\n",
       "      <td>Book spot for  three  at  Maid-Rite Sandwich S...</td>\n",
       "      <td>['three || party_size_number', 'Maid-Rite Sand...</td>\n",
       "    </tr>\n",
       "    <tr>\n",
       "      <th>2</th>\n",
       "      <td>I need a table for  breakfast  in  MI  at the ...</td>\n",
       "      <td>['breakfast || timeRange', 'MI || state', 'piz...</td>\n",
       "    </tr>\n",
       "    <tr>\n",
       "      <th>3</th>\n",
       "      <td>Book a restaurant reservation for  me and my c...</td>\n",
       "      <td>['me and my child || party_size_description', ...</td>\n",
       "    </tr>\n",
       "    <tr>\n",
       "      <th>4</th>\n",
       "      <td>I want to book a  highly rated   churrascaria ...</td>\n",
       "      <td>['highly rated || sort', 'churrascaria || rest...</td>\n",
       "    </tr>\n",
       "  </tbody>\n",
       "</table>\n",
       "</div>"
      ],
      "text/plain": [
       "                                           utterance  \\\n",
       "0  Book a reservation for  seven  people at a  ba...   \n",
       "1  Book spot for  three  at  Maid-Rite Sandwich S...   \n",
       "2  I need a table for  breakfast  in  MI  at the ...   \n",
       "3  Book a restaurant reservation for  me and my c...   \n",
       "4  I want to book a  highly rated   churrascaria ...   \n",
       "\n",
       "                                       list_of_slots  \n",
       "0  ['seven || party_size_number', 'bakery || rest...  \n",
       "1  ['three || party_size_number', 'Maid-Rite Sand...  \n",
       "2  ['breakfast || timeRange', 'MI || state', 'piz...  \n",
       "3  ['me and my child || party_size_description', ...  \n",
       "4  ['highly rated || sort', 'churrascaria || rest...  "
      ]
     },
     "execution_count": 37,
     "metadata": {},
     "output_type": "execute_result"
    }
   ],
   "source": [
    "input_file = f\"{os.getcwd()}/book_restaurant.csv\"#test_data\n",
    "df_restaurant = pd.read_csv(input_file)\n",
    "print(f\"Shape: {df_restaurant.shape}\")\n",
    "print(f\"Columns: {df_restaurant.columns}\")\n",
    "df_restaurant.head()"
   ]
  },
  {
   "cell_type": "code",
   "execution_count": 39,
   "id": "1f44d0cc-db38-4f28-83de-40cc14142f8d",
   "metadata": {},
   "outputs": [
    {
     "name": "stderr",
     "output_type": "stream",
     "text": [
      "  0%|                                                   | 0/100 [00:00<?, ?it/s]\n",
      "Attempt 1:   0%|                                          | 0/5 [00:00<?, ?it/s]\u001b[A\n",
      "\n",
      "Retrying generation for current utterance:   0%|          | 0/6 [00:00<?, ?it/s]\u001b[A\u001b[A\n",
      "\n",
      "                                                                                \u001b[A\u001b[A\n",
      "Attempt 1:   0%| | 0/5 [00:12<?, ?it/s, status=Retry: Some paraphrases contain n\u001b[A\n",
      "Attempt 1:  20%|▏| 1/5 [00:12<00:50, 12.68s/it, status=Retry: Some paraphrases c\u001b[A"
     ]
    },
    {
     "name": "stdout",
     "output_type": "stream",
     "text": [
      "Paraphrases generated successfully after 0 attempts.\n"
     ]
    },
    {
     "name": "stderr",
     "output_type": "stream",
     "text": [
      "\n",
      "\n",
      "Retrying generation for current utterance:   0%|          | 0/6 [00:00<?, ?it/s]\u001b[A\u001b[A\n",
      "\n",
      "Retrying generation for current utterance:  17%|▎ | 1/6 [00:55<04:35, 55.20s/it]\u001b[A\u001b[A\n",
      "\n",
      "Retrying generation for current utterance:  33%|▋ | 2/6 [02:49<05:59, 89.77s/it]\u001b[A\u001b[A\n",
      "\n",
      "Retrying generation for current utterance:  50%|█ | 3/6 [03:28<03:20, 66.92s/it]\u001b[A\u001b[A\n",
      "\n",
      "                                                                                \u001b[A\u001b[A\n",
      "  1%|▍                                       | 1/100 [04:00<6:37:33, 240.94s/it]\u001b[A"
     ]
    },
    {
     "name": "stdout",
     "output_type": "stream",
     "text": [
      "Paraphrases generated successfully after 0 attempts.\n"
     ]
    },
    {
     "name": "stderr",
     "output_type": "stream",
     "text": [
      "\n",
      "Attempt 1:   0%|                                          | 0/5 [00:00<?, ?it/s]\u001b[A\n",
      "\n",
      "Retrying generation for current utterance:   0%|          | 0/6 [00:00<?, ?it/s]\u001b[A\u001b[A\n",
      "\n",
      "                                                                                \u001b[A\u001b[A\n",
      "  2%|▊                                       | 2/100 [04:26<3:07:01, 114.51s/it]\u001b[A"
     ]
    },
    {
     "name": "stdout",
     "output_type": "stream",
     "text": [
      "Paraphrases generated successfully after 0 attempts.\n"
     ]
    },
    {
     "name": "stderr",
     "output_type": "stream",
     "text": [
      "\n",
      "Attempt 1:   0%|                                          | 0/5 [00:00<?, ?it/s]\u001b[A\n",
      "\n",
      "Retrying generation for current utterance:   0%|          | 0/6 [00:00<?, ?it/s]\u001b[A\u001b[A\n",
      "\n",
      "Retrying generation for current utterance:  17%|▎ | 1/6 [00:33<02:45, 33.02s/it]\u001b[A\u001b[A"
     ]
    },
    {
     "name": "stdout",
     "output_type": "stream",
     "text": [
      "Request timed out. Retrying in 3 seconds...\n"
     ]
    },
    {
     "name": "stderr",
     "output_type": "stream",
     "text": [
      "\n",
      "\n",
      "Retrying generation for current utterance:  33%|▎| 2/6 [10:36<24:33, 368.37s/it]\u001b[A\u001b[A\n",
      "\n",
      "Retrying generation for current utterance:  50%|▌| 3/6 [11:33<11:18, 226.20s/it]\u001b[A\u001b[A\n",
      "\n",
      "Retrying generation for current utterance:  67%|▋| 4/6 [12:06<04:59, 149.95s/it]\u001b[A\u001b[A\n",
      "\n",
      "                                                                                \u001b[A\u001b[A\n",
      "  3%|█▏                                     | 3/100 [17:03<10:59:12, 407.76s/it]\u001b[A"
     ]
    },
    {
     "name": "stdout",
     "output_type": "stream",
     "text": [
      "Paraphrases generated successfully after 0 attempts.\n"
     ]
    },
    {
     "name": "stderr",
     "output_type": "stream",
     "text": [
      "\n",
      "Attempt 1:   0%|                                          | 0/5 [00:00<?, ?it/s]\u001b[A\n",
      "\n",
      "Retrying generation for current utterance:   0%|          | 0/6 [00:00<?, ?it/s]\u001b[A\u001b[A\n",
      "\n",
      "Retrying generation for current utterance:  17%|▎ | 1/6 [00:44<03:42, 44.57s/it]\u001b[A\u001b[A\n",
      "\n",
      "Retrying generation for current utterance:  33%|▋ | 2/6 [01:07<02:07, 31.90s/it]\u001b[A\u001b[A\n",
      "\n",
      "Retrying generation for current utterance:  50%|█ | 3/6 [01:29<01:21, 27.25s/it]\u001b[A\u001b[A\n",
      "\n",
      "Retrying generation for current utterance:  67%|█▎| 4/6 [01:55<00:53, 26.81s/it]\u001b[A\u001b[A\n",
      "\n",
      "Retrying generation for current utterance:  83%|█▋| 5/6 [02:32<00:30, 30.39s/it]\u001b[A\u001b[A\n",
      "\n",
      "Retrying generation for current utterance: 100%|██| 6/6 [02:59<00:00, 29.25s/it]\u001b[A\u001b[A\n",
      "\n",
      "                                                                                \u001b[A\u001b[A"
     ]
    },
    {
     "name": "stdout",
     "output_type": "stream",
     "text": [
      "Attempt 1: The generated list of paraphrases is empty. Retrying...\n"
     ]
    },
    {
     "name": "stderr",
     "output_type": "stream",
     "text": [
      "\n",
      "\n",
      "Retrying generation for current utterance:   0%|          | 0/6 [00:00<?, ?it/s]\u001b[A\u001b[A\n",
      "\n",
      "Retrying generation for current utterance:  17%|▎ | 1/6 [00:44<03:42, 44.53s/it]\u001b[A\u001b[A\n",
      "\n",
      "Retrying generation for current utterance:  33%|▋ | 2/6 [01:05<02:02, 30.67s/it]\u001b[A\u001b[A\n",
      "\n",
      "Retrying generation for current utterance:  50%|█ | 3/6 [01:27<01:19, 26.53s/it]\u001b[A\u001b[A\n",
      "\n",
      "Retrying generation for current utterance:  67%|█▎| 4/6 [01:45<00:46, 23.42s/it]\u001b[A\u001b[A\n",
      "\n",
      "Retrying generation for current utterance:  83%|█▋| 5/6 [02:10<00:23, 23.91s/it]\u001b[A\u001b[A\n",
      "\n",
      "Retrying generation for current utterance: 100%|██| 6/6 [02:38<00:00, 25.25s/it]\u001b[A\u001b[A\n",
      "\n",
      "                                                                                \u001b[A\u001b[A"
     ]
    },
    {
     "name": "stdout",
     "output_type": "stream",
     "text": [
      "Attempt 2: The generated list of paraphrases is empty. Retrying...\n"
     ]
    },
    {
     "name": "stderr",
     "output_type": "stream",
     "text": [
      "\n",
      "\n",
      "Retrying generation for current utterance:   0%|          | 0/6 [00:00<?, ?it/s]\u001b[A\u001b[A\n",
      "\n",
      "Retrying generation for current utterance:  17%|▎ | 1/6 [00:24<02:00, 24.10s/it]\u001b[A\u001b[A\n",
      "\n",
      "Retrying generation for current utterance:  33%|▋ | 2/6 [00:46<01:31, 22.95s/it]\u001b[A\u001b[A\n",
      "\n",
      "Retrying generation for current utterance:  50%|█ | 3/6 [01:19<01:23, 27.86s/it]\u001b[A\u001b[A\n",
      "\n",
      "Retrying generation for current utterance:  67%|█▎| 4/6 [01:50<00:57, 28.83s/it]\u001b[A\u001b[A\n",
      "\n",
      "Retrying generation for current utterance:  83%|█▋| 5/6 [02:22<00:30, 30.21s/it]\u001b[A\u001b[A"
     ]
    },
    {
     "name": "stdout",
     "output_type": "stream",
     "text": [
      "API server is overloaded or not ready. Retrying in 3 seconds...\n"
     ]
    },
    {
     "name": "stderr",
     "output_type": "stream",
     "text": [
      "\n",
      "\n",
      "Retrying generation for current utterance: 100%|██| 6/6 [03:03<00:00, 33.62s/it]\u001b[A\u001b[A\n",
      "\n",
      "                                                                                \u001b[A\u001b[A"
     ]
    },
    {
     "name": "stdout",
     "output_type": "stream",
     "text": [
      "Attempt 3: The generated list of paraphrases is empty. Retrying...\n"
     ]
    },
    {
     "name": "stderr",
     "output_type": "stream",
     "text": [
      "\n",
      "\n",
      "Retrying generation for current utterance:   0%|          | 0/6 [00:00<?, ?it/s]\u001b[A\u001b[A\n",
      "\n",
      "Retrying generation for current utterance:  17%|▎ | 1/6 [00:28<02:22, 28.53s/it]\u001b[A\u001b[A\n",
      "\n",
      "Retrying generation for current utterance:  33%|▋ | 2/6 [00:57<01:55, 28.80s/it]\u001b[A\u001b[A\n",
      "\n",
      "Retrying generation for current utterance:  50%|█ | 3/6 [01:20<01:18, 26.07s/it]\u001b[A\u001b[A\n",
      "\n",
      "Retrying generation for current utterance:  67%|█▎| 4/6 [01:50<00:55, 27.50s/it]\u001b[A\u001b[A\n",
      "\n",
      "Retrying generation for current utterance:  83%|█▋| 5/6 [02:36<00:34, 34.21s/it]\u001b[A\u001b[A\n",
      "\n",
      "Retrying generation for current utterance: 100%|██| 6/6 [03:07<00:00, 33.19s/it]\u001b[A\u001b[A\n",
      "\n",
      "                                                                                \u001b[A\u001b[A"
     ]
    },
    {
     "name": "stdout",
     "output_type": "stream",
     "text": [
      "Attempt 4: The generated list of paraphrases is empty. Retrying...\n"
     ]
    },
    {
     "name": "stderr",
     "output_type": "stream",
     "text": [
      "\n",
      "\n",
      "Retrying generation for current utterance:   0%|          | 0/6 [00:00<?, ?it/s]\u001b[A\u001b[A\n",
      "\n",
      "                                                                                \u001b[A\u001b[A\n",
      "Attempt 1:   0%| | 0/5 [12:20<?, ?it/s, status=Retry: Some paraphrases contain n\u001b[A\n",
      "Attempt 1:  20%|▏| 1/5 [12:20<49:20, 740.21s/it, status=Retry: Some paraphrases \u001b[A"
     ]
    },
    {
     "name": "stdout",
     "output_type": "stream",
     "text": [
      "Paraphrases generated successfully after 4 attempts.\n"
     ]
    },
    {
     "name": "stderr",
     "output_type": "stream",
     "text": [
      "\n",
      "\n",
      "Retrying generation for current utterance:   0%|          | 0/6 [00:00<?, ?it/s]\u001b[A\u001b[A\n",
      "\n",
      "                                                                                \u001b[A\u001b[A\n",
      "  4%|█▌                                     | 4/100 [29:48<14:37:50, 548.65s/it]\u001b[A"
     ]
    },
    {
     "name": "stdout",
     "output_type": "stream",
     "text": [
      "Paraphrases generated successfully after 0 attempts.\n"
     ]
    },
    {
     "name": "stderr",
     "output_type": "stream",
     "text": [
      "\n",
      "Attempt 1:   0%|                                          | 0/5 [00:00<?, ?it/s]\u001b[A\n",
      "\n",
      "Retrying generation for current utterance:   0%|          | 0/6 [00:00<?, ?it/s]\u001b[A\u001b[A\n",
      "\n",
      "Retrying generation for current utterance:  17%|▎ | 1/6 [00:19<01:37, 19.47s/it]\u001b[A\u001b[A\n",
      "\n",
      "Retrying generation for current utterance:  33%|▋ | 2/6 [00:40<01:21, 20.30s/it]\u001b[A\u001b[A\n",
      "\n",
      "Retrying generation for current utterance:  50%|█ | 3/6 [01:08<01:12, 24.08s/it]\u001b[A\u001b[A\n",
      "\n",
      "                                                                                \u001b[A\u001b[A\n",
      "  5%|█▉                                     | 5/100 [31:20<10:08:04, 384.04s/it]\u001b[A"
     ]
    },
    {
     "name": "stdout",
     "output_type": "stream",
     "text": [
      "Paraphrases generated successfully after 0 attempts.\n"
     ]
    },
    {
     "name": "stderr",
     "output_type": "stream",
     "text": [
      "\n",
      "Attempt 1:   0%|                                          | 0/5 [00:00<?, ?it/s]\u001b[A\n",
      "\n",
      "Retrying generation for current utterance:   0%|          | 0/6 [00:00<?, ?it/s]\u001b[A\u001b[A\n",
      "\n",
      "Retrying generation for current utterance:  17%|▎ | 1/6 [00:50<04:12, 50.48s/it]\u001b[A\u001b[A\n",
      "\n",
      "                                                                                \u001b[A\u001b[A\n",
      "Attempt 1:   0%| | 0/5 [01:06<?, ?it/s, status=Retry: Some paraphrases contain n\u001b[A\n",
      "Attempt 1:  20%|▏| 1/5 [01:06<04:27, 66.99s/it, status=Retry: Some paraphrases c\u001b[A"
     ]
    },
    {
     "name": "stdout",
     "output_type": "stream",
     "text": [
      "Paraphrases generated successfully after 0 attempts.\n"
     ]
    },
    {
     "name": "stderr",
     "output_type": "stream",
     "text": [
      "\n",
      "\n",
      "Retrying generation for current utterance:   0%|          | 0/6 [00:00<?, ?it/s]\u001b[A\u001b[A\n",
      "\n",
      "Retrying generation for current utterance:  17%|▎ | 1/6 [01:01<05:07, 61.58s/it]\u001b[A\u001b[A\n",
      "\n",
      "Retrying generation for current utterance:  33%|▋ | 2/6 [01:44<03:23, 50.79s/it]\u001b[A\u001b[A\n",
      "\n",
      "                                                                                \u001b[A\u001b[A\n",
      "  6%|██▍                                     | 6/100 [35:22<8:46:09, 335.85s/it]\u001b[A"
     ]
    },
    {
     "name": "stdout",
     "output_type": "stream",
     "text": [
      "Paraphrases generated successfully after 0 attempts.\n"
     ]
    },
    {
     "name": "stderr",
     "output_type": "stream",
     "text": [
      "\n",
      "Attempt 1:   0%|                                          | 0/5 [00:00<?, ?it/s]\u001b[A\n",
      "\n",
      "Retrying generation for current utterance:   0%|          | 0/6 [00:00<?, ?it/s]\u001b[A\u001b[A\n",
      "\n",
      "                                                                                \u001b[A\u001b[A\n",
      "  7%|██▊                                     | 7/100 [36:07<6:13:12, 240.78s/it]\u001b[A"
     ]
    },
    {
     "name": "stdout",
     "output_type": "stream",
     "text": [
      "Paraphrases generated successfully after 0 attempts.\n"
     ]
    },
    {
     "name": "stderr",
     "output_type": "stream",
     "text": [
      "\n",
      "Attempt 1:   0%|                                          | 0/5 [00:00<?, ?it/s]\u001b[A\n",
      "\n",
      "Retrying generation for current utterance:   0%|          | 0/6 [00:00<?, ?it/s]\u001b[A\u001b[A\n",
      "\n",
      "Retrying generation for current utterance:  17%|▎ | 1/6 [00:46<03:52, 46.50s/it]\u001b[A\u001b[A\n",
      "\n",
      "Retrying generation for current utterance:  33%|▋ | 2/6 [01:31<03:03, 45.91s/it]\u001b[A\u001b[A\n",
      "\n",
      "Retrying generation for current utterance:  50%|█ | 3/6 [02:21<02:23, 47.69s/it]\u001b[A\u001b[A\n",
      "\n",
      "Retrying generation for current utterance:  67%|█▎| 4/6 [03:13<01:38, 49.08s/it]\u001b[A\u001b[A\n",
      "\n",
      "Retrying generation for current utterance:  83%|█▋| 5/6 [03:49<00:44, 44.37s/it]\u001b[A\u001b[A\n",
      "\n",
      "Retrying generation for current utterance: 100%|██| 6/6 [04:30<00:00, 43.43s/it]\u001b[A\u001b[A\n",
      "\n",
      "                                                                                \u001b[A\u001b[A"
     ]
    },
    {
     "name": "stdout",
     "output_type": "stream",
     "text": [
      "Attempt 1: The generated list of paraphrases is empty. Retrying...\n"
     ]
    },
    {
     "name": "stderr",
     "output_type": "stream",
     "text": [
      "\n",
      "\n",
      "Retrying generation for current utterance:   0%|          | 0/6 [00:00<?, ?it/s]\u001b[A\u001b[A\n",
      "\n",
      "Retrying generation for current utterance:  17%|▎ | 1/6 [00:35<02:57, 35.40s/it]\u001b[A\u001b[A\n",
      "\n",
      "                                                                                \u001b[A\u001b[A\n",
      "  8%|███▏                                    | 8/100 [41:50<6:58:44, 273.09s/it]\u001b[A"
     ]
    },
    {
     "name": "stdout",
     "output_type": "stream",
     "text": [
      "Paraphrases generated successfully after 1 attempts.\n"
     ]
    },
    {
     "name": "stderr",
     "output_type": "stream",
     "text": [
      "\n",
      "Attempt 1:   0%|                                          | 0/5 [00:00<?, ?it/s]\u001b[A\n",
      "\n",
      "Retrying generation for current utterance:   0%|          | 0/6 [00:00<?, ?it/s]\u001b[A\u001b[A\n",
      "\n",
      "Retrying generation for current utterance:  17%|▎ | 1/6 [00:23<01:55, 23.11s/it]\u001b[A\u001b[A\n",
      "\n",
      "Retrying generation for current utterance:  33%|▋ | 2/6 [00:56<01:56, 29.08s/it]\u001b[A\u001b[A\n",
      "\n",
      "Retrying generation for current utterance:  50%|█ | 3/6 [01:10<01:06, 22.26s/it]\u001b[A\u001b[A\n",
      "\n",
      "Retrying generation for current utterance:  67%|█▎| 4/6 [01:28<00:41, 20.54s/it]\u001b[A\u001b[A\n",
      "\n",
      "Retrying generation for current utterance:  83%|█▋| 5/6 [01:59<00:24, 24.46s/it]\u001b[A\u001b[A\n",
      "\n",
      "Retrying generation for current utterance: 100%|██| 6/6 [02:23<00:00, 24.08s/it]\u001b[A\u001b[A\n",
      "\n",
      "                                                                                \u001b[A\u001b[A"
     ]
    },
    {
     "name": "stdout",
     "output_type": "stream",
     "text": [
      "Attempt 1: The generated list of paraphrases is empty. Retrying...\n"
     ]
    },
    {
     "name": "stderr",
     "output_type": "stream",
     "text": [
      "\n",
      "\n",
      "Retrying generation for current utterance:   0%|          | 0/6 [00:00<?, ?it/s]\u001b[A\u001b[A\n",
      "\n",
      "                                                                                \u001b[A\u001b[A\n",
      "  9%|███▌                                    | 9/100 [44:41<6:06:06, 241.39s/it]\u001b[A"
     ]
    },
    {
     "name": "stdout",
     "output_type": "stream",
     "text": [
      "Paraphrases generated successfully after 1 attempts.\n"
     ]
    },
    {
     "name": "stderr",
     "output_type": "stream",
     "text": [
      "\n",
      "Attempt 1:   0%|                                          | 0/5 [00:00<?, ?it/s]\u001b[A\n",
      "\n",
      "Retrying generation for current utterance:   0%|          | 0/6 [00:00<?, ?it/s]\u001b[A\u001b[A\n",
      "\n",
      "Retrying generation for current utterance:  17%|▎ | 1/6 [00:44<03:43, 44.62s/it]\u001b[A\u001b[A\n",
      "\n",
      "Retrying generation for current utterance:  33%|▋ | 2/6 [01:24<02:48, 42.02s/it]\u001b[A\u001b[A\n",
      "\n",
      "Retrying generation for current utterance:  50%|█ | 3/6 [01:56<01:51, 37.18s/it]\u001b[A\u001b[A\n",
      "\n",
      "Retrying generation for current utterance:  67%|█▎| 4/6 [02:31<01:12, 36.25s/it]\u001b[A\u001b[A\n",
      "\n",
      "Retrying generation for current utterance:  83%|█▋| 5/6 [02:52<00:30, 30.85s/it]\u001b[A\u001b[A\n",
      "\n",
      "Retrying generation for current utterance: 100%|██| 6/6 [03:15<00:00, 28.18s/it]\u001b[A\u001b[A\n",
      "\n",
      "                                                                                \u001b[A\u001b[A"
     ]
    },
    {
     "name": "stdout",
     "output_type": "stream",
     "text": [
      "Attempt 1: The generated list of paraphrases is empty. Retrying...\n"
     ]
    },
    {
     "name": "stderr",
     "output_type": "stream",
     "text": [
      "\n",
      "\n",
      "Retrying generation for current utterance:   0%|          | 0/6 [00:00<?, ?it/s]\u001b[A\u001b[A"
     ]
    },
    {
     "name": "stdout",
     "output_type": "stream",
     "text": [
      "Request timed out. Retrying in 3 seconds...\n"
     ]
    },
    {
     "name": "stderr",
     "output_type": "stream",
     "text": [
      "\n",
      "\n",
      "Retrying generation for current utterance:  17%|▏| 1/6 [10:03<50:15, 603.18s/it]\u001b[A\u001b[A\n",
      "\n",
      "Retrying generation for current utterance:  33%|▎| 2/6 [11:06<19:02, 285.52s/it]\u001b[A\u001b[A\n",
      "\n",
      "Retrying generation for current utterance:  50%|▌| 3/6 [11:51<08:47, 175.90s/it]\u001b[A\u001b[A\n",
      "\n",
      "Retrying generation for current utterance:  67%|▋| 4/6 [12:14<03:50, 115.38s/it]\u001b[A\u001b[A\n",
      "\n",
      "Retrying generation for current utterance:  83%|█▋| 5/6 [12:41<01:23, 83.57s/it]\u001b[A\u001b[A\n",
      "\n",
      "Retrying generation for current utterance: 100%|██| 6/6 [13:04<00:00, 62.99s/it]\u001b[A\u001b[A\n",
      "\n",
      "                                                                                \u001b[A\u001b[A"
     ]
    },
    {
     "name": "stdout",
     "output_type": "stream",
     "text": [
      "Attempt 2: The generated list of paraphrases is empty. Retrying...\n"
     ]
    },
    {
     "name": "stderr",
     "output_type": "stream",
     "text": [
      "\n",
      "\n",
      "Retrying generation for current utterance:   0%|          | 0/6 [00:00<?, ?it/s]\u001b[A\u001b[A\n",
      "\n",
      "Retrying generation for current utterance:  17%|▎ | 1/6 [00:31<02:36, 31.31s/it]\u001b[A\u001b[A\n",
      "\n",
      "                                                                                \u001b[A\u001b[A\n",
      " 10%|███▌                                | 10/100 [1:01:55<12:08:51, 485.91s/it]\u001b[A"
     ]
    },
    {
     "name": "stdout",
     "output_type": "stream",
     "text": [
      "Paraphrases generated successfully after 2 attempts.\n"
     ]
    },
    {
     "name": "stderr",
     "output_type": "stream",
     "text": [
      "\n",
      "Attempt 1:   0%|                                          | 0/5 [00:00<?, ?it/s]\u001b[A\n",
      "\n",
      "Retrying generation for current utterance:   0%|          | 0/6 [00:00<?, ?it/s]\u001b[A\u001b[A\n",
      "\n",
      "Retrying generation for current utterance:  17%|▎ | 1/6 [00:24<02:00, 24.14s/it]\u001b[A\u001b[A\n",
      "\n",
      "                                                                                \u001b[A\u001b[A\n",
      " 11%|████                                 | 11/100 [1:03:04<8:51:41, 358.44s/it]\u001b[A"
     ]
    },
    {
     "name": "stdout",
     "output_type": "stream",
     "text": [
      "Paraphrases generated successfully after 0 attempts.\n"
     ]
    },
    {
     "name": "stderr",
     "output_type": "stream",
     "text": [
      "\n",
      "Attempt 1:   0%|                                          | 0/5 [00:00<?, ?it/s]\u001b[A\n",
      "\n",
      "Retrying generation for current utterance:   0%|          | 0/6 [00:00<?, ?it/s]\u001b[A\u001b[A\n",
      "\n",
      "                                                                                \u001b[A\u001b[A\n",
      "Attempt 1:   0%| | 0/5 [00:18<?, ?it/s, status=Retry: Some paraphrases contain n\u001b[A\n",
      "Attempt 1:  20%|▏| 1/5 [00:18<01:15, 18.93s/it, status=Retry: Some paraphrases c\u001b[A"
     ]
    },
    {
     "name": "stdout",
     "output_type": "stream",
     "text": [
      "Paraphrases generated successfully after 0 attempts.\n"
     ]
    },
    {
     "name": "stderr",
     "output_type": "stream",
     "text": [
      "\n",
      "\n",
      "Retrying generation for current utterance:   0%|          | 0/6 [00:00<?, ?it/s]\u001b[A\u001b[A\n",
      "\n",
      "                                                                                \u001b[A\u001b[A\n",
      " 12%|████▍                                | 12/100 [1:03:57<6:29:21, 265.48s/it]\u001b[A"
     ]
    },
    {
     "name": "stdout",
     "output_type": "stream",
     "text": [
      "Paraphrases generated successfully after 0 attempts.\n"
     ]
    },
    {
     "name": "stderr",
     "output_type": "stream",
     "text": [
      "\n",
      "Attempt 1:   0%|                                          | 0/5 [00:00<?, ?it/s]\u001b[A\n",
      "\n",
      "Retrying generation for current utterance:   0%|          | 0/6 [00:00<?, ?it/s]\u001b[A\u001b[A\n",
      "\n",
      "Retrying generation for current utterance:  17%|▎ | 1/6 [00:34<02:52, 34.53s/it]\u001b[A\u001b[A\n",
      "\n",
      "Retrying generation for current utterance:  33%|▋ | 2/6 [01:16<02:35, 38.79s/it]\u001b[A\u001b[A\n",
      "\n",
      "                                                                                \u001b[A\u001b[A\n",
      " 13%|████▊                                | 13/100 [1:06:00<5:22:26, 222.37s/it]\u001b[A"
     ]
    },
    {
     "name": "stdout",
     "output_type": "stream",
     "text": [
      "Paraphrases generated successfully after 0 attempts.\n"
     ]
    },
    {
     "name": "stderr",
     "output_type": "stream",
     "text": [
      "\n",
      "Attempt 1:   0%|                                          | 0/5 [00:00<?, ?it/s]\u001b[A\n",
      "\n",
      "Retrying generation for current utterance:   0%|          | 0/6 [00:00<?, ?it/s]\u001b[A\u001b[A\n",
      "\n",
      "                                                                                \u001b[A\u001b[A\n",
      " 14%|█████▏                               | 14/100 [1:06:52<4:04:56, 170.89s/it]\u001b[A"
     ]
    },
    {
     "name": "stdout",
     "output_type": "stream",
     "text": [
      "Paraphrases generated successfully after 0 attempts.\n"
     ]
    },
    {
     "name": "stderr",
     "output_type": "stream",
     "text": [
      "\n",
      "Attempt 1:   0%|                                          | 0/5 [00:00<?, ?it/s]\u001b[A\n",
      "\n",
      "Retrying generation for current utterance:   0%|          | 0/6 [00:00<?, ?it/s]\u001b[A\u001b[A\n",
      "\n",
      "Retrying generation for current utterance:  17%|▎ | 1/6 [00:18<01:34, 18.94s/it]\u001b[A\u001b[A\n",
      "\n",
      "Retrying generation for current utterance:  33%|▋ | 2/6 [01:00<02:07, 31.95s/it]\u001b[A\u001b[A\n",
      "\n",
      "Retrying generation for current utterance:  50%|█ | 3/6 [01:24<01:26, 28.73s/it]\u001b[A\u001b[A\n",
      "\n",
      "Retrying generation for current utterance:  67%|█▎| 4/6 [02:08<01:09, 34.56s/it]\u001b[A\u001b[A\n",
      "\n",
      "                                                                                \u001b[A\u001b[A\n",
      " 15%|█████▌                               | 15/100 [1:09:39<4:00:18, 169.63s/it]\u001b[A"
     ]
    },
    {
     "name": "stdout",
     "output_type": "stream",
     "text": [
      "Paraphrases generated successfully after 0 attempts.\n"
     ]
    },
    {
     "name": "stderr",
     "output_type": "stream",
     "text": [
      "\n",
      "Attempt 1:   0%|                                          | 0/5 [00:00<?, ?it/s]\u001b[A\n",
      "\n",
      "Retrying generation for current utterance:   0%|          | 0/6 [00:00<?, ?it/s]\u001b[A\u001b[A\n",
      "\n",
      "Retrying generation for current utterance:  17%|▎ | 1/6 [00:26<02:11, 26.21s/it]\u001b[A\u001b[A\n",
      "\n",
      "Retrying generation for current utterance:  33%|▋ | 2/6 [01:00<02:03, 30.91s/it]\u001b[A\u001b[A\n",
      "\n",
      "Retrying generation for current utterance:  50%|█ | 3/6 [01:25<01:25, 28.39s/it]\u001b[A\u001b[A\n",
      "\n",
      "Retrying generation for current utterance:  67%|█▎| 4/6 [02:02<01:03, 31.86s/it]\u001b[A\u001b[A"
     ]
    },
    {
     "name": "stdout",
     "output_type": "stream",
     "text": [
      "Request timed out. Retrying in 3 seconds...\n"
     ]
    },
    {
     "name": "stderr",
     "output_type": "stream",
     "text": [
      "\n",
      "\n",
      "Retrying generation for current utterance:  83%|▊| 5/6 [12:06<03:57, 237.86s/it]\u001b[A\u001b[A\n",
      "\n",
      "                                                                                \u001b[A\u001b[A\n",
      " 16%|█████▉                               | 16/100 [1:22:49<8:19:00, 356.43s/it]\u001b[A"
     ]
    },
    {
     "name": "stdout",
     "output_type": "stream",
     "text": [
      "Paraphrases generated successfully after 0 attempts.\n"
     ]
    },
    {
     "name": "stderr",
     "output_type": "stream",
     "text": [
      "\n",
      "Attempt 1:   0%|                                          | 0/5 [00:00<?, ?it/s]\u001b[A\n",
      "\n",
      "Retrying generation for current utterance:   0%|          | 0/6 [00:00<?, ?it/s]\u001b[A\u001b[A\n",
      "\n",
      "Retrying generation for current utterance:  17%|▎ | 1/6 [00:37<03:07, 37.48s/it]\u001b[A\u001b[A\n",
      "\n",
      "                                                                                \u001b[A\u001b[A\n",
      " 17%|██████▎                              | 17/100 [1:23:59<6:13:56, 270.32s/it]\u001b[A"
     ]
    },
    {
     "name": "stdout",
     "output_type": "stream",
     "text": [
      "Paraphrases generated successfully after 0 attempts.\n"
     ]
    },
    {
     "name": "stderr",
     "output_type": "stream",
     "text": [
      "\n",
      "Attempt 1:   0%|                                          | 0/5 [00:00<?, ?it/s]\u001b[A\n",
      "\n",
      "Retrying generation for current utterance:   0%|          | 0/6 [00:00<?, ?it/s]\u001b[A\u001b[A\n",
      "\n",
      "Retrying generation for current utterance:  17%|▎ | 1/6 [00:44<03:42, 44.43s/it]\u001b[A\u001b[A\n",
      "\n",
      "                                                                                \u001b[A\u001b[A\n",
      "Attempt 1:   0%| | 0/5 [00:56<?, ?it/s, status=Retry: Some paraphrases contain n\u001b[A\n",
      "Attempt 1:  20%|▏| 1/5 [00:56<03:46, 56.62s/it, status=Retry: Some paraphrases c\u001b[A"
     ]
    },
    {
     "name": "stdout",
     "output_type": "stream",
     "text": [
      "Paraphrases generated successfully after 0 attempts.\n"
     ]
    },
    {
     "name": "stderr",
     "output_type": "stream",
     "text": [
      "\n",
      "\n",
      "Retrying generation for current utterance:   0%|          | 0/6 [00:00<?, ?it/s]\u001b[A\u001b[A\n",
      "\n",
      "Retrying generation for current utterance:  17%|▎ | 1/6 [00:11<00:55, 11.05s/it]\u001b[A\u001b[A\n",
      "\n",
      "Retrying generation for current utterance:  33%|▋ | 2/6 [00:22<00:45, 11.31s/it]\u001b[A\u001b[A\n",
      "\n",
      "Retrying generation for current utterance:  50%|█ | 3/6 [00:48<00:53, 17.83s/it]\u001b[A\u001b[A\n",
      "\n",
      "Retrying generation for current utterance:  67%|█▎| 4/6 [00:59<00:30, 15.40s/it]\u001b[A\u001b[A\n",
      "\n",
      "Retrying generation for current utterance:  83%|█▋| 5/6 [01:32<00:21, 21.63s/it]\u001b[A\u001b[A\n",
      "\n",
      "Retrying generation for current utterance: 100%|██| 6/6 [02:11<00:00, 27.43s/it]\u001b[A\u001b[A\n",
      "\n",
      "                                                                                \u001b[A\u001b[A"
     ]
    },
    {
     "name": "stdout",
     "output_type": "stream",
     "text": [
      "Attempt 1: The generated list of paraphrases is empty. Retrying...\n"
     ]
    },
    {
     "name": "stderr",
     "output_type": "stream",
     "text": [
      "\n",
      "\n",
      "Retrying generation for current utterance:   0%|          | 0/6 [00:00<?, ?it/s]\u001b[A\u001b[A\n",
      "\n",
      "                                                                                \u001b[A\u001b[A\n",
      " 18%|██████▋                              | 18/100 [1:27:31<5:45:18, 252.67s/it]\u001b[A"
     ]
    },
    {
     "name": "stdout",
     "output_type": "stream",
     "text": [
      "Paraphrases generated successfully after 1 attempts.\n"
     ]
    },
    {
     "name": "stderr",
     "output_type": "stream",
     "text": [
      "\n",
      "Attempt 1:   0%|                                          | 0/5 [00:00<?, ?it/s]\u001b[A\n",
      "\n",
      "Retrying generation for current utterance:   0%|          | 0/6 [00:00<?, ?it/s]\u001b[A\u001b[A\n",
      "\n",
      "                                                                                \u001b[A\u001b[A\n",
      " 19%|███████                              | 19/100 [1:28:07<4:13:12, 187.56s/it]\u001b[A"
     ]
    },
    {
     "name": "stdout",
     "output_type": "stream",
     "text": [
      "Paraphrases generated successfully after 0 attempts.\n"
     ]
    },
    {
     "name": "stderr",
     "output_type": "stream",
     "text": [
      "\n",
      "Attempt 1:   0%|                                          | 0/5 [00:00<?, ?it/s]\u001b[A\n",
      "\n",
      "Retrying generation for current utterance:   0%|          | 0/6 [00:00<?, ?it/s]\u001b[A\u001b[A\n",
      "\n",
      "Retrying generation for current utterance:  17%|▎ | 1/6 [00:34<02:52, 34.50s/it]\u001b[A\u001b[A\n",
      "\n",
      "                                                                                \u001b[A\u001b[A\n",
      " 20%|███████▍                             | 20/100 [1:29:12<3:21:04, 150.81s/it]\u001b[A"
     ]
    },
    {
     "name": "stdout",
     "output_type": "stream",
     "text": [
      "Paraphrases generated successfully after 0 attempts.\n"
     ]
    },
    {
     "name": "stderr",
     "output_type": "stream",
     "text": [
      "\n",
      "Attempt 1:   0%|                                          | 0/5 [00:00<?, ?it/s]\u001b[A\n",
      "\n",
      "Retrying generation for current utterance:   0%|          | 0/6 [00:00<?, ?it/s]\u001b[A\u001b[A\n",
      "\n",
      "Retrying generation for current utterance:  17%|▎ | 1/6 [00:33<02:48, 33.77s/it]\u001b[A\u001b[A\n",
      "\n",
      "Retrying generation for current utterance:  33%|▋ | 2/6 [00:49<01:31, 22.94s/it]\u001b[A\u001b[A\n",
      "\n",
      "Retrying generation for current utterance:  50%|█ | 3/6 [01:21<01:21, 27.07s/it]\u001b[A\u001b[A\n",
      "\n",
      "Retrying generation for current utterance:  67%|█▎| 4/6 [01:42<00:49, 24.94s/it]\u001b[A\u001b[A\n",
      "\n",
      "Retrying generation for current utterance:  83%|█▋| 5/6 [02:22<00:30, 30.20s/it]\u001b[A\u001b[A\n",
      "\n",
      "Retrying generation for current utterance: 100%|██| 6/6 [02:43<00:00, 27.01s/it]\u001b[A\u001b[A\n",
      "\n",
      "                                                                                \u001b[A\u001b[A"
     ]
    },
    {
     "name": "stdout",
     "output_type": "stream",
     "text": [
      "Attempt 1: The generated list of paraphrases is empty. Retrying...\n"
     ]
    },
    {
     "name": "stderr",
     "output_type": "stream",
     "text": [
      "\n",
      "\n",
      "Retrying generation for current utterance:   0%|          | 0/6 [00:00<?, ?it/s]\u001b[A\u001b[A\n",
      "\n",
      "Retrying generation for current utterance:  17%|▎ | 1/6 [00:38<03:12, 38.44s/it]\u001b[A\u001b[A\n",
      "\n",
      "Retrying generation for current utterance:  33%|▋ | 2/6 [00:52<01:35, 23.83s/it]\u001b[A\u001b[A\n",
      "\n",
      "Retrying generation for current utterance:  50%|█ | 3/6 [01:31<01:33, 31.10s/it]\u001b[A\u001b[A\n",
      "\n",
      "                                                                                \u001b[A\u001b[A\n",
      " 21%|███████▊                             | 21/100 [1:33:59<4:12:21, 191.67s/it]\u001b[A"
     ]
    },
    {
     "name": "stdout",
     "output_type": "stream",
     "text": [
      "Paraphrases generated successfully after 1 attempts.\n"
     ]
    },
    {
     "name": "stderr",
     "output_type": "stream",
     "text": [
      "\n",
      "Attempt 1:   0%|                                          | 0/5 [00:00<?, ?it/s]\u001b[A\n",
      "\n",
      "Retrying generation for current utterance:   0%|          | 0/6 [00:00<?, ?it/s]\u001b[A\u001b[A\n",
      "\n",
      "Retrying generation for current utterance:  17%|▎ | 1/6 [00:36<03:03, 36.64s/it]\u001b[A\u001b[A\n",
      "\n",
      "Retrying generation for current utterance:  33%|▋ | 2/6 [01:35<03:18, 49.73s/it]\u001b[A\u001b[A\n",
      "\n",
      "                                                                                \u001b[A\u001b[A\n",
      " 22%|████████▏                            | 22/100 [1:36:10<3:45:39, 173.59s/it]\u001b[A"
     ]
    },
    {
     "name": "stdout",
     "output_type": "stream",
     "text": [
      "Paraphrases generated successfully after 0 attempts.\n"
     ]
    },
    {
     "name": "stderr",
     "output_type": "stream",
     "text": [
      "\n",
      "Attempt 1:   0%|                                          | 0/5 [00:00<?, ?it/s]\u001b[A\n",
      "\n",
      "Retrying generation for current utterance:   0%|          | 0/6 [00:00<?, ?it/s]\u001b[A\u001b[A\n",
      "\n",
      "                                                                                \u001b[A\u001b[A\n",
      " 23%|████████▌                            | 23/100 [1:36:36<2:45:43, 129.13s/it]\u001b[A"
     ]
    },
    {
     "name": "stdout",
     "output_type": "stream",
     "text": [
      "Paraphrases generated successfully after 0 attempts.\n"
     ]
    },
    {
     "name": "stderr",
     "output_type": "stream",
     "text": [
      "\n",
      "Attempt 1:   0%|                                          | 0/5 [00:00<?, ?it/s]\u001b[A\n",
      "\n",
      "Retrying generation for current utterance:   0%|          | 0/6 [00:00<?, ?it/s]\u001b[A\u001b[A\n",
      "\n",
      "Retrying generation for current utterance:  17%|▎ | 1/6 [00:32<02:43, 32.78s/it]\u001b[A\u001b[A\n",
      "\n",
      "Retrying generation for current utterance:  33%|▋ | 2/6 [01:08<02:19, 34.76s/it]\u001b[A\u001b[A\n",
      "\n",
      "                                                                                \u001b[A\u001b[A\n",
      " 24%|████████▉                            | 24/100 [1:38:34<2:39:34, 125.98s/it]\u001b[A"
     ]
    },
    {
     "name": "stdout",
     "output_type": "stream",
     "text": [
      "Paraphrases generated successfully after 0 attempts.\n"
     ]
    },
    {
     "name": "stderr",
     "output_type": "stream",
     "text": [
      "\n",
      "Attempt 1:   0%|                                          | 0/5 [00:00<?, ?it/s]\u001b[A\n",
      "\n",
      "Retrying generation for current utterance:   0%|          | 0/6 [00:00<?, ?it/s]\u001b[A\u001b[A\n",
      "\n",
      "Retrying generation for current utterance:  17%|▎ | 1/6 [00:43<03:37, 43.45s/it]\u001b[A\u001b[A\n",
      "\n",
      "                                                                                \u001b[A\u001b[A\n",
      " 25%|█████████▎                           | 25/100 [1:40:09<2:25:43, 116.59s/it]\u001b[A"
     ]
    },
    {
     "name": "stdout",
     "output_type": "stream",
     "text": [
      "Paraphrases generated successfully after 0 attempts.\n"
     ]
    },
    {
     "name": "stderr",
     "output_type": "stream",
     "text": [
      "\n",
      "Attempt 1:   0%|                                          | 0/5 [00:00<?, ?it/s]\u001b[A\n",
      "\n",
      "Retrying generation for current utterance:   0%|          | 0/6 [00:00<?, ?it/s]\u001b[A\u001b[A\n",
      "\n",
      "Retrying generation for current utterance:  17%|▎ | 1/6 [00:12<01:00, 12.16s/it]\u001b[A\u001b[A\n",
      "\n",
      "Retrying generation for current utterance:  33%|▋ | 2/6 [00:48<01:46, 26.64s/it]\u001b[A\u001b[A"
     ]
    },
    {
     "name": "stdout",
     "output_type": "stream",
     "text": [
      "API server is overloaded or not ready. Retrying in 3 seconds...\n"
     ]
    },
    {
     "name": "stderr",
     "output_type": "stream",
     "text": [
      "\n",
      "\n",
      "Retrying generation for current utterance:  50%|█ | 3/6 [01:29<01:38, 32.99s/it]\u001b[A\u001b[A\n",
      "\n",
      "Retrying generation for current utterance:  67%|█▎| 4/6 [01:42<00:50, 25.22s/it]\u001b[A\u001b[A\n",
      "\n",
      "Retrying generation for current utterance:  83%|█▋| 5/6 [01:57<00:21, 21.26s/it]\u001b[A\u001b[A\n",
      "\n",
      "Retrying generation for current utterance: 100%|██| 6/6 [02:55<00:00, 33.88s/it]\u001b[A\u001b[A\n",
      "\n",
      "                                                                                \u001b[A\u001b[A"
     ]
    },
    {
     "name": "stdout",
     "output_type": "stream",
     "text": [
      "Attempt 1: The generated list of paraphrases is empty. Retrying...\n"
     ]
    },
    {
     "name": "stderr",
     "output_type": "stream",
     "text": [
      "\n",
      "\n",
      "Retrying generation for current utterance:   0%|          | 0/6 [00:00<?, ?it/s]\u001b[A\u001b[A"
     ]
    },
    {
     "name": "stdout",
     "output_type": "stream",
     "text": [
      "Request timed out. Retrying in 3 seconds...\n"
     ]
    },
    {
     "name": "stderr",
     "output_type": "stream",
     "text": [
      "\n",
      "\n",
      "Retrying generation for current utterance:  17%|▏| 1/6 [10:03<50:15, 603.11s/it]\u001b[A\u001b[A\n",
      "\n",
      "Retrying generation for current utterance:  33%|▎| 2/6 [10:57<18:42, 280.62s/it]\u001b[A\u001b[A\n",
      "\n",
      "Retrying generation for current utterance:  50%|▌| 3/6 [11:37<08:32, 170.67s/it]\u001b[A\u001b[A\n",
      "\n",
      "Retrying generation for current utterance:  67%|▋| 4/6 [12:29<04:07, 123.75s/it]\u001b[A\u001b[A\n",
      "\n",
      "Retrying generation for current utterance:  83%|█▋| 5/6 [12:44<01:24, 84.33s/it]\u001b[A\u001b[A\n",
      "\n",
      "Retrying generation for current utterance: 100%|██| 6/6 [13:28<00:00, 70.88s/it]\u001b[A\u001b[A\n",
      "\n",
      "                                                                                \u001b[A\u001b[A"
     ]
    },
    {
     "name": "stdout",
     "output_type": "stream",
     "text": [
      "Attempt 2: The generated list of paraphrases is empty. Retrying...\n"
     ]
    },
    {
     "name": "stderr",
     "output_type": "stream",
     "text": [
      "\n",
      "\n",
      "Retrying generation for current utterance:   0%|          | 0/6 [00:00<?, ?it/s]\u001b[A\u001b[A\n",
      "\n",
      "                                                                                \u001b[A\u001b[A\n",
      " 26%|█████████▌                           | 26/100 [1:57:51<8:13:46, 400.35s/it]\u001b[A"
     ]
    },
    {
     "name": "stdout",
     "output_type": "stream",
     "text": [
      "Paraphrases generated successfully after 2 attempts.\n"
     ]
    },
    {
     "name": "stderr",
     "output_type": "stream",
     "text": [
      "\n",
      "Attempt 1:   0%|                                          | 0/5 [00:00<?, ?it/s]\u001b[A\n",
      "\n",
      "Retrying generation for current utterance:   0%|          | 0/6 [00:00<?, ?it/s]\u001b[A\u001b[A\n",
      "\n",
      "Retrying generation for current utterance:  17%|▎ | 1/6 [01:14<06:12, 74.43s/it]\u001b[A\u001b[A"
     ]
    },
    {
     "name": "stdout",
     "output_type": "stream",
     "text": [
      "API server is overloaded or not ready. Retrying in 3 seconds...\n"
     ]
    },
    {
     "name": "stderr",
     "output_type": "stream",
     "text": [
      "\n",
      "\n",
      "Retrying generation for current utterance:  33%|▋ | 2/6 [01:50<03:27, 51.85s/it]\u001b[A\u001b[A\n",
      "\n",
      "Retrying generation for current utterance:  50%|█ | 3/6 [02:48<02:43, 54.59s/it]\u001b[A\u001b[A\n",
      "\n",
      "                                                                                \u001b[A\u001b[A\n",
      " 27%|█████████▉                           | 27/100 [2:01:22<6:57:55, 343.50s/it]\u001b[A"
     ]
    },
    {
     "name": "stdout",
     "output_type": "stream",
     "text": [
      "Paraphrases generated successfully after 0 attempts.\n"
     ]
    },
    {
     "name": "stderr",
     "output_type": "stream",
     "text": [
      "\n",
      "Attempt 1:   0%|                                          | 0/5 [00:00<?, ?it/s]\u001b[A\n",
      "\n",
      "Retrying generation for current utterance:   0%|          | 0/6 [00:00<?, ?it/s]\u001b[A\u001b[A\n",
      "\n",
      "Retrying generation for current utterance:  17%|▎ | 1/6 [00:33<02:45, 33.16s/it]\u001b[A\u001b[A\n",
      "\n",
      "Retrying generation for current utterance:  33%|▋ | 2/6 [01:21<02:48, 42.15s/it]\u001b[A\u001b[A\n",
      "\n",
      "Retrying generation for current utterance:  50%|█ | 3/6 [01:44<01:40, 33.38s/it]\u001b[A\u001b[A\n",
      "\n",
      "Retrying generation for current utterance:  67%|█▎| 4/6 [02:03<00:55, 27.64s/it]\u001b[A\u001b[A\n",
      "\n",
      "Retrying generation for current utterance:  83%|█▋| 5/6 [03:04<00:39, 39.61s/it]\u001b[A\u001b[A\n",
      "\n",
      "Retrying generation for current utterance: 100%|██| 6/6 [03:58<00:00, 44.61s/it]\u001b[A\u001b[A\n",
      "\n",
      "                                                                                \u001b[A\u001b[A"
     ]
    },
    {
     "name": "stdout",
     "output_type": "stream",
     "text": [
      "Attempt 1: The generated list of paraphrases is empty. Retrying...\n"
     ]
    },
    {
     "name": "stderr",
     "output_type": "stream",
     "text": [
      "\n",
      "\n",
      "Retrying generation for current utterance:   0%|          | 0/6 [00:00<?, ?it/s]\u001b[A\u001b[A\n",
      "\n",
      "Retrying generation for current utterance:  17%|▎ | 1/6 [00:30<02:33, 30.66s/it]\u001b[A\u001b[A\n",
      "\n",
      "Retrying generation for current utterance:  33%|▋ | 2/6 [01:19<02:46, 41.59s/it]\u001b[A\u001b[A\n",
      "\n",
      "                                                                                \u001b[A\u001b[A\n",
      " 28%|██████████▎                          | 28/100 [2:07:15<6:55:46, 346.47s/it]\u001b[A"
     ]
    },
    {
     "name": "stdout",
     "output_type": "stream",
     "text": [
      "Paraphrases generated successfully after 1 attempts.\n"
     ]
    },
    {
     "name": "stderr",
     "output_type": "stream",
     "text": [
      "\n",
      "Attempt 1:   0%|                                          | 0/5 [00:00<?, ?it/s]\u001b[A\n",
      "\n",
      "Retrying generation for current utterance:   0%|          | 0/6 [00:00<?, ?it/s]\u001b[A\u001b[A\n",
      "\n",
      "                                                                                \u001b[A\u001b[A\n",
      " 29%|██████████▋                          | 29/100 [2:07:47<4:58:12, 252.01s/it]\u001b[A"
     ]
    },
    {
     "name": "stdout",
     "output_type": "stream",
     "text": [
      "Paraphrases generated successfully after 0 attempts.\n"
     ]
    },
    {
     "name": "stderr",
     "output_type": "stream",
     "text": [
      "\n",
      "Attempt 1:   0%|                                          | 0/5 [00:00<?, ?it/s]\u001b[A\n",
      "\n",
      "Retrying generation for current utterance:   0%|          | 0/6 [00:00<?, ?it/s]\u001b[A\u001b[A\n",
      "\n",
      "Retrying generation for current utterance:  17%|▎ | 1/6 [01:00<05:03, 60.64s/it]\u001b[A\u001b[A\n",
      "\n",
      "Retrying generation for current utterance:  33%|▋ | 2/6 [01:44<03:24, 51.05s/it]\u001b[A\u001b[A\n",
      "\n",
      "Retrying generation for current utterance:  50%|█ | 3/6 [02:33<02:29, 49.86s/it]\u001b[A\u001b[A\n",
      "\n",
      "                                                                                \u001b[A\u001b[A\n",
      " 30%|███████████                          | 30/100 [2:11:17<4:39:21, 239.45s/it]\u001b[A"
     ]
    },
    {
     "name": "stdout",
     "output_type": "stream",
     "text": [
      "Paraphrases generated successfully after 0 attempts.\n"
     ]
    },
    {
     "name": "stderr",
     "output_type": "stream",
     "text": [
      "\n",
      "Attempt 1:   0%|                                          | 0/5 [00:00<?, ?it/s]\u001b[A\n",
      "\n",
      "Retrying generation for current utterance:   0%|          | 0/6 [00:00<?, ?it/s]\u001b[A\u001b[A\n",
      "\n",
      "Retrying generation for current utterance:  17%|▎ | 1/6 [00:38<03:10, 38.19s/it]\u001b[A\u001b[A\n",
      "\n",
      "Retrying generation for current utterance:  33%|▋ | 2/6 [01:19<02:38, 39.73s/it]\u001b[A\u001b[A\n",
      "\n",
      "Retrying generation for current utterance:  50%|█ | 3/6 [01:58<01:58, 39.57s/it]\u001b[A\u001b[A\n",
      "\n",
      "Retrying generation for current utterance:  67%|█▎| 4/6 [02:39<01:20, 40.11s/it]\u001b[A\u001b[A\n",
      "\n",
      "                                                                                \u001b[A\u001b[A\n",
      " 31%|███████████▍                         | 31/100 [2:15:02<4:30:22, 235.11s/it]\u001b[A"
     ]
    },
    {
     "name": "stdout",
     "output_type": "stream",
     "text": [
      "Paraphrases generated successfully after 0 attempts.\n"
     ]
    },
    {
     "name": "stderr",
     "output_type": "stream",
     "text": [
      "\n",
      "Attempt 1:   0%|                                          | 0/5 [00:00<?, ?it/s]\u001b[A\n",
      "\n",
      "Retrying generation for current utterance:   0%|          | 0/6 [00:00<?, ?it/s]\u001b[A\u001b[A\n",
      "\n",
      "Retrying generation for current utterance:  17%|▎ | 1/6 [00:10<00:51, 10.30s/it]\u001b[A\u001b[A\n",
      "\n",
      "Retrying generation for current utterance:  33%|▋ | 2/6 [00:20<00:41, 10.30s/it]\u001b[A\u001b[A\n",
      "\n",
      "                                                                                \u001b[A\u001b[A\n",
      " 32%|███████████▊                         | 32/100 [2:16:07<3:28:30, 183.97s/it]\u001b[A"
     ]
    },
    {
     "name": "stdout",
     "output_type": "stream",
     "text": [
      "Paraphrases generated successfully after 0 attempts.\n"
     ]
    },
    {
     "name": "stderr",
     "output_type": "stream",
     "text": [
      "\n",
      "Attempt 1:   0%|                                          | 0/5 [00:00<?, ?it/s]\u001b[A\n",
      "\n",
      "Retrying generation for current utterance:   0%|          | 0/6 [00:00<?, ?it/s]\u001b[A\u001b[A\n",
      "\n",
      "                                                                                \u001b[A\u001b[A\n",
      " 33%|████████████▏                        | 33/100 [2:16:56<2:40:17, 143.55s/it]\u001b[A"
     ]
    },
    {
     "name": "stdout",
     "output_type": "stream",
     "text": [
      "Paraphrases generated successfully after 0 attempts.\n"
     ]
    },
    {
     "name": "stderr",
     "output_type": "stream",
     "text": [
      "\n",
      "Attempt 1:   0%|                                          | 0/5 [00:00<?, ?it/s]\u001b[A\n",
      "\n",
      "Retrying generation for current utterance:   0%|          | 0/6 [00:00<?, ?it/s]\u001b[A\u001b[A"
     ]
    },
    {
     "name": "stdout",
     "output_type": "stream",
     "text": [
      "Request timed out. Retrying in 3 seconds...\n"
     ]
    },
    {
     "name": "stderr",
     "output_type": "stream",
     "text": [
      "\n",
      "\n",
      "Retrying generation for current utterance:  17%|▏| 1/6 [10:03<50:15, 603.11s/it]\u001b[A\u001b[A\n",
      "\n",
      "Retrying generation for current utterance:  33%|▎| 2/6 [10:41<18:03, 270.79s/it]\u001b[A\u001b[A\n",
      "\n",
      "Retrying generation for current utterance:  50%|▌| 3/6 [11:58<09:07, 182.49s/it]\u001b[A\u001b[A\n",
      "\n",
      "Retrying generation for current utterance:  67%|▋| 4/6 [12:53<04:24, 132.14s/it]\u001b[A\u001b[A\n",
      "\n",
      "Retrying generation for current utterance:  83%|█▋| 5/6 [13:29<01:37, 97.25s/it]\u001b[A\u001b[A\n",
      "\n",
      "Retrying generation for current utterance: 100%|██| 6/6 [14:28<00:00, 84.26s/it]\u001b[A\u001b[A\n",
      "\n",
      "                                                                                \u001b[A\u001b[A"
     ]
    },
    {
     "name": "stdout",
     "output_type": "stream",
     "text": [
      "Attempt 1: The generated list of paraphrases is empty. Retrying...\n"
     ]
    },
    {
     "name": "stderr",
     "output_type": "stream",
     "text": [
      "\n",
      "\n",
      "Retrying generation for current utterance:   0%|          | 0/6 [00:00<?, ?it/s]\u001b[A\u001b[A\n",
      "\n",
      "Retrying generation for current utterance:  17%|▎ | 1/6 [00:42<03:32, 42.40s/it]\u001b[A\u001b[A\n",
      "\n",
      "Retrying generation for current utterance:  33%|▋ | 2/6 [01:49<03:48, 57.03s/it]\u001b[A\u001b[A\n",
      "\n",
      "Retrying generation for current utterance:  50%|█ | 3/6 [03:09<03:22, 67.40s/it]\u001b[A\u001b[A\n",
      "\n",
      "Retrying generation for current utterance:  67%|█▎| 4/6 [03:51<01:54, 57.31s/it]\u001b[A\u001b[A\n",
      "\n",
      "Retrying generation for current utterance:  83%|█▋| 5/6 [04:44<00:56, 56.00s/it]\u001b[A\u001b[A\n",
      "\n",
      "Retrying generation for current utterance: 100%|██| 6/6 [05:31<00:00, 52.76s/it]\u001b[A\u001b[A\n",
      "\n",
      "                                                                                \u001b[A\u001b[A"
     ]
    },
    {
     "name": "stdout",
     "output_type": "stream",
     "text": [
      "Attempt 2: The generated list of paraphrases is empty. Retrying...\n"
     ]
    },
    {
     "name": "stderr",
     "output_type": "stream",
     "text": [
      "\n",
      "\n",
      "Retrying generation for current utterance:   0%|          | 0/6 [00:00<?, ?it/s]\u001b[A\u001b[A\n",
      "\n",
      "                                                                                \u001b[A\u001b[A\n",
      " 34%|████████████▌                        | 34/100 [2:37:37<8:39:53, 472.63s/it]\u001b[A"
     ]
    },
    {
     "name": "stdout",
     "output_type": "stream",
     "text": [
      "Paraphrases generated successfully after 2 attempts.\n"
     ]
    },
    {
     "name": "stderr",
     "output_type": "stream",
     "text": [
      "\n",
      "Attempt 1:   0%|                                          | 0/5 [00:00<?, ?it/s]\u001b[A\n",
      "\n",
      "Retrying generation for current utterance:   0%|          | 0/6 [00:00<?, ?it/s]\u001b[A\u001b[A\n",
      "\n",
      "Retrying generation for current utterance:  17%|▎ | 1/6 [00:32<02:44, 32.96s/it]\u001b[A\u001b[A\n",
      "\n",
      "Retrying generation for current utterance:  33%|▋ | 2/6 [01:34<03:19, 49.79s/it]\u001b[A\u001b[A\n",
      "\n",
      "Retrying generation for current utterance:  50%|█ | 3/6 [01:50<01:42, 34.15s/it]\u001b[A\u001b[A\n",
      "\n",
      "Retrying generation for current utterance:  67%|█▎| 4/6 [02:16<01:01, 30.94s/it]\u001b[A\u001b[A\n",
      "\n",
      "Retrying generation for current utterance:  83%|█▋| 5/6 [02:45<00:30, 30.53s/it]\u001b[A\u001b[A\n",
      "\n",
      "                                                                                \u001b[A\u001b[A\n",
      "Attempt 1:   0%| | 0/5 [03:02<?, ?it/s, status=Retry: Some paraphrases contain n\u001b[A\n",
      "Attempt 1:  20%|▏| 1/5 [03:02<12:11, 182.87s/it, status=Retry: Some paraphrases \u001b[A"
     ]
    },
    {
     "name": "stdout",
     "output_type": "stream",
     "text": [
      "Paraphrases generated successfully after 0 attempts.\n"
     ]
    },
    {
     "name": "stderr",
     "output_type": "stream",
     "text": [
      "\n",
      "\n",
      "Retrying generation for current utterance:   0%|          | 0/6 [00:00<?, ?it/s]\u001b[A\u001b[A\n",
      "\n",
      "Retrying generation for current utterance:  17%|▎ | 1/6 [00:33<02:47, 33.48s/it]\u001b[A\u001b[A"
     ]
    },
    {
     "name": "stdout",
     "output_type": "stream",
     "text": [
      "API server is overloaded or not ready. Retrying in 3 seconds...\n"
     ]
    },
    {
     "name": "stderr",
     "output_type": "stream",
     "text": [
      "\n",
      "\n",
      "Retrying generation for current utterance:  33%|▋ | 2/6 [02:12<04:49, 72.27s/it]\u001b[A\u001b[A\n",
      "\n",
      "                                                                                \u001b[A\u001b[A\n",
      " 35%|████████████▉                        | 35/100 [2:43:34<7:54:27, 437.96s/it]\u001b[A"
     ]
    },
    {
     "name": "stdout",
     "output_type": "stream",
     "text": [
      "Paraphrases generated successfully after 0 attempts.\n"
     ]
    },
    {
     "name": "stderr",
     "output_type": "stream",
     "text": [
      "\n",
      "Attempt 1:   0%|                                          | 0/5 [00:00<?, ?it/s]\u001b[A\n",
      "\n",
      "Retrying generation for current utterance:   0%|          | 0/6 [00:00<?, ?it/s]\u001b[A\u001b[A\n",
      "\n",
      "                                                                                \u001b[A\u001b[A\n",
      " 36%|█████████████▎                       | 36/100 [2:44:04<5:36:37, 315.58s/it]\u001b[A"
     ]
    },
    {
     "name": "stdout",
     "output_type": "stream",
     "text": [
      "Paraphrases generated successfully after 0 attempts.\n"
     ]
    },
    {
     "name": "stderr",
     "output_type": "stream",
     "text": [
      "\n",
      "Attempt 1:   0%|                                          | 0/5 [00:00<?, ?it/s]\u001b[A\n",
      "\n",
      "Retrying generation for current utterance:   0%|          | 0/6 [00:00<?, ?it/s]\u001b[A\u001b[A\n",
      "\n",
      "Retrying generation for current utterance:  17%|▎ | 1/6 [00:32<02:43, 32.64s/it]\u001b[A\u001b[A\n",
      "\n",
      "                                                                                \u001b[A\u001b[A\n",
      " 37%|█████████████▋                       | 37/100 [2:45:16<4:14:50, 242.71s/it]\u001b[A"
     ]
    },
    {
     "name": "stdout",
     "output_type": "stream",
     "text": [
      "Paraphrases generated successfully after 0 attempts.\n"
     ]
    },
    {
     "name": "stderr",
     "output_type": "stream",
     "text": [
      "\n",
      "Attempt 1:   0%|                                          | 0/5 [00:00<?, ?it/s]\u001b[A\n",
      "\n",
      "Retrying generation for current utterance:   0%|          | 0/6 [00:00<?, ?it/s]\u001b[A\u001b[A\n",
      "\n",
      "Retrying generation for current utterance:  17%|▎ | 1/6 [00:30<02:31, 30.27s/it]\u001b[A\u001b[A\n",
      "\n",
      "                                                                                \u001b[A\u001b[A\n",
      "Attempt 1:   0%| | 0/5 [00:58<?, ?it/s, status=Retry: Some paraphrases contain n\u001b[A\n",
      "Attempt 1:  20%|▏| 1/5 [00:58<03:52, 58.03s/it, status=Retry: Some paraphrases c\u001b[A"
     ]
    },
    {
     "name": "stdout",
     "output_type": "stream",
     "text": [
      "Paraphrases generated successfully after 0 attempts.\n"
     ]
    },
    {
     "name": "stderr",
     "output_type": "stream",
     "text": [
      "\n",
      "\n",
      "Retrying generation for current utterance:   0%|          | 0/6 [00:00<?, ?it/s]\u001b[A\u001b[A\n",
      "\n",
      "                                                                                \u001b[A\u001b[A\n",
      " 38%|██████████████                       | 38/100 [2:46:40<3:21:22, 194.88s/it]\u001b[A"
     ]
    },
    {
     "name": "stdout",
     "output_type": "stream",
     "text": [
      "Paraphrases generated successfully after 0 attempts.\n"
     ]
    },
    {
     "name": "stderr",
     "output_type": "stream",
     "text": [
      "\n",
      "Attempt 1:   0%|                                          | 0/5 [00:00<?, ?it/s]\u001b[A\n",
      "\n",
      "Retrying generation for current utterance:   0%|          | 0/6 [00:00<?, ?it/s]\u001b[A\u001b[A\n",
      "\n",
      "                                                                                \u001b[A\u001b[A\n",
      " 39%|██████████████▍                      | 39/100 [2:47:02<2:25:35, 143.20s/it]\u001b[A"
     ]
    },
    {
     "name": "stdout",
     "output_type": "stream",
     "text": [
      "Paraphrases generated successfully after 0 attempts.\n"
     ]
    },
    {
     "name": "stderr",
     "output_type": "stream",
     "text": [
      "\n",
      "Attempt 1:   0%|                                          | 0/5 [00:00<?, ?it/s]\u001b[A\n",
      "\n",
      "Retrying generation for current utterance:   0%|          | 0/6 [00:00<?, ?it/s]\u001b[A\u001b[A\n",
      "\n",
      "Retrying generation for current utterance:  17%|▎ | 1/6 [00:19<01:38, 19.67s/it]\u001b[A\u001b[A\n",
      "\n",
      "                                                                                \u001b[A\u001b[A\n",
      " 40%|██████████████▊                      | 40/100 [2:47:46<1:53:28, 113.48s/it]\u001b[A"
     ]
    },
    {
     "name": "stdout",
     "output_type": "stream",
     "text": [
      "Paraphrases generated successfully after 0 attempts.\n"
     ]
    },
    {
     "name": "stderr",
     "output_type": "stream",
     "text": [
      "\n",
      "Attempt 1:   0%|                                          | 0/5 [00:00<?, ?it/s]\u001b[A\n",
      "\n",
      "Retrying generation for current utterance:   0%|          | 0/6 [00:00<?, ?it/s]\u001b[A\u001b[A\n",
      "\n",
      "Retrying generation for current utterance:  17%|▎ | 1/6 [00:38<03:12, 38.42s/it]\u001b[A\u001b[A\n",
      "\n",
      "Retrying generation for current utterance:  33%|▋ | 2/6 [01:17<02:34, 38.65s/it]\u001b[A\u001b[A\n",
      "\n",
      "Retrying generation for current utterance:  50%|█ | 3/6 [01:57<01:57, 39.24s/it]\u001b[A\u001b[A\n",
      "\n",
      "Retrying generation for current utterance:  67%|█▎| 4/6 [02:36<01:18, 39.24s/it]\u001b[A\u001b[A\n",
      "\n",
      "Retrying generation for current utterance:  83%|█▋| 5/6 [03:00<00:33, 33.61s/it]\u001b[A\u001b[A\n",
      "\n",
      "Retrying generation for current utterance: 100%|██| 6/6 [03:29<00:00, 32.30s/it]\u001b[A\u001b[A\n",
      "\n",
      "                                                                                \u001b[A\u001b[A"
     ]
    },
    {
     "name": "stdout",
     "output_type": "stream",
     "text": [
      "Attempt 1: The generated list of paraphrases is empty. Retrying...\n"
     ]
    },
    {
     "name": "stderr",
     "output_type": "stream",
     "text": [
      "\n",
      "\n",
      "Retrying generation for current utterance:   0%|          | 0/6 [00:00<?, ?it/s]\u001b[A\u001b[A\n",
      "\n",
      "Retrying generation for current utterance:  17%|▎ | 1/6 [00:30<02:33, 30.63s/it]\u001b[A\u001b[A\n",
      "\n",
      "Retrying generation for current utterance:  33%|▋ | 2/6 [00:44<01:23, 20.76s/it]\u001b[A\u001b[A\n",
      "\n",
      "                                                                                \u001b[A\u001b[A\n",
      " 41%|███████████████▏                     | 41/100 [2:52:48<2:47:04, 169.91s/it]\u001b[A"
     ]
    },
    {
     "name": "stdout",
     "output_type": "stream",
     "text": [
      "Paraphrases generated successfully after 1 attempts.\n"
     ]
    },
    {
     "name": "stderr",
     "output_type": "stream",
     "text": [
      "\n",
      "Attempt 1:   0%|                                          | 0/5 [00:00<?, ?it/s]\u001b[A\n",
      "\n",
      "Retrying generation for current utterance:   0%|          | 0/6 [00:00<?, ?it/s]\u001b[A\u001b[A\n",
      "\n",
      "Retrying generation for current utterance:  17%|▎ | 1/6 [00:27<02:17, 27.44s/it]\u001b[A\u001b[A\n",
      "\n",
      "Retrying generation for current utterance:  33%|▋ | 2/6 [00:46<01:30, 22.68s/it]\u001b[A\u001b[A\n",
      "\n",
      "Retrying generation for current utterance:  50%|█ | 3/6 [01:17<01:19, 26.54s/it]\u001b[A\u001b[A\n",
      "\n",
      "Retrying generation for current utterance:  67%|█▎| 4/6 [01:44<00:53, 26.61s/it]\u001b[A\u001b[A\n",
      "\n",
      "                                                                                \u001b[A\u001b[A\n",
      "Attempt 1:   0%| | 0/5 [02:05<?, ?it/s, status=Retry: Some paraphrases contain n\u001b[A\n",
      "Attempt 1:  20%|▏| 1/5 [02:05<08:21, 125.50s/it, status=Retry: Some paraphrases \u001b[A"
     ]
    },
    {
     "name": "stdout",
     "output_type": "stream",
     "text": [
      "Paraphrases generated successfully after 0 attempts.\n"
     ]
    },
    {
     "name": "stderr",
     "output_type": "stream",
     "text": [
      "\n",
      "\n",
      "Retrying generation for current utterance:   0%|          | 0/6 [00:00<?, ?it/s]\u001b[A\u001b[A\n",
      "\n",
      "                                                                                \u001b[A\u001b[A\n",
      " 42%|███████████████▌                     | 42/100 [2:55:24<2:40:15, 165.79s/it]\u001b[A"
     ]
    },
    {
     "name": "stdout",
     "output_type": "stream",
     "text": [
      "Paraphrases generated successfully after 0 attempts.\n"
     ]
    },
    {
     "name": "stderr",
     "output_type": "stream",
     "text": [
      "\n",
      "Attempt 1:   0%|                                          | 0/5 [00:00<?, ?it/s]\u001b[A\n",
      "\n",
      "Retrying generation for current utterance:   0%|          | 0/6 [00:00<?, ?it/s]\u001b[A\u001b[A\n",
      "\n",
      "Retrying generation for current utterance:  17%|▎ | 1/6 [00:31<02:37, 31.52s/it]\u001b[A\u001b[A\n",
      "\n",
      "Retrying generation for current utterance:  33%|▋ | 2/6 [01:36<03:24, 51.07s/it]\u001b[A\u001b[A"
     ]
    },
    {
     "name": "stdout",
     "output_type": "stream",
     "text": [
      "Request timed out. Retrying in 3 seconds...\n"
     ]
    },
    {
     "name": "stderr",
     "output_type": "stream",
     "text": [
      "\n",
      "\n",
      "Retrying generation for current utterance:  50%|▌| 3/6 [11:39<15:09, 303.18s/it]\u001b[A\u001b[A\n",
      "\n",
      "Retrying generation for current utterance:  67%|▋| 4/6 [12:17<06:36, 198.41s/it]\u001b[A\u001b[A\n",
      "\n",
      "                                                                                \u001b[A\u001b[A\n",
      "Attempt 1:   0%| | 0/5 [12:37<?, ?it/s, status=Retry: Some paraphrases contain n\u001b[A\n",
      "Attempt 1:  20%|▏| 1/5 [12:37<50:28, 757.22s/it, status=Retry: Some paraphrases \u001b[A"
     ]
    },
    {
     "name": "stdout",
     "output_type": "stream",
     "text": [
      "Paraphrases generated successfully after 0 attempts.\n"
     ]
    },
    {
     "name": "stderr",
     "output_type": "stream",
     "text": [
      "\n",
      "\n",
      "Retrying generation for current utterance:   0%|          | 0/6 [00:00<?, ?it/s]\u001b[A\u001b[A\n",
      "\n",
      "Retrying generation for current utterance:  17%|▎ | 1/6 [00:31<02:38, 31.60s/it]\u001b[A\u001b[A\n",
      "\n",
      "Retrying generation for current utterance:  33%|▋ | 2/6 [00:56<01:50, 27.74s/it]\u001b[A\u001b[A\n",
      "\n",
      "Retrying generation for current utterance:  50%|█ | 3/6 [01:52<02:01, 40.66s/it]\u001b[A\u001b[A\n",
      "\n",
      "                                                                                \u001b[A\u001b[A\n",
      " 43%|███████████████▉                     | 43/100 [3:10:22<6:06:09, 385.44s/it]\u001b[A"
     ]
    },
    {
     "name": "stdout",
     "output_type": "stream",
     "text": [
      "Paraphrases generated successfully after 0 attempts.\n"
     ]
    },
    {
     "name": "stderr",
     "output_type": "stream",
     "text": [
      "\n",
      "Attempt 1:   0%|                                          | 0/5 [00:00<?, ?it/s]\u001b[A\n",
      "\n",
      "Retrying generation for current utterance:   0%|          | 0/6 [00:00<?, ?it/s]\u001b[A\u001b[A\n",
      "\n",
      "Retrying generation for current utterance:  17%|▎ | 1/6 [00:33<02:46, 33.38s/it]\u001b[A\u001b[A\n",
      "\n",
      "Retrying generation for current utterance:  33%|▋ | 2/6 [00:55<01:48, 27.03s/it]\u001b[A\u001b[A\n",
      "\n",
      "Retrying generation for current utterance:  50%|█ | 3/6 [01:15<01:11, 23.81s/it]\u001b[A\u001b[A\n",
      "\n",
      "Retrying generation for current utterance:  67%|█▎| 4/6 [01:28<00:38, 19.44s/it]\u001b[A\u001b[A\n",
      "\n",
      "                                                                                \u001b[A\u001b[A\n",
      "Attempt 1:   0%| | 0/5 [01:45<?, ?it/s, status=Retry: Some paraphrases contain n\u001b[A\n",
      "Attempt 1:  20%|▏| 1/5 [01:45<07:00, 105.14s/it, status=Retry: Some paraphrases \u001b[A"
     ]
    },
    {
     "name": "stdout",
     "output_type": "stream",
     "text": [
      "Paraphrases generated successfully after 0 attempts.\n"
     ]
    },
    {
     "name": "stderr",
     "output_type": "stream",
     "text": [
      "\n",
      "\n",
      "Retrying generation for current utterance:   0%|          | 0/6 [00:00<?, ?it/s]\u001b[A\u001b[A\n",
      "\n",
      "Retrying generation for current utterance:  17%|▎ | 1/6 [00:11<00:55, 11.18s/it]\u001b[A\u001b[A\n",
      "\n",
      "Retrying generation for current utterance:  33%|▋ | 2/6 [00:30<01:02, 15.74s/it]\u001b[A\u001b[A\n",
      "\n",
      "Retrying generation for current utterance:  50%|█ | 3/6 [01:01<01:09, 23.01s/it]\u001b[A\u001b[A\n",
      "\n",
      "Retrying generation for current utterance:  67%|█▎| 4/6 [01:46<01:03, 31.67s/it]\u001b[A\u001b[A\n",
      "\n",
      "                                                                                \u001b[A\u001b[A\n",
      " 44%|████████████████▎                    | 44/100 [3:14:10<5:15:36, 338.15s/it]\u001b[A"
     ]
    },
    {
     "name": "stdout",
     "output_type": "stream",
     "text": [
      "Paraphrases generated successfully after 0 attempts.\n"
     ]
    },
    {
     "name": "stderr",
     "output_type": "stream",
     "text": [
      "\n",
      "Attempt 1:   0%|                                          | 0/5 [00:00<?, ?it/s]\u001b[A\n",
      "\n",
      "Retrying generation for current utterance:   0%|          | 0/6 [00:00<?, ?it/s]\u001b[A\u001b[A\n",
      "\n",
      "                                                                                \u001b[A\u001b[A\n",
      " 45%|████████████████▋                    | 45/100 [3:14:36<3:44:16, 244.66s/it]\u001b[A"
     ]
    },
    {
     "name": "stdout",
     "output_type": "stream",
     "text": [
      "Paraphrases generated successfully after 0 attempts.\n"
     ]
    },
    {
     "name": "stderr",
     "output_type": "stream",
     "text": [
      "\n",
      "Attempt 1:   0%|                                          | 0/5 [00:00<?, ?it/s]\u001b[A\n",
      "\n",
      "Retrying generation for current utterance:   0%|          | 0/6 [00:00<?, ?it/s]\u001b[A\u001b[A\n",
      "\n",
      "Retrying generation for current utterance:  17%|▎ | 1/6 [00:47<03:58, 47.78s/it]\u001b[A\u001b[A\n",
      "\n",
      "                                                                                \u001b[A\u001b[A\n",
      " 46%|█████████████████                    | 46/100 [3:16:05<2:58:04, 197.87s/it]\u001b[A"
     ]
    },
    {
     "name": "stdout",
     "output_type": "stream",
     "text": [
      "Paraphrases generated successfully after 0 attempts.\n"
     ]
    },
    {
     "name": "stderr",
     "output_type": "stream",
     "text": [
      "\n",
      "Attempt 1:   0%|                                          | 0/5 [00:00<?, ?it/s]\u001b[A\n",
      "\n",
      "Retrying generation for current utterance:   0%|          | 0/6 [00:00<?, ?it/s]\u001b[A\u001b[A\n",
      "\n",
      "Retrying generation for current utterance:  17%|▎ | 1/6 [00:29<02:28, 29.69s/it]\u001b[A\u001b[A\n",
      "\n",
      "                                                                                \u001b[A\u001b[A\n",
      "Attempt 1:   0%| | 0/5 [00:52<?, ?it/s, status=Retry: Some paraphrases contain n\u001b[A\n",
      "Attempt 1:  20%|▏| 1/5 [00:52<03:28, 52.23s/it, status=Retry: Some paraphrases c\u001b[A"
     ]
    },
    {
     "name": "stdout",
     "output_type": "stream",
     "text": [
      "Paraphrases generated successfully after 0 attempts.\n"
     ]
    },
    {
     "name": "stderr",
     "output_type": "stream",
     "text": [
      "\n",
      "\n",
      "Retrying generation for current utterance:   0%|          | 0/6 [00:00<?, ?it/s]\u001b[A\u001b[A\n",
      "\n",
      "Retrying generation for current utterance:  17%|▎ | 1/6 [00:11<00:57, 11.41s/it]\u001b[A\u001b[A\n",
      "\n",
      "                                                                                \u001b[A\u001b[A\n",
      " 47%|█████████████████▍                   | 47/100 [3:17:35<2:26:02, 165.34s/it]\u001b[A"
     ]
    },
    {
     "name": "stdout",
     "output_type": "stream",
     "text": [
      "Paraphrases generated successfully after 0 attempts.\n"
     ]
    },
    {
     "name": "stderr",
     "output_type": "stream",
     "text": [
      "\n",
      "Attempt 1:   0%|                                          | 0/5 [00:00<?, ?it/s]\u001b[A\n",
      "\n",
      "Retrying generation for current utterance:   0%|          | 0/6 [00:00<?, ?it/s]\u001b[A\u001b[A\n",
      "\n",
      "Retrying generation for current utterance:  17%|▎ | 1/6 [00:31<02:38, 31.64s/it]\u001b[A\u001b[A\n",
      "\n",
      "                                                                                \u001b[A\u001b[A\n",
      " 48%|█████████████████▊                   | 48/100 [3:18:44<1:58:22, 136.58s/it]\u001b[A"
     ]
    },
    {
     "name": "stdout",
     "output_type": "stream",
     "text": [
      "Paraphrases generated successfully after 0 attempts.\n"
     ]
    },
    {
     "name": "stderr",
     "output_type": "stream",
     "text": [
      "\n",
      "Attempt 1:   0%|                                          | 0/5 [00:00<?, ?it/s]\u001b[A\n",
      "\n",
      "Retrying generation for current utterance:   0%|          | 0/6 [00:00<?, ?it/s]\u001b[A\u001b[A\n",
      "\n",
      "Retrying generation for current utterance:  17%|▎ | 1/6 [00:11<00:59, 11.82s/it]\u001b[A\u001b[A\n",
      "\n",
      "Retrying generation for current utterance:  33%|▋ | 2/6 [00:27<00:56, 14.14s/it]\u001b[A\u001b[A\n",
      "\n",
      "Retrying generation for current utterance:  50%|█ | 3/6 [00:42<00:44, 14.70s/it]\u001b[A\u001b[A\n",
      "\n",
      "Retrying generation for current utterance:  67%|█▎| 4/6 [01:00<00:31, 15.77s/it]\u001b[A\u001b[A\n",
      "\n",
      "Retrying generation for current utterance:  83%|█▋| 5/6 [01:46<00:26, 26.83s/it]\u001b[A\u001b[A\n",
      "\n",
      "Retrying generation for current utterance: 100%|██| 6/6 [02:07<00:00, 24.70s/it]\u001b[A\u001b[A\n",
      "\n",
      "                                                                                \u001b[A\u001b[A"
     ]
    },
    {
     "name": "stdout",
     "output_type": "stream",
     "text": [
      "Attempt 1: The generated list of paraphrases is empty. Retrying...\n"
     ]
    },
    {
     "name": "stderr",
     "output_type": "stream",
     "text": [
      "\n",
      "\n",
      "Retrying generation for current utterance:   0%|          | 0/6 [00:00<?, ?it/s]\u001b[A\u001b[A\n",
      "\n",
      "Retrying generation for current utterance:  17%|▎ | 1/6 [00:32<02:44, 32.93s/it]\u001b[A\u001b[A\n",
      "\n",
      "Retrying generation for current utterance:  33%|▋ | 2/6 [01:09<02:21, 35.32s/it]\u001b[A\u001b[A"
     ]
    },
    {
     "name": "stdout",
     "output_type": "stream",
     "text": [
      "API server is overloaded or not ready. Retrying in 3 seconds...\n"
     ]
    },
    {
     "name": "stderr",
     "output_type": "stream",
     "text": [
      "\n",
      "\n",
      "Retrying generation for current utterance:  50%|█ | 3/6 [01:49<01:51, 37.32s/it]\u001b[A\u001b[A\n",
      "\n",
      "Retrying generation for current utterance:  67%|█▎| 4/6 [02:37<01:22, 41.43s/it]\u001b[A\u001b[A\n",
      "\n",
      "                                                                                \u001b[A\u001b[A\n",
      "Attempt 1:   0%| | 0/5 [05:04<?, ?it/s, status=Retry: Some paraphrases contain n\u001b[A\n",
      "Attempt 1:  20%|▏| 1/5 [05:04<20:17, 304.26s/it, status=Retry: Some paraphrases \u001b[A"
     ]
    },
    {
     "name": "stdout",
     "output_type": "stream",
     "text": [
      "Paraphrases generated successfully after 1 attempts.\n"
     ]
    },
    {
     "name": "stderr",
     "output_type": "stream",
     "text": [
      "\n",
      "\n",
      "Retrying generation for current utterance:   0%|          | 0/6 [00:00<?, ?it/s]\u001b[A\u001b[A"
     ]
    },
    {
     "name": "stdout",
     "output_type": "stream",
     "text": [
      "Request timed out. Retrying in 3 seconds...\n"
     ]
    },
    {
     "name": "stderr",
     "output_type": "stream",
     "text": [
      "\n",
      "\n",
      "Retrying generation for current utterance:  17%|▏| 1/6 [10:03<50:15, 603.18s/it]\u001b[A\u001b[A\n",
      "\n",
      "                                                                                \u001b[A\u001b[A\n",
      " 49%|██████████████████▏                  | 49/100 [3:34:15<5:18:34, 374.80s/it]\u001b[A"
     ]
    },
    {
     "name": "stdout",
     "output_type": "stream",
     "text": [
      "Paraphrases generated successfully after 0 attempts.\n"
     ]
    },
    {
     "name": "stderr",
     "output_type": "stream",
     "text": [
      "\n",
      "Attempt 1:   0%|                                          | 0/5 [00:00<?, ?it/s]\u001b[A\n",
      "\n",
      "Retrying generation for current utterance:   0%|          | 0/6 [00:00<?, ?it/s]\u001b[A\u001b[A\n",
      "\n",
      "Retrying generation for current utterance:  17%|▎ | 1/6 [00:39<03:18, 39.73s/it]\u001b[A\u001b[A\n",
      "\n",
      "                                                                                \u001b[A\u001b[A\n",
      " 50%|██████████████████▌                  | 50/100 [3:35:40<3:59:56, 287.92s/it]\u001b[A"
     ]
    },
    {
     "name": "stdout",
     "output_type": "stream",
     "text": [
      "Paraphrases generated successfully after 0 attempts.\n"
     ]
    },
    {
     "name": "stderr",
     "output_type": "stream",
     "text": [
      "\n",
      "Attempt 1:   0%|                                          | 0/5 [00:00<?, ?it/s]\u001b[A\n",
      "\n",
      "Retrying generation for current utterance:   0%|          | 0/6 [00:00<?, ?it/s]\u001b[A\u001b[A\n",
      "\n",
      "Retrying generation for current utterance:  17%|▎ | 1/6 [00:55<04:35, 55.10s/it]\u001b[A\u001b[A\n",
      "\n",
      "Retrying generation for current utterance:  33%|▋ | 2/6 [01:24<02:39, 39.79s/it]\u001b[A\u001b[A\n",
      "\n",
      "Retrying generation for current utterance:  50%|█ | 3/6 [01:57<01:50, 36.82s/it]\u001b[A\u001b[A\n",
      "\n",
      "Retrying generation for current utterance:  67%|█▎| 4/6 [02:17<01:00, 30.33s/it]\u001b[A\u001b[A\n",
      "\n",
      "Retrying generation for current utterance:  83%|█▋| 5/6 [02:56<00:33, 33.46s/it]\u001b[A\u001b[A\n",
      "\n",
      "Retrying generation for current utterance: 100%|██| 6/6 [03:26<00:00, 32.08s/it]\u001b[A\u001b[A\n",
      "\n",
      "                                                                                \u001b[A\u001b[A"
     ]
    },
    {
     "name": "stdout",
     "output_type": "stream",
     "text": [
      "Attempt 1: The generated list of paraphrases is empty. Retrying...\n"
     ]
    },
    {
     "name": "stderr",
     "output_type": "stream",
     "text": [
      "\n",
      "\n",
      "Retrying generation for current utterance:   0%|          | 0/6 [00:00<?, ?it/s]\u001b[A\u001b[A\n",
      "\n",
      "                                                                                \u001b[A\u001b[A\n",
      "Attempt 1:   0%| | 0/5 [04:27<?, ?it/s, status=Retry: Some paraphrases contain n\u001b[A\n",
      "Attempt 1:  20%|▏| 1/5 [04:27<17:50, 267.56s/it, status=Retry: Some paraphrases \u001b[A"
     ]
    },
    {
     "name": "stdout",
     "output_type": "stream",
     "text": [
      "Paraphrases generated successfully after 1 attempts.\n"
     ]
    },
    {
     "name": "stderr",
     "output_type": "stream",
     "text": [
      "\n",
      "\n",
      "Retrying generation for current utterance:   0%|          | 0/6 [00:00<?, ?it/s]\u001b[A\u001b[A\n",
      "\n",
      "Retrying generation for current utterance:  17%|▎ | 1/6 [00:21<01:48, 21.71s/it]\u001b[A\u001b[A\n",
      "\n",
      "Retrying generation for current utterance:  33%|▋ | 2/6 [00:57<02:01, 30.26s/it]\u001b[A\u001b[A\n",
      "\n",
      "                                                                                \u001b[A\u001b[A\n",
      " 51%|██████████████████▊                  | 51/100 [3:41:38<4:12:21, 309.00s/it]\u001b[A"
     ]
    },
    {
     "name": "stdout",
     "output_type": "stream",
     "text": [
      "Paraphrases generated successfully after 0 attempts.\n"
     ]
    },
    {
     "name": "stderr",
     "output_type": "stream",
     "text": [
      "\n",
      "Attempt 1:   0%|                                          | 0/5 [00:00<?, ?it/s]\u001b[A\n",
      "\n",
      "Retrying generation for current utterance:   0%|          | 0/6 [00:00<?, ?it/s]\u001b[A\u001b[A\n",
      "\n",
      "Retrying generation for current utterance:  17%|▎ | 1/6 [00:32<02:43, 32.67s/it]\u001b[A\u001b[A\n",
      "\n",
      "Retrying generation for current utterance:  33%|▋ | 2/6 [00:58<01:54, 28.57s/it]\u001b[A\u001b[A\n",
      "\n",
      "Retrying generation for current utterance:  50%|█ | 3/6 [01:26<01:25, 28.48s/it]\u001b[A\u001b[A\n",
      "\n",
      "Retrying generation for current utterance:  67%|█▎| 4/6 [01:55<00:57, 28.59s/it]\u001b[A\u001b[A\n",
      "\n",
      "                                                                                \u001b[A\u001b[A\n",
      " 52%|███████████████████▏                 | 52/100 [3:44:01<3:27:19, 259.16s/it]\u001b[A"
     ]
    },
    {
     "name": "stdout",
     "output_type": "stream",
     "text": [
      "Paraphrases generated successfully after 0 attempts.\n"
     ]
    },
    {
     "name": "stderr",
     "output_type": "stream",
     "text": [
      "\n",
      "Attempt 1:   0%|                                          | 0/5 [00:00<?, ?it/s]\u001b[A\n",
      "\n",
      "Retrying generation for current utterance:   0%|          | 0/6 [00:00<?, ?it/s]\u001b[A\u001b[A\n",
      "\n",
      "Retrying generation for current utterance:  17%|▎ | 1/6 [00:31<02:35, 31.17s/it]\u001b[A\u001b[A\n",
      "\n",
      "Retrying generation for current utterance:  33%|▋ | 2/6 [00:57<01:52, 28.17s/it]\u001b[A\u001b[A\n",
      "\n",
      "                                                                                \u001b[A\u001b[A\n",
      "Attempt 1:   0%| | 0/5 [01:13<?, ?it/s, status=Retry: Some paraphrases contain n\u001b[A\n",
      "Attempt 1:  20%|▏| 1/5 [01:13<04:55, 73.91s/it, status=Retry: Some paraphrases c\u001b[A"
     ]
    },
    {
     "name": "stdout",
     "output_type": "stream",
     "text": [
      "Paraphrases generated successfully after 0 attempts.\n"
     ]
    },
    {
     "name": "stderr",
     "output_type": "stream",
     "text": [
      "\n",
      "\n",
      "Retrying generation for current utterance:   0%|          | 0/6 [00:00<?, ?it/s]\u001b[A\u001b[A\n",
      "\n",
      "Retrying generation for current utterance:  17%|▎ | 1/6 [00:27<02:18, 27.65s/it]\u001b[A\u001b[A\n",
      "\n",
      "                                                                                \u001b[A\u001b[A\n",
      " 53%|███████████████████▌                 | 53/100 [3:46:02<2:50:32, 217.72s/it]\u001b[A"
     ]
    },
    {
     "name": "stdout",
     "output_type": "stream",
     "text": [
      "Paraphrases generated successfully after 0 attempts.\n"
     ]
    },
    {
     "name": "stderr",
     "output_type": "stream",
     "text": [
      "\n",
      "Attempt 1:   0%|                                          | 0/5 [00:00<?, ?it/s]\u001b[A\n",
      "\n",
      "Retrying generation for current utterance:   0%|          | 0/6 [00:00<?, ?it/s]\u001b[A\u001b[A"
     ]
    },
    {
     "name": "stdout",
     "output_type": "stream",
     "text": [
      "API server is overloaded or not ready. Retrying in 3 seconds...\n"
     ]
    },
    {
     "name": "stderr",
     "output_type": "stream",
     "text": [
      "\n",
      "\n",
      "Retrying generation for current utterance:  17%|▎ | 1/6 [00:35<02:59, 35.94s/it]\u001b[A\u001b[A\n",
      "\n",
      "Retrying generation for current utterance:  33%|▋ | 2/6 [00:59<01:54, 28.65s/it]\u001b[A\u001b[A\n",
      "\n",
      "Retrying generation for current utterance:  50%|█ | 3/6 [02:01<02:11, 43.72s/it]\u001b[A\u001b[A\n",
      "\n",
      "                                                                                \u001b[A\u001b[A\n",
      " 54%|███████████████████▉                 | 54/100 [3:48:43<2:33:50, 200.67s/it]\u001b[A"
     ]
    },
    {
     "name": "stdout",
     "output_type": "stream",
     "text": [
      "Paraphrases generated successfully after 0 attempts.\n"
     ]
    },
    {
     "name": "stderr",
     "output_type": "stream",
     "text": [
      "\n",
      "Attempt 1:   0%|                                          | 0/5 [00:00<?, ?it/s]\u001b[A\n",
      "\n",
      "Retrying generation for current utterance:   0%|          | 0/6 [00:00<?, ?it/s]\u001b[A\u001b[A\n",
      "\n",
      "Retrying generation for current utterance:  17%|▎ | 1/6 [00:15<01:18, 15.78s/it]\u001b[A\u001b[A\n",
      "\n",
      "Retrying generation for current utterance:  33%|▋ | 2/6 [01:09<02:32, 38.06s/it]\u001b[A\u001b[A\n",
      "\n",
      "                                                                                \u001b[A\u001b[A\n",
      " 55%|████████████████████▎                | 55/100 [3:50:15<2:06:09, 168.21s/it]\u001b[A"
     ]
    },
    {
     "name": "stdout",
     "output_type": "stream",
     "text": [
      "Paraphrases generated successfully after 0 attempts.\n"
     ]
    },
    {
     "name": "stderr",
     "output_type": "stream",
     "text": [
      "\n",
      "Attempt 1:   0%|                                          | 0/5 [00:00<?, ?it/s]\u001b[A\n",
      "\n",
      "Retrying generation for current utterance:   0%|          | 0/6 [00:00<?, ?it/s]\u001b[A\u001b[A\n",
      "\n",
      "                                                                                \u001b[A\u001b[A\n",
      " 56%|████████████████████▋                | 56/100 [3:50:44<1:32:33, 126.22s/it]\u001b[A"
     ]
    },
    {
     "name": "stdout",
     "output_type": "stream",
     "text": [
      "Paraphrases generated successfully after 0 attempts.\n"
     ]
    },
    {
     "name": "stderr",
     "output_type": "stream",
     "text": [
      "\n",
      "Attempt 1:   0%|                                          | 0/5 [00:00<?, ?it/s]\u001b[A\n",
      "\n",
      "Retrying generation for current utterance:   0%|          | 0/6 [00:00<?, ?it/s]\u001b[A\u001b[A\n",
      "\n",
      "Retrying generation for current utterance:  17%|▎ | 1/6 [00:21<01:45, 21.10s/it]\u001b[A\u001b[A\n",
      "\n",
      "Retrying generation for current utterance:  33%|▋ | 2/6 [01:07<02:23, 35.85s/it]\u001b[A\u001b[A\n",
      "\n",
      "Retrying generation for current utterance:  50%|█ | 3/6 [01:17<01:13, 24.34s/it]\u001b[A\u001b[A\n",
      "\n",
      "                                                                                \u001b[A\u001b[A\n",
      " 57%|█████████████████████                | 57/100 [3:52:39<1:28:13, 123.10s/it]\u001b[A"
     ]
    },
    {
     "name": "stdout",
     "output_type": "stream",
     "text": [
      "Paraphrases generated successfully after 0 attempts.\n"
     ]
    },
    {
     "name": "stderr",
     "output_type": "stream",
     "text": [
      "\n",
      "Attempt 1:   0%|                                          | 0/5 [00:00<?, ?it/s]\u001b[A\n",
      "\n",
      "Retrying generation for current utterance:   0%|          | 0/6 [00:00<?, ?it/s]\u001b[A\u001b[A\n",
      "\n",
      "                                                                                \u001b[A\u001b[A\n",
      " 58%|██████████████████████                | 58/100 [3:53:25<1:09:53, 99.84s/it]\u001b[A"
     ]
    },
    {
     "name": "stdout",
     "output_type": "stream",
     "text": [
      "Paraphrases generated successfully after 0 attempts.\n"
     ]
    },
    {
     "name": "stderr",
     "output_type": "stream",
     "text": [
      "\n",
      "Attempt 1:   0%|                                          | 0/5 [00:00<?, ?it/s]\u001b[A\n",
      "\n",
      "Retrying generation for current utterance:   0%|          | 0/6 [00:00<?, ?it/s]\u001b[A\u001b[A\n",
      "\n",
      "Retrying generation for current utterance:  17%|▎ | 1/6 [00:56<04:44, 56.93s/it]\u001b[A\u001b[A"
     ]
    },
    {
     "name": "stdout",
     "output_type": "stream",
     "text": [
      "API server is overloaded or not ready. Retrying in 3 seconds...\n"
     ]
    },
    {
     "name": "stderr",
     "output_type": "stream",
     "text": [
      "\n",
      "\n",
      "Retrying generation for current utterance:  33%|▋ | 2/6 [01:34<03:00, 45.25s/it]\u001b[A\u001b[A\n",
      "\n",
      "Retrying generation for current utterance:  50%|█ | 3/6 [02:21<02:19, 46.40s/it]\u001b[A\u001b[A\n",
      "\n",
      "Retrying generation for current utterance:  67%|█▎| 4/6 [02:41<01:12, 36.03s/it]\u001b[A\u001b[A"
     ]
    },
    {
     "name": "stdout",
     "output_type": "stream",
     "text": [
      "API server is overloaded or not ready. Retrying in 3 seconds...\n"
     ]
    },
    {
     "name": "stderr",
     "output_type": "stream",
     "text": [
      "\n",
      "\n",
      "Retrying generation for current utterance:  83%|█▋| 5/6 [04:01<00:51, 51.76s/it]\u001b[A\u001b[A\n",
      "\n",
      "                                                                                \u001b[A\u001b[A\n",
      " 59%|█████████████████████▊               | 59/100 [3:57:57<1:43:34, 151.57s/it]\u001b[A"
     ]
    },
    {
     "name": "stdout",
     "output_type": "stream",
     "text": [
      "Paraphrases generated successfully after 0 attempts.\n"
     ]
    },
    {
     "name": "stderr",
     "output_type": "stream",
     "text": [
      "\n",
      "Attempt 1:   0%|                                          | 0/5 [00:00<?, ?it/s]\u001b[A\n",
      "\n",
      "Retrying generation for current utterance:   0%|          | 0/6 [00:00<?, ?it/s]\u001b[A\u001b[A\n",
      "\n",
      "Retrying generation for current utterance:  17%|▎ | 1/6 [00:25<02:06, 25.39s/it]\u001b[A\u001b[A\n",
      "\n",
      "Retrying generation for current utterance:  33%|▋ | 2/6 [01:13<02:35, 38.79s/it]\u001b[A\u001b[A\n",
      "\n",
      "Retrying generation for current utterance:  50%|█ | 3/6 [01:59<02:06, 42.13s/it]\u001b[A\u001b[A\n",
      "\n",
      "Retrying generation for current utterance:  67%|█▎| 4/6 [02:18<01:05, 32.95s/it]\u001b[A\u001b[A\n",
      "\n",
      "Retrying generation for current utterance:  83%|█▋| 5/6 [02:48<00:31, 31.89s/it]\u001b[A\u001b[A"
     ]
    },
    {
     "name": "stdout",
     "output_type": "stream",
     "text": [
      "API server is overloaded or not ready. Retrying in 3 seconds...\n"
     ]
    },
    {
     "name": "stderr",
     "output_type": "stream",
     "text": [
      "\n",
      "\n",
      "Retrying generation for current utterance: 100%|██| 6/6 [03:31<00:00, 35.49s/it]\u001b[A\u001b[A\n",
      "\n",
      "                                                                                \u001b[A\u001b[A"
     ]
    },
    {
     "name": "stdout",
     "output_type": "stream",
     "text": [
      "Attempt 1: The generated list of paraphrases is empty. Retrying...\n"
     ]
    },
    {
     "name": "stderr",
     "output_type": "stream",
     "text": [
      "\n",
      "\n",
      "Retrying generation for current utterance:   0%|          | 0/6 [00:00<?, ?it/s]\u001b[A\u001b[A\n",
      "\n",
      "                                                                                \u001b[A\u001b[A\n",
      " 60%|██████████████████████▏              | 60/100 [4:02:06<2:00:30, 180.75s/it]\u001b[A"
     ]
    },
    {
     "name": "stdout",
     "output_type": "stream",
     "text": [
      "Paraphrases generated successfully after 1 attempts.\n"
     ]
    },
    {
     "name": "stderr",
     "output_type": "stream",
     "text": [
      "\n",
      "Attempt 1:   0%|                                          | 0/5 [00:00<?, ?it/s]\u001b[A\n",
      "\n",
      "Retrying generation for current utterance:   0%|          | 0/6 [00:00<?, ?it/s]\u001b[A\u001b[A\n",
      "\n",
      "                                                                                \u001b[A\u001b[A\n",
      " 61%|██████████████████████▌              | 61/100 [4:02:30<1:26:52, 133.65s/it]\u001b[A"
     ]
    },
    {
     "name": "stdout",
     "output_type": "stream",
     "text": [
      "Paraphrases generated successfully after 0 attempts.\n"
     ]
    },
    {
     "name": "stderr",
     "output_type": "stream",
     "text": [
      "\n",
      "Attempt 1:   0%|                                          | 0/5 [00:00<?, ?it/s]\u001b[A\n",
      "\n",
      "Retrying generation for current utterance:   0%|          | 0/6 [00:00<?, ?it/s]\u001b[A\u001b[A\n",
      "\n",
      "Retrying generation for current utterance:  17%|▎ | 1/6 [00:26<02:12, 26.52s/it]\u001b[A\u001b[A\n",
      "\n",
      "Retrying generation for current utterance:  33%|▋ | 2/6 [01:01<02:06, 31.58s/it]\u001b[A\u001b[A\n",
      "\n",
      "Retrying generation for current utterance:  50%|█ | 3/6 [01:15<01:10, 23.43s/it]\u001b[A\u001b[A\n",
      "\n",
      "Retrying generation for current utterance:  67%|█▎| 4/6 [02:01<01:04, 32.21s/it]\u001b[A\u001b[A\n",
      "\n",
      "Retrying generation for current utterance:  83%|█▋| 5/6 [02:32<00:32, 32.11s/it]\u001b[A\u001b[A\n",
      "\n",
      "                                                                                \u001b[A\u001b[A\n",
      "Attempt 1:   0%| | 0/5 [02:56<?, ?it/s, status=Retry: Some paraphrases contain n\u001b[A\n",
      "Attempt 1:  20%|▏| 1/5 [02:56<11:44, 176.22s/it, status=Retry: Some paraphrases \u001b[A"
     ]
    },
    {
     "name": "stdout",
     "output_type": "stream",
     "text": [
      "Paraphrases generated successfully after 0 attempts.\n"
     ]
    },
    {
     "name": "stderr",
     "output_type": "stream",
     "text": [
      "\n",
      "\n",
      "Retrying generation for current utterance:   0%|          | 0/6 [00:00<?, ?it/s]\u001b[A\u001b[A\n",
      "\n",
      "Retrying generation for current utterance:  17%|▎ | 1/6 [00:36<03:04, 36.97s/it]\u001b[A\u001b[A\n",
      "\n",
      "Retrying generation for current utterance:  33%|▋ | 2/6 [01:01<01:58, 29.51s/it]\u001b[A\u001b[A\n",
      "\n",
      "                                                                                \u001b[A\u001b[A\n",
      " 62%|██████████████████████▉              | 62/100 [4:07:09<1:52:19, 177.36s/it]\u001b[A"
     ]
    },
    {
     "name": "stdout",
     "output_type": "stream",
     "text": [
      "Paraphrases generated successfully after 0 attempts.\n"
     ]
    },
    {
     "name": "stderr",
     "output_type": "stream",
     "text": [
      "\n",
      "Attempt 1:   0%|                                          | 0/5 [00:00<?, ?it/s]\u001b[A\n",
      "\n",
      "Retrying generation for current utterance:   0%|          | 0/6 [00:00<?, ?it/s]\u001b[A\u001b[A\n",
      "\n",
      "Retrying generation for current utterance:  17%|▎ | 1/6 [00:25<02:07, 25.49s/it]\u001b[A\u001b[A"
     ]
    },
    {
     "name": "stdout",
     "output_type": "stream",
     "text": [
      "API server is overloaded or not ready. Retrying in 3 seconds...\n"
     ]
    },
    {
     "name": "stderr",
     "output_type": "stream",
     "text": [
      "\n",
      "\n",
      "Retrying generation for current utterance:  33%|▋ | 2/6 [01:04<02:12, 33.20s/it]\u001b[A\u001b[A\n",
      "\n",
      "Retrying generation for current utterance:  50%|█ | 3/6 [01:28<01:28, 29.41s/it]\u001b[A\u001b[A\n",
      "\n",
      "                                                                                \u001b[A\u001b[A\n",
      " 63%|███████████████████████▎             | 63/100 [4:09:33<1:43:10, 167.32s/it]\u001b[A"
     ]
    },
    {
     "name": "stdout",
     "output_type": "stream",
     "text": [
      "Paraphrases generated successfully after 0 attempts.\n"
     ]
    },
    {
     "name": "stderr",
     "output_type": "stream",
     "text": [
      "\n",
      "Attempt 1:   0%|                                          | 0/5 [00:00<?, ?it/s]\u001b[A\n",
      "\n",
      "Retrying generation for current utterance:   0%|          | 0/6 [00:00<?, ?it/s]\u001b[A\u001b[A\n",
      "\n",
      "Retrying generation for current utterance:  17%|▎ | 1/6 [00:35<02:56, 35.33s/it]\u001b[A\u001b[A\n",
      "\n",
      "Retrying generation for current utterance:  33%|▋ | 2/6 [01:09<02:18, 34.67s/it]\u001b[A\u001b[A\n",
      "\n",
      "Retrying generation for current utterance:  50%|█ | 3/6 [01:49<01:51, 37.07s/it]\u001b[A\u001b[A\n",
      "\n",
      "Retrying generation for current utterance:  67%|█▎| 4/6 [03:13<01:50, 55.47s/it]\u001b[A\u001b[A\n",
      "\n",
      "                                                                                \u001b[A\u001b[A\n",
      " 64%|███████████████████████▋             | 64/100 [4:14:14<2:00:52, 201.45s/it]\u001b[A"
     ]
    },
    {
     "name": "stdout",
     "output_type": "stream",
     "text": [
      "Paraphrases generated successfully after 0 attempts.\n"
     ]
    },
    {
     "name": "stderr",
     "output_type": "stream",
     "text": [
      "\n",
      "Attempt 1:   0%|                                          | 0/5 [00:00<?, ?it/s]\u001b[A\n",
      "\n",
      "Retrying generation for current utterance:   0%|          | 0/6 [00:00<?, ?it/s]\u001b[A\u001b[A\n",
      "\n",
      "Retrying generation for current utterance:  17%|▎ | 1/6 [00:25<02:07, 25.49s/it]\u001b[A\u001b[A\n",
      "\n",
      "Retrying generation for current utterance:  33%|▋ | 2/6 [00:47<01:33, 23.39s/it]\u001b[A\u001b[A\n",
      "\n",
      "                                                                                \u001b[A\u001b[A\n",
      " 65%|████████████████████████             | 65/100 [4:15:47<1:38:31, 168.91s/it]\u001b[A"
     ]
    },
    {
     "name": "stdout",
     "output_type": "stream",
     "text": [
      "Paraphrases generated successfully after 0 attempts.\n"
     ]
    },
    {
     "name": "stderr",
     "output_type": "stream",
     "text": [
      "\n",
      "Attempt 1:   0%|                                          | 0/5 [00:00<?, ?it/s]\u001b[A\n",
      "\n",
      "Retrying generation for current utterance:   0%|          | 0/6 [00:00<?, ?it/s]\u001b[A\u001b[A\n",
      "\n",
      "                                                                                \u001b[A\u001b[A\n",
      " 66%|████████████████████████▍            | 66/100 [4:16:26<1:13:33, 129.82s/it]\u001b[A"
     ]
    },
    {
     "name": "stdout",
     "output_type": "stream",
     "text": [
      "Paraphrases generated successfully after 0 attempts.\n"
     ]
    },
    {
     "name": "stderr",
     "output_type": "stream",
     "text": [
      "\n",
      "Attempt 1:   0%|                                          | 0/5 [00:00<?, ?it/s]\u001b[A\n",
      "\n",
      "Retrying generation for current utterance:   0%|          | 0/6 [00:00<?, ?it/s]\u001b[A\u001b[A\n",
      "\n",
      "Retrying generation for current utterance:  17%|▎ | 1/6 [00:30<02:32, 30.41s/it]\u001b[A\u001b[A\n",
      "\n",
      "Retrying generation for current utterance:  33%|▋ | 2/6 [01:22<02:51, 42.88s/it]\u001b[A\u001b[A\n",
      "\n",
      "Retrying generation for current utterance:  50%|█ | 3/6 [02:15<02:23, 47.75s/it]\u001b[A\u001b[A\n",
      "\n",
      "Retrying generation for current utterance:  67%|█▎| 4/6 [02:58<01:31, 45.76s/it]\u001b[A\u001b[A"
     ]
    },
    {
     "name": "stdout",
     "output_type": "stream",
     "text": [
      "Request timed out. Retrying in 3 seconds...\n"
     ]
    },
    {
     "name": "stderr",
     "output_type": "stream",
     "text": [
      "\n",
      "\n",
      "Retrying generation for current utterance:  83%|▊| 5/6 [13:01<04:06, 246.75s/it]\u001b[A\u001b[A\n",
      "\n",
      "Retrying generation for current utterance: 100%|█| 6/6 [13:16<00:00, 168.05s/it]\u001b[A\u001b[A\n",
      "\n",
      "                                                                                \u001b[A\u001b[A"
     ]
    },
    {
     "name": "stdout",
     "output_type": "stream",
     "text": [
      "Attempt 1: The generated list of paraphrases is empty. Retrying...\n"
     ]
    },
    {
     "name": "stderr",
     "output_type": "stream",
     "text": [
      "\n",
      "\n",
      "Retrying generation for current utterance:   0%|          | 0/6 [00:00<?, ?it/s]\u001b[A\u001b[A\n",
      "\n",
      "Retrying generation for current utterance:  17%|▎ | 1/6 [00:33<02:46, 33.25s/it]\u001b[A\u001b[A\n",
      "\n",
      "                                                                                \u001b[A\u001b[A\n",
      " 67%|████████████████████████▊            | 67/100 [4:31:41<3:21:00, 365.48s/it]\u001b[A"
     ]
    },
    {
     "name": "stdout",
     "output_type": "stream",
     "text": [
      "Paraphrases generated successfully after 1 attempts.\n"
     ]
    },
    {
     "name": "stderr",
     "output_type": "stream",
     "text": [
      "\n",
      "Attempt 1:   0%|                                          | 0/5 [00:00<?, ?it/s]\u001b[A\n",
      "\n",
      "Retrying generation for current utterance:   0%|          | 0/6 [00:00<?, ?it/s]\u001b[A\u001b[A\n",
      "\n",
      "Retrying generation for current utterance:  17%|▎ | 1/6 [00:51<04:19, 51.91s/it]\u001b[A\u001b[A\n",
      "\n",
      "Retrying generation for current utterance:  33%|▋ | 2/6 [02:18<04:50, 72.58s/it]\u001b[A\u001b[A\n",
      "\n",
      "Retrying generation for current utterance:  50%|█ | 3/6 [03:17<03:18, 66.27s/it]\u001b[A\u001b[A\n",
      "\n",
      "                                                                                \u001b[A\u001b[A\n",
      "Attempt 1:   0%| | 0/5 [04:06<?, ?it/s, status=Retry: Some paraphrases contain n\u001b[A\n",
      "Attempt 1:  20%|▏| 1/5 [04:06<16:25, 246.25s/it, status=Retry: Some paraphrases \u001b[A"
     ]
    },
    {
     "name": "stdout",
     "output_type": "stream",
     "text": [
      "Paraphrases generated successfully after 0 attempts.\n"
     ]
    },
    {
     "name": "stderr",
     "output_type": "stream",
     "text": [
      "\n",
      "\n",
      "Retrying generation for current utterance:   0%|          | 0/6 [00:00<?, ?it/s]\u001b[A\u001b[A\n",
      "\n",
      "                                                                                \u001b[A\u001b[A\n",
      " 68%|█████████████████████████▏           | 68/100 [4:36:51<3:06:06, 348.95s/it]\u001b[A"
     ]
    },
    {
     "name": "stdout",
     "output_type": "stream",
     "text": [
      "Paraphrases generated successfully after 0 attempts.\n"
     ]
    },
    {
     "name": "stderr",
     "output_type": "stream",
     "text": [
      "\n",
      "Attempt 1:   0%|                                          | 0/5 [00:00<?, ?it/s]\u001b[A\n",
      "\n",
      "Retrying generation for current utterance:   0%|          | 0/6 [00:00<?, ?it/s]\u001b[A\u001b[A\n",
      "\n",
      "Retrying generation for current utterance:  17%|▎ | 1/6 [00:43<03:37, 43.53s/it]\u001b[A\u001b[A\n",
      "\n",
      "Retrying generation for current utterance:  33%|▋ | 2/6 [00:59<01:48, 27.21s/it]\u001b[A\u001b[A\n",
      "\n",
      "Retrying generation for current utterance:  50%|█ | 3/6 [01:13<01:03, 21.27s/it]\u001b[A\u001b[A\n",
      "\n",
      "Retrying generation for current utterance:  67%|█▎| 4/6 [01:31<00:40, 20.03s/it]\u001b[A\u001b[A\n",
      "\n",
      "Retrying generation for current utterance:  83%|█▋| 5/6 [01:54<00:21, 21.15s/it]\u001b[A\u001b[A\n",
      "\n",
      "Retrying generation for current utterance: 100%|██| 6/6 [02:43<00:00, 30.46s/it]\u001b[A\u001b[A\n",
      "\n",
      "                                                                                \u001b[A\u001b[A"
     ]
    },
    {
     "name": "stdout",
     "output_type": "stream",
     "text": [
      "Attempt 1: The generated list of paraphrases is empty. Retrying...\n"
     ]
    },
    {
     "name": "stderr",
     "output_type": "stream",
     "text": [
      "\n",
      "\n",
      "Retrying generation for current utterance:   0%|          | 0/6 [00:00<?, ?it/s]\u001b[A\u001b[A\n",
      "\n",
      "Retrying generation for current utterance:  17%|▎ | 1/6 [00:24<02:00, 24.14s/it]\u001b[A\u001b[A\n",
      "\n",
      "                                                                                \u001b[A\u001b[A\n",
      " 69%|█████████████████████████▌           | 69/100 [4:40:19<2:38:26, 306.66s/it]\u001b[A"
     ]
    },
    {
     "name": "stdout",
     "output_type": "stream",
     "text": [
      "Paraphrases generated successfully after 1 attempts.\n"
     ]
    },
    {
     "name": "stderr",
     "output_type": "stream",
     "text": [
      "\n",
      "Attempt 1:   0%|                                          | 0/5 [00:00<?, ?it/s]\u001b[A\n",
      "\n",
      "Retrying generation for current utterance:   0%|          | 0/6 [00:00<?, ?it/s]\u001b[A\u001b[A\n",
      "\n",
      "Retrying generation for current utterance:  17%|▎ | 1/6 [00:51<04:15, 51.10s/it]\u001b[A\u001b[A\n",
      "\n",
      "                                                                                \u001b[A\u001b[A\n",
      " 70%|█████████████████████████▉           | 70/100 [4:41:48<2:00:37, 241.23s/it]\u001b[A"
     ]
    },
    {
     "name": "stdout",
     "output_type": "stream",
     "text": [
      "Paraphrases generated successfully after 0 attempts.\n"
     ]
    },
    {
     "name": "stderr",
     "output_type": "stream",
     "text": [
      "\n",
      "Attempt 1:   0%|                                          | 0/5 [00:00<?, ?it/s]\u001b[A\n",
      "\n",
      "Retrying generation for current utterance:   0%|          | 0/6 [00:00<?, ?it/s]\u001b[A\u001b[A\n",
      "\n",
      "Retrying generation for current utterance:  17%|▎ | 1/6 [00:24<02:02, 24.47s/it]\u001b[A\u001b[A\n",
      "\n",
      "Retrying generation for current utterance:  33%|▋ | 2/6 [00:58<02:00, 30.20s/it]\u001b[A\u001b[A\n",
      "\n",
      "Retrying generation for current utterance:  50%|█ | 3/6 [01:38<01:43, 34.55s/it]\u001b[A\u001b[A\n",
      "\n",
      "Retrying generation for current utterance:  67%|█▎| 4/6 [02:17<01:12, 36.39s/it]\u001b[A\u001b[A\n",
      "\n",
      "Retrying generation for current utterance:  83%|█▋| 5/6 [02:58<00:37, 37.89s/it]\u001b[A\u001b[A\n",
      "\n",
      "                                                                                \u001b[A\u001b[A\n",
      " 71%|██████████████████████████▎          | 71/100 [4:45:37<1:54:45, 237.43s/it]\u001b[A"
     ]
    },
    {
     "name": "stdout",
     "output_type": "stream",
     "text": [
      "Paraphrases generated successfully after 0 attempts.\n"
     ]
    },
    {
     "name": "stderr",
     "output_type": "stream",
     "text": [
      "\n",
      "Attempt 1:   0%|                                          | 0/5 [00:00<?, ?it/s]\u001b[A\n",
      "\n",
      "Retrying generation for current utterance:   0%|          | 0/6 [00:00<?, ?it/s]\u001b[A\u001b[A\n",
      "\n",
      "Retrying generation for current utterance:  17%|▎ | 1/6 [00:21<01:48, 21.61s/it]\u001b[A\u001b[A\n",
      "\n",
      "Retrying generation for current utterance:  33%|▋ | 2/6 [00:47<01:37, 24.26s/it]\u001b[A\u001b[A\n",
      "\n",
      "                                                                                \u001b[A\u001b[A\n",
      "Attempt 1:   0%| | 0/5 [01:04<?, ?it/s, status=Retry: Some paraphrases contain n\u001b[A\n",
      "Attempt 1:  20%|▏| 1/5 [01:04<04:19, 64.81s/it, status=Retry: Some paraphrases c\u001b[A"
     ]
    },
    {
     "name": "stdout",
     "output_type": "stream",
     "text": [
      "Paraphrases generated successfully after 0 attempts.\n"
     ]
    },
    {
     "name": "stderr",
     "output_type": "stream",
     "text": [
      "\n",
      "\n",
      "Retrying generation for current utterance:   0%|          | 0/6 [00:00<?, ?it/s]\u001b[A\u001b[A\n",
      "\n",
      "Retrying generation for current utterance:  17%|▎ | 1/6 [00:20<01:40, 20.07s/it]\u001b[A\u001b[A"
     ]
    },
    {
     "name": "stdout",
     "output_type": "stream",
     "text": [
      "API server is overloaded or not ready. Retrying in 3 seconds...\n"
     ]
    },
    {
     "name": "stderr",
     "output_type": "stream",
     "text": [
      "\n",
      "\n",
      "Retrying generation for current utterance:  33%|▋ | 2/6 [00:59<02:06, 31.52s/it]\u001b[A\u001b[A\n",
      "\n",
      "Retrying generation for current utterance:  50%|█ | 3/6 [01:40<01:47, 35.92s/it]\u001b[A\u001b[A\n",
      "\n",
      "Retrying generation for current utterance:  67%|█▎| 4/6 [01:58<00:57, 28.81s/it]\u001b[A\u001b[A\n",
      "\n",
      "Retrying generation for current utterance:  83%|█▋| 5/6 [02:30<00:29, 29.80s/it]\u001b[A\u001b[A\n",
      "\n",
      "Retrying generation for current utterance: 100%|██| 6/6 [02:43<00:00, 24.23s/it]\u001b[A\u001b[A\n",
      "\n",
      "                                                                                \u001b[A\u001b[A"
     ]
    },
    {
     "name": "stdout",
     "output_type": "stream",
     "text": [
      "Attempt 1: The generated list of paraphrases is empty. Retrying...\n"
     ]
    },
    {
     "name": "stderr",
     "output_type": "stream",
     "text": [
      "\n",
      "\n",
      "Retrying generation for current utterance:   0%|          | 0/6 [00:00<?, ?it/s]\u001b[A\u001b[A\n",
      "\n",
      "Retrying generation for current utterance:  17%|▎ | 1/6 [00:28<02:20, 28.04s/it]\u001b[A\u001b[A\n",
      "\n",
      "Retrying generation for current utterance:  33%|▋ | 2/6 [00:49<01:37, 24.26s/it]\u001b[A\u001b[A\n",
      "\n",
      "Retrying generation for current utterance:  50%|█ | 3/6 [01:15<01:14, 24.78s/it]\u001b[A\u001b[A\n",
      "\n",
      "                                                                                \u001b[A\u001b[A\n",
      " 72%|██████████████████████████▋          | 72/100 [4:50:55<2:02:10, 261.82s/it]\u001b[A"
     ]
    },
    {
     "name": "stdout",
     "output_type": "stream",
     "text": [
      "Paraphrases generated successfully after 1 attempts.\n"
     ]
    },
    {
     "name": "stderr",
     "output_type": "stream",
     "text": [
      "\n",
      "Attempt 1:   0%|                                          | 0/5 [00:00<?, ?it/s]\u001b[A\n",
      "\n",
      "Retrying generation for current utterance:   0%|          | 0/6 [00:00<?, ?it/s]\u001b[A\u001b[A\n",
      "\n",
      "Retrying generation for current utterance:  17%|▎ | 1/6 [00:24<02:03, 24.73s/it]\u001b[A\u001b[A\n",
      "\n",
      "Retrying generation for current utterance:  33%|▋ | 2/6 [00:42<01:22, 20.66s/it]\u001b[A\u001b[A\n",
      "\n",
      "Retrying generation for current utterance:  50%|█ | 3/6 [00:52<00:47, 15.76s/it]\u001b[A\u001b[A\n",
      "\n",
      "Retrying generation for current utterance:  67%|█▎| 4/6 [01:09<00:32, 16.25s/it]\u001b[A\u001b[A\n",
      "\n",
      "Retrying generation for current utterance:  83%|█▋| 5/6 [02:11<00:32, 32.80s/it]\u001b[A\u001b[A\n",
      "\n",
      "Retrying generation for current utterance: 100%|██| 6/6 [02:24<00:00, 26.07s/it]\u001b[A\u001b[A\n",
      "\n",
      "                                                                                \u001b[A\u001b[A"
     ]
    },
    {
     "name": "stdout",
     "output_type": "stream",
     "text": [
      "Attempt 1: The generated list of paraphrases is empty. Retrying...\n"
     ]
    },
    {
     "name": "stderr",
     "output_type": "stream",
     "text": [
      "\n",
      "\n",
      "Retrying generation for current utterance:   0%|          | 0/6 [00:00<?, ?it/s]\u001b[A\u001b[A\n",
      "\n",
      "Retrying generation for current utterance:  17%|▎ | 1/6 [00:24<02:00, 24.04s/it]\u001b[A\u001b[A\n",
      "\n",
      "Retrying generation for current utterance:  33%|▋ | 2/6 [00:45<01:30, 22.61s/it]\u001b[A\u001b[A\n",
      "\n",
      "Retrying generation for current utterance:  50%|█ | 3/6 [01:12<01:13, 24.49s/it]\u001b[A\u001b[A\n",
      "\n",
      "Retrying generation for current utterance:  67%|█▎| 4/6 [01:44<00:54, 27.39s/it]\u001b[A\u001b[A\n",
      "\n",
      "Retrying generation for current utterance:  83%|█▋| 5/6 [02:23<00:31, 31.84s/it]\u001b[A\u001b[A\n",
      "\n",
      "Retrying generation for current utterance: 100%|██| 6/6 [02:33<00:00, 24.15s/it]\u001b[A\u001b[A\n",
      "\n",
      "                                                                                \u001b[A\u001b[A"
     ]
    },
    {
     "name": "stdout",
     "output_type": "stream",
     "text": [
      "Attempt 2: The generated list of paraphrases is empty. Retrying...\n"
     ]
    },
    {
     "name": "stderr",
     "output_type": "stream",
     "text": [
      "\n",
      "\n",
      "Retrying generation for current utterance:   0%|          | 0/6 [00:00<?, ?it/s]\u001b[A\u001b[A\n",
      "\n",
      "                                                                                \u001b[A\u001b[A\n",
      " 73%|███████████████████████████          | 73/100 [4:56:22<2:06:33, 281.26s/it]\u001b[A"
     ]
    },
    {
     "name": "stdout",
     "output_type": "stream",
     "text": [
      "Paraphrases generated successfully after 2 attempts.\n"
     ]
    },
    {
     "name": "stderr",
     "output_type": "stream",
     "text": [
      "\n",
      "Attempt 1:   0%|                                          | 0/5 [00:00<?, ?it/s]\u001b[A\n",
      "\n",
      "Retrying generation for current utterance:   0%|          | 0/6 [00:00<?, ?it/s]\u001b[A\u001b[A"
     ]
    },
    {
     "name": "stdout",
     "output_type": "stream",
     "text": [
      "Request timed out. Retrying in 3 seconds...\n"
     ]
    },
    {
     "name": "stderr",
     "output_type": "stream",
     "text": [
      "\n",
      "\n",
      "Retrying generation for current utterance:  17%|▏| 1/6 [10:03<50:15, 603.15s/it]\u001b[A\u001b[A\n",
      "\n",
      "Retrying generation for current utterance:  33%|▎| 2/6 [10:41<18:04, 271.12s/it]\u001b[A\u001b[A\n",
      "\n",
      "                                                                                \u001b[A\u001b[A\n",
      " 74%|███████████████████████████▍         | 74/100 [5:07:40<2:53:28, 400.34s/it]\u001b[A"
     ]
    },
    {
     "name": "stdout",
     "output_type": "stream",
     "text": [
      "Paraphrases generated successfully after 0 attempts.\n"
     ]
    },
    {
     "name": "stderr",
     "output_type": "stream",
     "text": [
      "\n",
      "Attempt 1:   0%|                                          | 0/5 [00:00<?, ?it/s]\u001b[A\n",
      "\n",
      "Retrying generation for current utterance:   0%|          | 0/6 [00:00<?, ?it/s]\u001b[A\u001b[A\n",
      "\n",
      "Retrying generation for current utterance:  17%|▎ | 1/6 [00:23<01:55, 23.04s/it]\u001b[A\u001b[A\n",
      "\n",
      "Retrying generation for current utterance:  33%|▋ | 2/6 [00:49<01:40, 25.09s/it]\u001b[A\u001b[A\n",
      "\n",
      "Retrying generation for current utterance:  50%|█ | 3/6 [01:14<01:14, 24.90s/it]\u001b[A\u001b[A\n",
      "\n",
      "Retrying generation for current utterance:  67%|█▎| 4/6 [01:37<00:48, 24.29s/it]\u001b[A\u001b[A\n",
      "\n",
      "                                                                                \u001b[A\u001b[A\n",
      "Attempt 1:   0%| | 0/5 [01:46<?, ?it/s, status=Retry: Some paraphrases contain n\u001b[A\n",
      "Attempt 1:  20%|▏| 1/5 [01:46<07:07, 106.79s/it, status=Retry: Some paraphrases \u001b[A"
     ]
    },
    {
     "name": "stdout",
     "output_type": "stream",
     "text": [
      "Paraphrases generated successfully after 0 attempts.\n"
     ]
    },
    {
     "name": "stderr",
     "output_type": "stream",
     "text": [
      "\n",
      "\n",
      "Retrying generation for current utterance:   0%|          | 0/6 [00:00<?, ?it/s]\u001b[A\u001b[A\n",
      "\n",
      "Retrying generation for current utterance:  17%|▎ | 1/6 [00:48<04:02, 48.43s/it]\u001b[A\u001b[A\n",
      "\n",
      "Retrying generation for current utterance:  33%|▋ | 2/6 [01:13<02:18, 34.52s/it]\u001b[A\u001b[A\n",
      "\n",
      "Retrying generation for current utterance:  50%|█ | 3/6 [01:56<01:55, 38.40s/it]\u001b[A\u001b[A\n",
      "\n",
      "                                                                                \u001b[A\u001b[A\n",
      " 75%|███████████████████████████▊         | 75/100 [5:11:46<2:27:31, 354.06s/it]\u001b[A"
     ]
    },
    {
     "name": "stdout",
     "output_type": "stream",
     "text": [
      "Paraphrases generated successfully after 0 attempts.\n"
     ]
    },
    {
     "name": "stderr",
     "output_type": "stream",
     "text": [
      "\n",
      "Attempt 1:   0%|                                          | 0/5 [00:00<?, ?it/s]\u001b[A\n",
      "\n",
      "Retrying generation for current utterance:   0%|          | 0/6 [00:00<?, ?it/s]\u001b[A\u001b[A\n",
      "\n",
      "Retrying generation for current utterance:  17%|▎ | 1/6 [00:09<00:48,  9.63s/it]\u001b[A\u001b[A\n",
      "\n",
      "                                                                                \u001b[A\u001b[A\n",
      "Attempt 1:   0%| | 0/5 [00:26<?, ?it/s, status=Retry: Some paraphrases contain n\u001b[A\n",
      "Attempt 1:  20%|▏| 1/5 [00:26<01:44, 26.20s/it, status=Retry: Some paraphrases c\u001b[A"
     ]
    },
    {
     "name": "stdout",
     "output_type": "stream",
     "text": [
      "Paraphrases generated successfully after 0 attempts.\n"
     ]
    },
    {
     "name": "stderr",
     "output_type": "stream",
     "text": [
      "\n",
      "\n",
      "Retrying generation for current utterance:   0%|          | 0/6 [00:00<?, ?it/s]\u001b[A\u001b[A\n",
      "\n",
      "Retrying generation for current utterance:  17%|▎ | 1/6 [00:32<02:42, 32.46s/it]\u001b[A\u001b[A\n",
      "\n",
      "Retrying generation for current utterance:  33%|▋ | 2/6 [01:22<02:50, 42.52s/it]\u001b[A\u001b[A\n",
      "\n",
      "Retrying generation for current utterance:  50%|█ | 3/6 [01:50<01:47, 35.96s/it]\u001b[A\u001b[A\n",
      "\n",
      "Retrying generation for current utterance:  67%|█▎| 4/6 [02:15<01:03, 31.58s/it]\u001b[A\u001b[A\n",
      "\n",
      "Retrying generation for current utterance:  83%|█▋| 5/6 [02:35<00:27, 27.44s/it]\u001b[A\u001b[A\n",
      "\n",
      "Retrying generation for current utterance: 100%|██| 6/6 [03:02<00:00, 27.40s/it]\u001b[A\u001b[A\n",
      "\n",
      "                                                                                \u001b[A\u001b[A"
     ]
    },
    {
     "name": "stdout",
     "output_type": "stream",
     "text": [
      "Attempt 1: The generated list of paraphrases is empty. Retrying...\n"
     ]
    },
    {
     "name": "stderr",
     "output_type": "stream",
     "text": [
      "\n",
      "\n",
      "Retrying generation for current utterance:   0%|          | 0/6 [00:00<?, ?it/s]\u001b[A\u001b[A\n",
      "\n",
      "Retrying generation for current utterance:  17%|▎ | 1/6 [00:16<01:23, 16.69s/it]\u001b[A\u001b[A\n",
      "\n",
      "                                                                                \u001b[A\u001b[A\n",
      " 76%|████████████████████████████         | 76/100 [5:15:52<2:08:36, 321.54s/it]\u001b[A"
     ]
    },
    {
     "name": "stdout",
     "output_type": "stream",
     "text": [
      "Paraphrases generated successfully after 1 attempts.\n"
     ]
    },
    {
     "name": "stderr",
     "output_type": "stream",
     "text": [
      "\n",
      "Attempt 1:   0%|                                          | 0/5 [00:00<?, ?it/s]\u001b[A\n",
      "\n",
      "Retrying generation for current utterance:   0%|          | 0/6 [00:00<?, ?it/s]\u001b[A\u001b[A\n",
      "\n",
      "Retrying generation for current utterance:  17%|▎ | 1/6 [00:19<01:38, 19.77s/it]\u001b[A\u001b[A\n",
      "\n",
      "Retrying generation for current utterance:  33%|▋ | 2/6 [00:48<01:40, 25.01s/it]\u001b[A\u001b[A\n",
      "\n",
      "Retrying generation for current utterance:  50%|█ | 3/6 [00:58<00:55, 18.40s/it]\u001b[A\u001b[A\n",
      "\n",
      "Retrying generation for current utterance:  67%|█▎| 4/6 [01:23<00:41, 20.76s/it]\u001b[A\u001b[A\n",
      "\n",
      "Retrying generation for current utterance:  83%|█▋| 5/6 [01:52<00:23, 23.83s/it]\u001b[A\u001b[A\n",
      "\n",
      "                                                                                \u001b[A\u001b[A\n",
      " 77%|████████████████████████████▍        | 77/100 [5:18:34<1:44:55, 273.71s/it]\u001b[A"
     ]
    },
    {
     "name": "stdout",
     "output_type": "stream",
     "text": [
      "Paraphrases generated successfully after 0 attempts.\n"
     ]
    },
    {
     "name": "stderr",
     "output_type": "stream",
     "text": [
      "\n",
      "Attempt 1:   0%|                                          | 0/5 [00:00<?, ?it/s]\u001b[A\n",
      "\n",
      "Retrying generation for current utterance:   0%|          | 0/6 [00:00<?, ?it/s]\u001b[A\u001b[A\n",
      "\n",
      "Retrying generation for current utterance:  17%|▎ | 1/6 [00:26<02:12, 26.42s/it]\u001b[A\u001b[A\n",
      "\n",
      "Retrying generation for current utterance:  33%|▋ | 2/6 [00:52<01:45, 26.30s/it]\u001b[A\u001b[A\n",
      "\n",
      "                                                                                \u001b[A\u001b[A\n",
      " 78%|████████████████████████████▊        | 78/100 [5:19:48<1:18:23, 213.81s/it]\u001b[A"
     ]
    },
    {
     "name": "stdout",
     "output_type": "stream",
     "text": [
      "Paraphrases generated successfully after 0 attempts.\n"
     ]
    },
    {
     "name": "stderr",
     "output_type": "stream",
     "text": [
      "\n",
      "Attempt 1:   0%|                                          | 0/5 [00:00<?, ?it/s]\u001b[A\n",
      "\n",
      "Retrying generation for current utterance:   0%|          | 0/6 [00:00<?, ?it/s]\u001b[A\u001b[A\n",
      "\n",
      "Retrying generation for current utterance:  17%|▎ | 1/6 [00:41<03:26, 41.27s/it]\u001b[A\u001b[A\n",
      "\n",
      "Retrying generation for current utterance:  33%|▋ | 2/6 [00:51<01:33, 23.26s/it]\u001b[A\u001b[A\n",
      "\n",
      "Retrying generation for current utterance:  50%|█ | 3/6 [01:20<01:17, 25.87s/it]\u001b[A\u001b[A\n",
      "\n",
      "Retrying generation for current utterance:  67%|█▎| 4/6 [01:30<00:39, 19.62s/it]\u001b[A\u001b[A\n",
      "\n",
      "Retrying generation for current utterance:  83%|█▋| 5/6 [02:02<00:23, 23.77s/it]\u001b[A\u001b[A\n",
      "\n",
      "Retrying generation for current utterance: 100%|██| 6/6 [02:32<00:00, 25.92s/it]\u001b[A\u001b[A\n",
      "\n",
      "                                                                                \u001b[A\u001b[A"
     ]
    },
    {
     "name": "stdout",
     "output_type": "stream",
     "text": [
      "Attempt 1: The generated list of paraphrases is empty. Retrying...\n"
     ]
    },
    {
     "name": "stderr",
     "output_type": "stream",
     "text": [
      "\n",
      "\n",
      "Retrying generation for current utterance:   0%|          | 0/6 [00:00<?, ?it/s]\u001b[A\u001b[A\n",
      "\n",
      "                                                                                \u001b[A\u001b[A\n",
      " 79%|█████████████████████████████▏       | 79/100 [5:22:52<1:11:39, 204.75s/it]\u001b[A"
     ]
    },
    {
     "name": "stdout",
     "output_type": "stream",
     "text": [
      "Paraphrases generated successfully after 1 attempts.\n"
     ]
    },
    {
     "name": "stderr",
     "output_type": "stream",
     "text": [
      "\n",
      "Attempt 1:   0%|                                          | 0/5 [00:00<?, ?it/s]\u001b[A\n",
      "\n",
      "Retrying generation for current utterance:   0%|          | 0/6 [00:00<?, ?it/s]\u001b[A\u001b[A\n",
      "\n",
      "Retrying generation for current utterance:  17%|▎ | 1/6 [00:20<01:40, 20.07s/it]\u001b[A\u001b[A\n",
      "\n",
      "                                                                                \u001b[A\u001b[A\n",
      " 80%|███████████████████████████████▏       | 80/100 [5:23:37<52:18, 156.90s/it]\u001b[A"
     ]
    },
    {
     "name": "stdout",
     "output_type": "stream",
     "text": [
      "Paraphrases generated successfully after 0 attempts.\n"
     ]
    },
    {
     "name": "stderr",
     "output_type": "stream",
     "text": [
      "\n",
      "Attempt 1:   0%|                                          | 0/5 [00:00<?, ?it/s]\u001b[A\n",
      "\n",
      "Retrying generation for current utterance:   0%|          | 0/6 [00:00<?, ?it/s]\u001b[A\u001b[A\n",
      "\n",
      "Retrying generation for current utterance:  17%|▎ | 1/6 [00:46<03:54, 46.90s/it]\u001b[A\u001b[A\n",
      "\n",
      "Retrying generation for current utterance:  33%|▋ | 2/6 [01:20<02:35, 38.81s/it]\u001b[A\u001b[A\n",
      "\n",
      "Retrying generation for current utterance:  50%|█ | 3/6 [02:09<02:10, 43.59s/it]\u001b[A\u001b[A\n",
      "\n",
      "Retrying generation for current utterance:  67%|█▎| 4/6 [02:24<01:04, 32.41s/it]\u001b[A\u001b[A\n",
      "\n",
      "Retrying generation for current utterance:  83%|█▋| 5/6 [02:49<00:29, 29.58s/it]\u001b[A\u001b[A\n",
      "\n",
      "                                                                                \u001b[A\u001b[A\n",
      "Attempt 1:   0%| | 0/5 [03:11<?, ?it/s, status=Retry: Some paraphrases contain n\u001b[A\n",
      "Attempt 1:  20%|▏| 1/5 [03:11<12:45, 191.48s/it, status=Retry: Some paraphrases \u001b[A"
     ]
    },
    {
     "name": "stdout",
     "output_type": "stream",
     "text": [
      "Paraphrases generated successfully after 0 attempts.\n"
     ]
    },
    {
     "name": "stderr",
     "output_type": "stream",
     "text": [
      "\n",
      "\n",
      "Retrying generation for current utterance:   0%|          | 0/6 [00:00<?, ?it/s]\u001b[A\u001b[A\n",
      "\n",
      "Retrying generation for current utterance:  17%|▎ | 1/6 [00:51<04:16, 51.20s/it]\u001b[A\u001b[A\n",
      "\n",
      "Retrying generation for current utterance:  33%|▋ | 2/6 [01:24<02:41, 40.42s/it]\u001b[A\u001b[A\n",
      "\n",
      "Retrying generation for current utterance:  50%|█ | 3/6 [01:38<01:25, 28.60s/it]\u001b[A\u001b[A\n",
      "\n",
      "Retrying generation for current utterance:  67%|█▎| 4/6 [02:46<01:28, 44.28s/it]\u001b[A\u001b[A\n",
      "\n",
      "Retrying generation for current utterance:  83%|█▋| 5/6 [03:25<00:42, 42.38s/it]\u001b[A\u001b[A\n",
      "\n",
      "                                                                                \u001b[A\u001b[A\n",
      " 81%|█████████████████████████████▉       | 81/100 [5:31:03<1:17:09, 243.65s/it]\u001b[A"
     ]
    },
    {
     "name": "stdout",
     "output_type": "stream",
     "text": [
      "Paraphrases generated successfully after 0 attempts.\n"
     ]
    },
    {
     "name": "stderr",
     "output_type": "stream",
     "text": [
      "\n",
      "Attempt 1:   0%|                                          | 0/5 [00:00<?, ?it/s]\u001b[A\n",
      "\n",
      "Retrying generation for current utterance:   0%|          | 0/6 [00:00<?, ?it/s]\u001b[A\u001b[A\n",
      "\n",
      "Retrying generation for current utterance:  17%|▎ | 1/6 [00:37<03:06, 37.27s/it]\u001b[A\u001b[A\n",
      "\n",
      "Retrying generation for current utterance:  33%|▋ | 2/6 [01:00<01:57, 29.26s/it]\u001b[A\u001b[A\n",
      "\n",
      "Retrying generation for current utterance:  50%|█ | 3/6 [01:36<01:35, 31.94s/it]\u001b[A\u001b[A\n",
      "\n",
      "                                                                                \u001b[A\u001b[A\n",
      " 82%|██████████████████████████████▎      | 82/100 [5:33:02<1:01:53, 206.28s/it]\u001b[A"
     ]
    },
    {
     "name": "stdout",
     "output_type": "stream",
     "text": [
      "Paraphrases generated successfully after 0 attempts.\n"
     ]
    },
    {
     "name": "stderr",
     "output_type": "stream",
     "text": [
      "\n",
      "Attempt 1:   0%|                                          | 0/5 [00:00<?, ?it/s]\u001b[A\n",
      "\n",
      "Retrying generation for current utterance:   0%|          | 0/6 [00:00<?, ?it/s]\u001b[A\u001b[A\n",
      "\n",
      "                                                                                \u001b[A\u001b[A\n",
      "Attempt 1:   0%| | 0/5 [00:06<?, ?it/s, status=Retry: Some paraphrases contain n\u001b[A\n",
      "Attempt 1:  20%|▏| 1/5 [00:06<00:26,  6.53s/it, status=Retry: Some paraphrases c\u001b[A"
     ]
    },
    {
     "name": "stdout",
     "output_type": "stream",
     "text": [
      "Paraphrases generated successfully after 0 attempts.\n"
     ]
    },
    {
     "name": "stderr",
     "output_type": "stream",
     "text": [
      "\n",
      "\n",
      "Retrying generation for current utterance:   0%|          | 0/6 [00:00<?, ?it/s]\u001b[A\u001b[A\n",
      "\n",
      "                                                                                \u001b[A\u001b[A\n",
      " 83%|████████████████████████████████▎      | 83/100 [5:33:35<43:41, 154.23s/it]\u001b[A"
     ]
    },
    {
     "name": "stdout",
     "output_type": "stream",
     "text": [
      "Paraphrases generated successfully after 0 attempts.\n"
     ]
    },
    {
     "name": "stderr",
     "output_type": "stream",
     "text": [
      "\n",
      "Attempt 1:   0%|                                          | 0/5 [00:00<?, ?it/s]\u001b[A\n",
      "\n",
      "Retrying generation for current utterance:   0%|          | 0/6 [00:00<?, ?it/s]\u001b[A\u001b[A\n",
      "\n",
      "Retrying generation for current utterance:  17%|▎ | 1/6 [00:23<01:57, 23.45s/it]\u001b[A\u001b[A\n",
      "\n",
      "Retrying generation for current utterance:  33%|▋ | 2/6 [00:39<01:17, 19.35s/it]\u001b[A\u001b[A\n",
      "\n",
      "Retrying generation for current utterance:  50%|█ | 3/6 [00:58<00:56, 18.89s/it]\u001b[A\u001b[A\n",
      "\n",
      "Retrying generation for current utterance:  67%|█▎| 4/6 [01:20<00:40, 20.24s/it]\u001b[A\u001b[A\n",
      "\n",
      "Retrying generation for current utterance:  83%|█▋| 5/6 [01:43<00:21, 21.18s/it]\u001b[A\u001b[A\n",
      "\n",
      "Retrying generation for current utterance: 100%|██| 6/6 [02:07<00:00, 22.30s/it]\u001b[A\u001b[A\n",
      "\n",
      "                                                                                \u001b[A\u001b[A"
     ]
    },
    {
     "name": "stdout",
     "output_type": "stream",
     "text": [
      "Attempt 1: The generated list of paraphrases is empty. Retrying...\n"
     ]
    },
    {
     "name": "stderr",
     "output_type": "stream",
     "text": [
      "\n",
      "\n",
      "Retrying generation for current utterance:   0%|          | 0/6 [00:00<?, ?it/s]\u001b[A\u001b[A\n",
      "\n",
      "                                                                                \u001b[A\u001b[A\n",
      " 84%|████████████████████████████████▊      | 84/100 [5:35:57<40:10, 150.63s/it]\u001b[A"
     ]
    },
    {
     "name": "stdout",
     "output_type": "stream",
     "text": [
      "Paraphrases generated successfully after 1 attempts.\n"
     ]
    },
    {
     "name": "stderr",
     "output_type": "stream",
     "text": [
      "\n",
      "Attempt 1:   0%|                                          | 0/5 [00:00<?, ?it/s]\u001b[A\n",
      "\n",
      "Retrying generation for current utterance:   0%|          | 0/6 [00:00<?, ?it/s]\u001b[A\u001b[A\n",
      "\n",
      "Retrying generation for current utterance:  17%|▎ | 1/6 [00:25<02:09, 25.80s/it]\u001b[A\u001b[A\n",
      "\n",
      "                                                                                \u001b[A\u001b[A\n",
      " 85%|█████████████████████████████████▏     | 85/100 [5:36:39<29:28, 117.91s/it]\u001b[A"
     ]
    },
    {
     "name": "stdout",
     "output_type": "stream",
     "text": [
      "Paraphrases generated successfully after 0 attempts.\n"
     ]
    },
    {
     "name": "stderr",
     "output_type": "stream",
     "text": [
      "\n",
      "Attempt 1:   0%|                                          | 0/5 [00:00<?, ?it/s]\u001b[A\n",
      "\n",
      "Retrying generation for current utterance:   0%|          | 0/6 [00:00<?, ?it/s]\u001b[A\u001b[A\n",
      "\n",
      "                                                                                \u001b[A\u001b[A\n",
      " 86%|██████████████████████████████████▍     | 86/100 [5:36:50<20:05, 86.10s/it]\u001b[A"
     ]
    },
    {
     "name": "stdout",
     "output_type": "stream",
     "text": [
      "Paraphrases generated successfully after 0 attempts.\n"
     ]
    },
    {
     "name": "stderr",
     "output_type": "stream",
     "text": [
      "\n",
      "Attempt 1:   0%|                                          | 0/5 [00:00<?, ?it/s]\u001b[A\n",
      "\n",
      "Retrying generation for current utterance:   0%|          | 0/6 [00:00<?, ?it/s]\u001b[A\u001b[A\n",
      "\n",
      "Retrying generation for current utterance:  17%|▎ | 1/6 [00:18<01:30, 18.13s/it]\u001b[A\u001b[A\n",
      "\n",
      "Retrying generation for current utterance:  33%|▋ | 2/6 [00:38<01:17, 19.27s/it]\u001b[A\u001b[A\n",
      "\n",
      "Retrying generation for current utterance:  50%|█ | 3/6 [01:05<01:08, 22.91s/it]\u001b[A\u001b[A\n",
      "\n",
      "Retrying generation for current utterance:  67%|█▎| 4/6 [01:31<00:48, 24.34s/it]\u001b[A\u001b[A\n",
      "\n",
      "Retrying generation for current utterance:  83%|█▋| 5/6 [01:45<00:20, 20.32s/it]\u001b[A\u001b[A\n",
      "\n",
      "Retrying generation for current utterance: 100%|██| 6/6 [02:08<00:00, 21.32s/it]\u001b[A\u001b[A\n",
      "\n",
      "                                                                                \u001b[A\u001b[A"
     ]
    },
    {
     "name": "stdout",
     "output_type": "stream",
     "text": [
      "Attempt 1: The generated list of paraphrases is empty. Retrying...\n"
     ]
    },
    {
     "name": "stderr",
     "output_type": "stream",
     "text": [
      "\n",
      "\n",
      "Retrying generation for current utterance:   0%|          | 0/6 [00:00<?, ?it/s]\u001b[A\u001b[A\n",
      "\n",
      "Retrying generation for current utterance:  17%|▎ | 1/6 [00:18<01:34, 18.92s/it]\u001b[A\u001b[A\n",
      "\n",
      "Retrying generation for current utterance:  33%|▋ | 2/6 [00:42<01:27, 21.76s/it]\u001b[A\u001b[A\n",
      "\n",
      "Retrying generation for current utterance:  50%|█ | 3/6 [00:51<00:47, 15.85s/it]\u001b[A\u001b[A\n",
      "\n",
      "                                                                                \u001b[A\u001b[A\n",
      " 87%|█████████████████████████████████▉     | 87/100 [5:40:16<26:24, 121.87s/it]\u001b[A"
     ]
    },
    {
     "name": "stdout",
     "output_type": "stream",
     "text": [
      "Paraphrases generated successfully after 1 attempts.\n"
     ]
    },
    {
     "name": "stderr",
     "output_type": "stream",
     "text": [
      "\n",
      "Attempt 1:   0%|                                          | 0/5 [00:00<?, ?it/s]\u001b[A\n",
      "\n",
      "Retrying generation for current utterance:   0%|          | 0/6 [00:00<?, ?it/s]\u001b[A\u001b[A\n",
      "\n",
      "Retrying generation for current utterance:  17%|▎ | 1/6 [00:33<02:49, 33.99s/it]\u001b[A\u001b[A\n",
      "\n",
      "Retrying generation for current utterance:  33%|▋ | 2/6 [00:59<01:56, 29.24s/it]\u001b[A\u001b[A\n",
      "\n",
      "Retrying generation for current utterance:  50%|█ | 3/6 [01:13<01:06, 22.06s/it]\u001b[A\u001b[A\n",
      "\n",
      "Retrying generation for current utterance:  67%|█▎| 4/6 [01:44<00:51, 25.80s/it]\u001b[A\u001b[A\n",
      "\n",
      "Retrying generation for current utterance:  83%|█▋| 5/6 [02:28<00:32, 32.12s/it]\u001b[A\u001b[A\n",
      "\n",
      "Retrying generation for current utterance: 100%|██| 6/6 [02:53<00:00, 29.73s/it]\u001b[A\u001b[A\n",
      "\n",
      "                                                                                \u001b[A\u001b[A"
     ]
    },
    {
     "name": "stdout",
     "output_type": "stream",
     "text": [
      "Attempt 1: The generated list of paraphrases is empty. Retrying...\n"
     ]
    },
    {
     "name": "stderr",
     "output_type": "stream",
     "text": [
      "\n",
      "\n",
      "Retrying generation for current utterance:   0%|          | 0/6 [00:00<?, ?it/s]\u001b[A\u001b[A\n",
      "\n",
      "Retrying generation for current utterance:  17%|▎ | 1/6 [00:25<02:08, 25.78s/it]\u001b[A\u001b[A\n",
      "\n",
      "Retrying generation for current utterance:  33%|▋ | 2/6 [00:55<01:52, 28.20s/it]\u001b[A\u001b[A\n",
      "\n",
      "Retrying generation for current utterance:  50%|█ | 3/6 [01:21<01:21, 27.20s/it]\u001b[A\u001b[A\n",
      "\n",
      "Retrying generation for current utterance:  67%|█▎| 4/6 [01:41<00:48, 24.47s/it]\u001b[A\u001b[A\n",
      "\n",
      "Retrying generation for current utterance:  83%|█▋| 5/6 [02:04<00:23, 23.62s/it]\u001b[A\u001b[A\n",
      "\n",
      "Retrying generation for current utterance: 100%|██| 6/6 [02:29<00:00, 24.15s/it]\u001b[A\u001b[A\n",
      "\n",
      "                                                                                \u001b[A\u001b[A"
     ]
    },
    {
     "name": "stdout",
     "output_type": "stream",
     "text": [
      "Attempt 2: The generated list of paraphrases is empty. Retrying...\n"
     ]
    },
    {
     "name": "stderr",
     "output_type": "stream",
     "text": [
      "\n",
      "\n",
      "Retrying generation for current utterance:   0%|          | 0/6 [00:00<?, ?it/s]\u001b[A\u001b[A\n",
      "\n",
      "                                                                                \u001b[A\u001b[A\n",
      " 88%|██████████████████████████████████▎    | 88/100 [5:45:57<37:33, 187.76s/it]\u001b[A"
     ]
    },
    {
     "name": "stdout",
     "output_type": "stream",
     "text": [
      "Paraphrases generated successfully after 2 attempts.\n"
     ]
    },
    {
     "name": "stderr",
     "output_type": "stream",
     "text": [
      "\n",
      "Attempt 1:   0%|                                          | 0/5 [00:00<?, ?it/s]\u001b[A\n",
      "\n",
      "Retrying generation for current utterance:   0%|          | 0/6 [00:00<?, ?it/s]\u001b[A\u001b[A\n",
      "\n",
      "Retrying generation for current utterance:  17%|▎ | 1/6 [00:20<01:43, 20.73s/it]\u001b[A\u001b[A\n",
      "\n",
      "Retrying generation for current utterance:  33%|▋ | 2/6 [01:17<02:48, 42.18s/it]\u001b[A\u001b[A\n",
      "\n",
      "                                                                                \u001b[A\u001b[A\n",
      " 89%|██████████████████████████████████▋    | 89/100 [5:47:41<29:47, 162.52s/it]\u001b[A"
     ]
    },
    {
     "name": "stdout",
     "output_type": "stream",
     "text": [
      "Paraphrases generated successfully after 0 attempts.\n"
     ]
    },
    {
     "name": "stderr",
     "output_type": "stream",
     "text": [
      "\n",
      "Attempt 1:   0%|                                          | 0/5 [00:00<?, ?it/s]\u001b[A\n",
      "\n",
      "Retrying generation for current utterance:   0%|          | 0/6 [00:00<?, ?it/s]\u001b[A\u001b[A\n",
      "\n",
      "Retrying generation for current utterance:  17%|▎ | 1/6 [00:25<02:09, 25.90s/it]\u001b[A\u001b[A\n",
      "\n",
      "Retrying generation for current utterance:  33%|▋ | 2/6 [00:36<01:07, 17.00s/it]\u001b[A\u001b[A\n",
      "\n",
      "Retrying generation for current utterance:  50%|█ | 3/6 [00:47<00:41, 14.00s/it]\u001b[A\u001b[A\n",
      "\n",
      "Retrying generation for current utterance:  67%|█▎| 4/6 [00:58<00:25, 12.89s/it]\u001b[A\u001b[A\n",
      "\n",
      "Retrying generation for current utterance:  83%|█▋| 5/6 [01:13<00:13, 13.57s/it]\u001b[A\u001b[A\n",
      "\n",
      "Retrying generation for current utterance: 100%|██| 6/6 [01:33<00:00, 15.87s/it]\u001b[A\u001b[A\n",
      "\n",
      "                                                                                \u001b[A\u001b[A"
     ]
    },
    {
     "name": "stdout",
     "output_type": "stream",
     "text": [
      "Attempt 1: The generated list of paraphrases is empty. Retrying...\n"
     ]
    },
    {
     "name": "stderr",
     "output_type": "stream",
     "text": [
      "\n",
      "\n",
      "Retrying generation for current utterance:   0%|          | 0/6 [00:00<?, ?it/s]\u001b[A\u001b[A\n",
      "\n",
      "                                                                                \u001b[A\u001b[A\n",
      " 90%|███████████████████████████████████    | 90/100 [5:49:47<25:15, 151.52s/it]\u001b[A"
     ]
    },
    {
     "name": "stdout",
     "output_type": "stream",
     "text": [
      "Paraphrases generated successfully after 1 attempts.\n"
     ]
    },
    {
     "name": "stderr",
     "output_type": "stream",
     "text": [
      "\n",
      "Attempt 1:   0%|                                          | 0/5 [00:00<?, ?it/s]\u001b[A\n",
      "\n",
      "Retrying generation for current utterance:   0%|          | 0/6 [00:00<?, ?it/s]\u001b[A\u001b[A\n",
      "\n",
      "Retrying generation for current utterance:  17%|▎ | 1/6 [00:23<01:57, 23.56s/it]\u001b[A\u001b[A\n",
      "\n",
      "Retrying generation for current utterance:  33%|▋ | 2/6 [01:26<03:07, 46.99s/it]\u001b[A\u001b[A\n",
      "\n",
      "Retrying generation for current utterance:  50%|█ | 3/6 [01:47<01:44, 34.74s/it]\u001b[A\u001b[A\n",
      "\n",
      "Retrying generation for current utterance:  67%|█▎| 4/6 [02:04<00:56, 28.02s/it]\u001b[A\u001b[A\n",
      "\n",
      "Retrying generation for current utterance:  83%|█▋| 5/6 [02:27<00:26, 26.26s/it]\u001b[A\u001b[A\n",
      "\n",
      "Retrying generation for current utterance: 100%|██| 6/6 [02:41<00:00, 22.00s/it]\u001b[A\u001b[A\n",
      "\n",
      "                                                                                \u001b[A\u001b[A"
     ]
    },
    {
     "name": "stdout",
     "output_type": "stream",
     "text": [
      "Attempt 1: The generated list of paraphrases is empty. Retrying...\n"
     ]
    },
    {
     "name": "stderr",
     "output_type": "stream",
     "text": [
      "\n",
      "\n",
      "Retrying generation for current utterance:   0%|          | 0/6 [00:00<?, ?it/s]\u001b[A\u001b[A\n",
      "\n",
      "                                                                                \u001b[A\u001b[A\n",
      " 91%|███████████████████████████████████▍   | 91/100 [5:52:53<24:17, 161.97s/it]\u001b[A"
     ]
    },
    {
     "name": "stdout",
     "output_type": "stream",
     "text": [
      "Paraphrases generated successfully after 1 attempts.\n"
     ]
    },
    {
     "name": "stderr",
     "output_type": "stream",
     "text": [
      "\n",
      "Attempt 1:   0%|                                          | 0/5 [00:00<?, ?it/s]\u001b[A\n",
      "\n",
      "Retrying generation for current utterance:   0%|          | 0/6 [00:00<?, ?it/s]\u001b[A\u001b[A\n",
      "\n",
      "                                                                                \u001b[A\u001b[A\n",
      " 92%|███████████████████████████████████▉   | 92/100 [5:53:11<15:49, 118.70s/it]\u001b[A"
     ]
    },
    {
     "name": "stdout",
     "output_type": "stream",
     "text": [
      "Paraphrases generated successfully after 0 attempts.\n"
     ]
    },
    {
     "name": "stderr",
     "output_type": "stream",
     "text": [
      "\n",
      "Attempt 1:   0%|                                          | 0/5 [00:00<?, ?it/s]\u001b[A\n",
      "\n",
      "Retrying generation for current utterance:   0%|          | 0/6 [00:00<?, ?it/s]\u001b[A\u001b[A\n",
      "\n",
      "Retrying generation for current utterance:  17%|▎ | 1/6 [00:20<01:43, 20.68s/it]\u001b[A\u001b[A\n",
      "\n",
      "Retrying generation for current utterance:  33%|▋ | 2/6 [00:34<01:07, 16.89s/it]\u001b[A\u001b[A\n",
      "\n",
      "Retrying generation for current utterance:  50%|█ | 3/6 [01:02<01:05, 21.90s/it]\u001b[A\u001b[A\n",
      "\n",
      "Retrying generation for current utterance:  67%|█▎| 4/6 [01:28<00:47, 23.52s/it]\u001b[A\u001b[A\n",
      "\n",
      "Retrying generation for current utterance:  83%|█▋| 5/6 [01:43<00:20, 20.47s/it]\u001b[A\u001b[A\n",
      "\n",
      "Retrying generation for current utterance: 100%|██| 6/6 [02:05<00:00, 20.85s/it]\u001b[A\u001b[A\n",
      "\n",
      "                                                                                \u001b[A\u001b[A"
     ]
    },
    {
     "name": "stdout",
     "output_type": "stream",
     "text": [
      "Attempt 1: The generated list of paraphrases is empty. Retrying...\n"
     ]
    },
    {
     "name": "stderr",
     "output_type": "stream",
     "text": [
      "\n",
      "\n",
      "Retrying generation for current utterance:   0%|          | 0/6 [00:00<?, ?it/s]\u001b[A\u001b[A\n",
      "\n",
      "                                                                                \u001b[A\u001b[A\n",
      "Attempt 1:   0%| | 0/5 [02:27<?, ?it/s, status=Retry: Some paraphrases contain n\u001b[A\n",
      "Attempt 1:  20%|▏| 1/5 [02:27<09:48, 147.23s/it, status=Retry: Some paraphrases \u001b[A"
     ]
    },
    {
     "name": "stdout",
     "output_type": "stream",
     "text": [
      "Paraphrases generated successfully after 1 attempts.\n"
     ]
    },
    {
     "name": "stderr",
     "output_type": "stream",
     "text": [
      "\n",
      "\n",
      "Retrying generation for current utterance:   0%|          | 0/6 [00:00<?, ?it/s]\u001b[A\u001b[A\n",
      "\n",
      "Retrying generation for current utterance:  17%|▎ | 1/6 [00:24<02:02, 24.59s/it]\u001b[A\u001b[A\n",
      "\n",
      "Retrying generation for current utterance:  33%|▋ | 2/6 [01:28<03:11, 47.83s/it]\u001b[A\u001b[A\n",
      "\n",
      "Retrying generation for current utterance:  50%|█ | 3/6 [02:13<02:19, 46.52s/it]\u001b[A\u001b[A\n",
      "\n",
      "Retrying generation for current utterance:  67%|█▎| 4/6 [02:32<01:10, 35.43s/it]\u001b[A\u001b[A\n",
      "\n",
      "Retrying generation for current utterance:  83%|█▋| 5/6 [02:51<00:29, 29.48s/it]\u001b[A\u001b[A\n",
      "\n",
      "Retrying generation for current utterance: 100%|██| 6/6 [03:18<00:00, 28.76s/it]\u001b[A\u001b[A\n",
      "\n",
      "                                                                                \u001b[A\u001b[A"
     ]
    },
    {
     "name": "stdout",
     "output_type": "stream",
     "text": [
      "Attempt 1: The generated list of paraphrases is empty. Retrying...\n"
     ]
    },
    {
     "name": "stderr",
     "output_type": "stream",
     "text": [
      "\n",
      "\n",
      "Retrying generation for current utterance:   0%|          | 0/6 [00:00<?, ?it/s]\u001b[A\u001b[A\n",
      "\n",
      "Retrying generation for current utterance:  17%|▎ | 1/6 [00:22<01:51, 22.30s/it]\u001b[A\u001b[A"
     ]
    },
    {
     "name": "stdout",
     "output_type": "stream",
     "text": [
      "Request timed out. Retrying in 3 seconds...\n"
     ]
    },
    {
     "name": "stderr",
     "output_type": "stream",
     "text": [
      "\n",
      "\n",
      "Retrying generation for current utterance:  33%|▎| 2/6 [10:25<24:15, 363.95s/it]\u001b[A\u001b[A\n",
      "\n",
      "Retrying generation for current utterance:  50%|▌| 3/6 [10:48<10:25, 208.50s/it]\u001b[A\u001b[A\n",
      "\n",
      "                                                                                \u001b[A\u001b[A\n",
      " 93%|████████████████████████████████████▎  | 93/100 [6:10:11<45:23, 389.09s/it]\u001b[A"
     ]
    },
    {
     "name": "stdout",
     "output_type": "stream",
     "text": [
      "Paraphrases generated successfully after 1 attempts.\n"
     ]
    },
    {
     "name": "stderr",
     "output_type": "stream",
     "text": [
      "\n",
      "Attempt 1:   0%|                                          | 0/5 [00:00<?, ?it/s]\u001b[A\n",
      "\n",
      "Retrying generation for current utterance:   0%|          | 0/6 [00:00<?, ?it/s]\u001b[A\u001b[A\n",
      "\n",
      "Retrying generation for current utterance:  17%|▎ | 1/6 [00:12<01:03, 12.70s/it]\u001b[A\u001b[A\n",
      "\n",
      "Retrying generation for current utterance:  33%|▋ | 2/6 [00:22<00:44, 11.19s/it]\u001b[A\u001b[A\n",
      "\n",
      "                                                                                \u001b[A\u001b[A\n",
      " 94%|████████████████████████████████████▋  | 94/100 [6:10:52<28:29, 284.84s/it]\u001b[A"
     ]
    },
    {
     "name": "stdout",
     "output_type": "stream",
     "text": [
      "Paraphrases generated successfully after 0 attempts.\n"
     ]
    },
    {
     "name": "stderr",
     "output_type": "stream",
     "text": [
      "\n",
      "Attempt 1:   0%|                                          | 0/5 [00:00<?, ?it/s]\u001b[A\n",
      "\n",
      "Retrying generation for current utterance:   0%|          | 0/6 [00:00<?, ?it/s]\u001b[A\u001b[A\n",
      "\n",
      "Retrying generation for current utterance:  17%|▎ | 1/6 [00:16<01:23, 16.69s/it]\u001b[A\u001b[A\n",
      "\n",
      "Retrying generation for current utterance:  33%|▋ | 2/6 [00:57<02:03, 30.85s/it]\u001b[A\u001b[A\n",
      "\n",
      "Retrying generation for current utterance:  50%|█ | 3/6 [01:08<01:05, 21.81s/it]\u001b[A\u001b[A\n",
      "\n",
      "Retrying generation for current utterance:  67%|█▎| 4/6 [01:38<00:50, 25.21s/it]\u001b[A\u001b[A\n",
      "\n",
      "Retrying generation for current utterance:  83%|█▋| 5/6 [01:59<00:23, 23.58s/it]\u001b[A\u001b[A\n",
      "\n",
      "Retrying generation for current utterance: 100%|██| 6/6 [02:21<00:00, 22.91s/it]\u001b[A\u001b[A\n",
      "\n",
      "                                                                                \u001b[A\u001b[A"
     ]
    },
    {
     "name": "stdout",
     "output_type": "stream",
     "text": [
      "Attempt 1: The generated list of paraphrases is empty. Retrying...\n"
     ]
    },
    {
     "name": "stderr",
     "output_type": "stream",
     "text": [
      "\n",
      "\n",
      "Retrying generation for current utterance:   0%|          | 0/6 [00:00<?, ?it/s]\u001b[A\u001b[A\n",
      "\n",
      "Retrying generation for current utterance:  17%|▎ | 1/6 [00:26<02:14, 26.81s/it]\u001b[A\u001b[A\n",
      "\n",
      "Retrying generation for current utterance:  33%|▋ | 2/6 [00:50<01:38, 24.71s/it]\u001b[A\u001b[A\n",
      "\n",
      "Retrying generation for current utterance:  50%|█ | 3/6 [01:07<01:04, 21.61s/it]\u001b[A\u001b[A\n",
      "\n",
      "Retrying generation for current utterance:  67%|█▎| 4/6 [01:31<00:44, 22.30s/it]\u001b[A\u001b[A\n",
      "\n",
      "                                                                                \u001b[A\u001b[A\n",
      "Attempt 1:   0%| | 0/5 [04:06<?, ?it/s, status=Retry: Some paraphrases contain n\u001b[A\n",
      "Attempt 1:  20%|▏| 1/5 [04:06<16:26, 246.57s/it, status=Retry: Some paraphrases \u001b[A"
     ]
    },
    {
     "name": "stdout",
     "output_type": "stream",
     "text": [
      "Paraphrases generated successfully after 1 attempts.\n"
     ]
    },
    {
     "name": "stderr",
     "output_type": "stream",
     "text": [
      "\n",
      "\n",
      "Retrying generation for current utterance:   0%|          | 0/6 [00:00<?, ?it/s]\u001b[A\u001b[A\n",
      "\n",
      "                                                                                \u001b[A\u001b[A\n",
      " 95%|█████████████████████████████████████  | 95/100 [6:15:18<23:15, 279.01s/it]\u001b[A"
     ]
    },
    {
     "name": "stdout",
     "output_type": "stream",
     "text": [
      "Paraphrases generated successfully after 0 attempts.\n"
     ]
    },
    {
     "name": "stderr",
     "output_type": "stream",
     "text": [
      "\n",
      "Attempt 1:   0%|                                          | 0/5 [00:00<?, ?it/s]\u001b[A\n",
      "\n",
      "Retrying generation for current utterance:   0%|          | 0/6 [00:00<?, ?it/s]\u001b[A\u001b[A\n",
      "\n",
      "Retrying generation for current utterance:  17%|▎ | 1/6 [00:49<04:09, 49.86s/it]\u001b[A\u001b[A\n",
      "\n",
      "                                                                                \u001b[A\u001b[A\n",
      " 96%|█████████████████████████████████████▍ | 96/100 [6:16:32<14:30, 217.52s/it]\u001b[A"
     ]
    },
    {
     "name": "stdout",
     "output_type": "stream",
     "text": [
      "Paraphrases generated successfully after 0 attempts.\n"
     ]
    },
    {
     "name": "stderr",
     "output_type": "stream",
     "text": [
      "\n",
      "Attempt 1:   0%|                                          | 0/5 [00:00<?, ?it/s]\u001b[A\n",
      "\n",
      "Retrying generation for current utterance:   0%|          | 0/6 [00:00<?, ?it/s]\u001b[A\u001b[A\n",
      "\n",
      "Retrying generation for current utterance:  17%|▎ | 1/6 [00:18<01:33, 18.74s/it]\u001b[A\u001b[A\n",
      "\n",
      "Retrying generation for current utterance:  33%|▋ | 2/6 [00:46<01:35, 23.92s/it]\u001b[A\u001b[A\n",
      "\n",
      "                                                                                \u001b[A\u001b[A\n",
      " 97%|█████████████████████████████████████▊ | 97/100 [6:17:39<08:37, 172.45s/it]\u001b[A"
     ]
    },
    {
     "name": "stdout",
     "output_type": "stream",
     "text": [
      "Paraphrases generated successfully after 0 attempts.\n"
     ]
    },
    {
     "name": "stderr",
     "output_type": "stream",
     "text": [
      "\n",
      "Attempt 1:   0%|                                          | 0/5 [00:00<?, ?it/s]\u001b[A\n",
      "\n",
      "Retrying generation for current utterance:   0%|          | 0/6 [00:00<?, ?it/s]\u001b[A\u001b[A\n",
      "\n",
      "                                                                                \u001b[A\u001b[A\n",
      " 98%|██████████████████████████████████████▏| 98/100 [6:18:13<04:21, 130.88s/it]\u001b[A"
     ]
    },
    {
     "name": "stdout",
     "output_type": "stream",
     "text": [
      "Paraphrases generated successfully after 0 attempts.\n"
     ]
    },
    {
     "name": "stderr",
     "output_type": "stream",
     "text": [
      "\n",
      "Attempt 1:   0%|                                          | 0/5 [00:00<?, ?it/s]\u001b[A\n",
      "\n",
      "Retrying generation for current utterance:   0%|          | 0/6 [00:00<?, ?it/s]\u001b[A\u001b[A\n",
      "\n",
      "                                                                                \u001b[A\u001b[A\n",
      "Attempt 1:   0%| | 0/5 [00:38<?, ?it/s, status=Retry: Some paraphrases contain n\u001b[A\n",
      "Attempt 1:  20%|▏| 1/5 [00:38<02:32, 38.08s/it, status=Retry: Some paraphrases c\u001b[A"
     ]
    },
    {
     "name": "stdout",
     "output_type": "stream",
     "text": [
      "Paraphrases generated successfully after 0 attempts.\n"
     ]
    },
    {
     "name": "stderr",
     "output_type": "stream",
     "text": [
      "\n",
      "\n",
      "Retrying generation for current utterance:   0%|          | 0/6 [00:00<?, ?it/s]\u001b[A\u001b[A\n",
      "\n",
      "Retrying generation for current utterance:  17%|▎ | 1/6 [00:14<01:13, 14.65s/it]\u001b[A\u001b[A\n",
      "\n",
      "Retrying generation for current utterance:  33%|▋ | 2/6 [00:37<01:17, 19.40s/it]\u001b[A\u001b[A\n",
      "\n",
      "                                                                                \u001b[A\u001b[A\n",
      " 99%|██████████████████████████████████████▌| 99/100 [6:19:55<02:02, 122.12s/it]\u001b[A"
     ]
    },
    {
     "name": "stdout",
     "output_type": "stream",
     "text": [
      "Paraphrases generated successfully after 0 attempts.\n"
     ]
    },
    {
     "name": "stderr",
     "output_type": "stream",
     "text": [
      "\n",
      "Attempt 1:   0%|                                          | 0/5 [00:00<?, ?it/s]\u001b[A\n",
      "\n",
      "Retrying generation for current utterance:   0%|          | 0/6 [00:00<?, ?it/s]\u001b[A\u001b[A\n",
      "\n",
      "                                                                                \u001b[A\u001b[A\n",
      "100%|██████████████████████████████████████| 100/100 [6:20:33<00:00, 228.33s/it]\u001b[A"
     ]
    },
    {
     "name": "stdout",
     "output_type": "stream",
     "text": [
      "Paraphrases generated successfully after 0 attempts.\n",
      "\n",
      "Paraphrasing has been successfully accomplished.\n",
      "\n"
     ]
    },
    {
     "name": "stderr",
     "output_type": "stream",
     "text": [
      "\n"
     ]
    }
   ],
   "source": [
    "# Randomly samples 100 rows from the dataFrame.\n",
    "sampled_restaurant_df = df_restaurant.sample(n=100, replace=False)\n",
    "sampled_restaurant_df.reset_index(drop=True, inplace=True)\n",
    "\n",
    "run_generation(sampled_restaurant_df,\"GPT_restaurant.csv\")"
   ]
  }
 ],
 "metadata": {
  "kernelspec": {
   "display_name": "Python 3 (ipykernel)",
   "language": "python",
   "name": "python3"
  },
  "language_info": {
   "codemirror_mode": {
    "name": "ipython",
    "version": 3
   },
   "file_extension": ".py",
   "mimetype": "text/x-python",
   "name": "python",
   "nbconvert_exporter": "python",
   "pygments_lexer": "ipython3",
   "version": "3.10.8"
  }
 },
 "nbformat": 4,
 "nbformat_minor": 5
}
